{
 "cells": [
  {
   "cell_type": "markdown",
   "metadata": {},
   "source": [
    "## Importanción de datos"
   ]
  },
  {
   "cell_type": "code",
   "execution_count": 3,
   "metadata": {
    "tags": [
     "parameters"
    ]
   },
   "outputs": [],
   "source": [
    "mes_datos=\"2022-1\"\n",
    "archivo_final = \"datos-completos.csv\""
   ]
  },
  {
   "cell_type": "code",
   "execution_count": 4,
   "metadata": {},
   "outputs": [],
   "source": [
    "from os.path import exists"
   ]
  },
  {
   "cell_type": "code",
   "execution_count": 20,
   "metadata": {},
   "outputs": [
    {
     "name": "stdout",
     "output_type": "stream",
     "text": [
      "File already downloaded\n"
     ]
    }
   ],
   "source": [
    "if (not exists(f'{mes_datos}.zip')) and (not exists(f'{mes_datos}.csv')): \n",
    "    ! wget https://transparenciachc.blob.core.windows.net/oc-da/{mes_datos}.zip\n",
    "else:\n",
    "    print(\"File already downloaded\")"
   ]
  },
  {
   "cell_type": "code",
   "execution_count": 12,
   "metadata": {},
   "outputs": [
    {
     "name": "stdout",
     "output_type": "stream",
     "text": [
      "2022-1.zip    importar-mes.ipynb\r\n",
      "2022-1.zip.1  Obligatorio_Francisco_Rossi_Ivan_Monjardin.ipynb\r\n"
     ]
    }
   ],
   "source": [
    "! ls"
   ]
  },
  {
   "cell_type": "code",
   "execution_count": 17,
   "metadata": {},
   "outputs": [
    {
     "name": "stdout",
     "output_type": "stream",
     "text": [
      "File already unzipped\n"
     ]
    }
   ],
   "source": [
    "if not exists(f'{mes_datos}.csv'):\n",
    "    ! unzip -o {mes_datos}.zip \n",
    "else:\n",
    "    print(\"File already unzipped\")"
   ]
  },
  {
   "cell_type": "code",
   "execution_count": 18,
   "metadata": {},
   "outputs": [
    {
     "name": "stdout",
     "output_type": "stream",
     "text": [
      "2022-1.csv  importar-mes.ipynb\r\n",
      "2022-1.zip  Obligatorio_Francisco_Rossi_Ivan_Monjardin.ipynb\r\n"
     ]
    }
   ],
   "source": [
    "! ls"
   ]
  },
  {
   "cell_type": "code",
   "execution_count": 19,
   "metadata": {},
   "outputs": [],
   "source": [
    "! rm  {mes_datos}.zip  "
   ]
  },
  {
   "cell_type": "code",
   "execution_count": 21,
   "metadata": {},
   "outputs": [
    {
     "name": "stdout",
     "output_type": "stream",
     "text": [
      "2022-1.csv  Obligatorio_Francisco_Rossi_Ivan_Monjardin.ipynb\r\n"
     ]
    }
   ],
   "source": [
    "! ls"
   ]
  },
  {
   "cell_type": "markdown",
   "metadata": {},
   "source": [
    "## Limpieza archivo CVS"
   ]
  },
  {
   "cell_type": "markdown",
   "metadata": {},
   "source": [
    "Algunos valores incluyen \"Enters\" adentro de los valores, por lo tanto vamos a eliminarlos para que se lea bien el csv"
   ]
  },
  {
   "cell_type": "code",
   "execution_count": 22,
   "metadata": {},
   "outputs": [],
   "source": [
    "def valid_csv_line (line, quote_char, col_quanity):\n",
    "    num_of_col = 1\n",
    "    is_inside_quotes = False\n",
    "    for char in line:\n",
    "        if char == quote_char:\n",
    "            is_inside_quotes = not is_inside_quotes\n",
    "        else:\n",
    "            if char == \";\" and (not is_inside_quotes):\n",
    "                num_of_col = num_of_col + 1\n",
    "                if num_of_col > col_quanity:\n",
    "                    return False\n",
    "                \n",
    "    return num_of_col == col_quanity\n",
    "            "
   ]
  },
  {
   "cell_type": "markdown",
   "metadata": {},
   "source": [
    "Arregla filas incorrectas con \"enters\" por la mitad"
   ]
  },
  {
   "cell_type": "code",
   "execution_count": 23,
   "metadata": {},
   "outputs": [],
   "source": [
    "archivoInicial = open(f'{mes_datos}.csv', 'r', encoding='ISO-8859-1')\n",
    "import os\n",
    "\n",
    "archivoFinal = open(f'{archivo_final}', 'a+', encoding='ISO-8859-1' )\n",
    "Lines = archivoInicial.readlines()\n",
    "\n",
    "original_lines_count = 0 \n",
    "final_lines_count = 0\n",
    "\n",
    "correct_new_line = \"\"\n",
    "for line in Lines:\n",
    "    original_lines_count += 1\n",
    "    \n",
    "    correct_new_line = correct_new_line + line.rstrip()\n",
    "    \n",
    "    if valid_csv_line(correct_new_line,\"\\\"\",78):\n",
    "        archivoFinal.writelines(correct_new_line + '\\n')\n",
    "\n",
    "        correct_new_line = \"\"\n",
    "        final_lines_count +=1\n",
    "\n",
    "print(f'Source file lines quantity: {original_lines_count}')\n",
    "print(f'Final file lines quantity: {final_lines_count}')"
   ]
  },
  {
   "cell_type": "code",
   "execution_count": 26,
   "metadata": {},
   "outputs": [],
   "source": [
    "archivoInicial.close()\n",
    "archivoFinal.close()"
   ]
  },
  {
   "cell_type": "code",
   "execution_count": null,
   "metadata": {},
   "outputs": [],
   "source": [
    "# Opcional\n",
    "# rm  {mes_datos}.csv  "
   ]
  }
 ],
 "metadata": {
  "celltoolbar": "Tags",
  "kernelspec": {
   "display_name": "Python 3",
   "language": "python",
   "name": "python3"
  },
  "language_info": {
   "codemirror_mode": {
    "name": "ipython",
    "version": 3
   },
   "file_extension": ".py",
   "mimetype": "text/x-python",
   "name": "python",
   "nbconvert_exporter": "python",
   "pygments_lexer": "ipython3",
   "version": "3.7.3"
  }
 },
 "nbformat": 4,
 "nbformat_minor": 2
}
