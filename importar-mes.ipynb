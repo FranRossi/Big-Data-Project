{
 "cells": [
  {
   "cell_type": "markdown",
   "metadata": {},
   "source": [
    "## Importanción de datos"
   ]
  },
  {
   "cell_type": "code",
   "execution_count": null,
   "metadata": {
    "tags": [
     "parameters"
    ],
    "vscode": {
     "languageId": "python"
    }
   },
   "outputs": [
    {
     "ename": "",
     "evalue": "",
     "output_type": "error",
     "traceback": [
      "\u001b[1;31mFailed to start the Kernel. \n",
      "Kernel Python 3 is not usable. Check the Jupyter output tab for more information. \n",
      "View Jupyter <a href='command:jupyter.viewOutput'>log</a> for further details."
     ]
    }
   ],
   "source": [
    "mes_datos=\"2022-1\"\n",
    "archivo_final = \"datos-completos.csv\""
   ]
  },
  {
   "cell_type": "code",
   "execution_count": 11,
   "metadata": {
    "vscode": {
     "languageId": "python"
    }
   },
   "outputs": [
    {
     "name": "stdout",
     "output_type": "stream",
     "text": [
      "--2022-05-28 23:01:36--  https://transparenciachc.blob.core.windows.net/oc-da/2022-1.zip\n",
      "Resolving transparenciachc.blob.core.windows.net (transparenciachc.blob.core.windows.net)... 52.226.8.148\n",
      "Connecting to transparenciachc.blob.core.windows.net (transparenciachc.blob.core.windows.net)|52.226.8.148|:443... connected.\n",
      "HTTP request sent, awaiting response... 200 OK\n",
      "Length: 59080491 (56M) [application/zip]\n",
      "Saving to: ‘2022-1.zip’\n",
      "\n",
      "2022-1.zip          100%[===================>]  56.34M  2.33MB/s    in 17s     \n",
      "\n",
      "2022-05-28 23:01:54 (3.32 MB/s) - ‘2022-1.zip’ saved [59080491/59080491]\n",
      "\n"
     ]
    }
   ],
   "source": [
    "! wget https://transparenciachc.blob.core.windows.net/oc-da/{mes_datos}.zip"
   ]
  },
  {
   "cell_type": "code",
   "execution_count": 12,
   "metadata": {
    "vscode": {
     "languageId": "python"
    }
   },
   "outputs": [
    {
     "name": "stdout",
     "output_type": "stream",
     "text": [
      "2022-1.zip  Obligatorio_Francisco_Rossi_Ivan_Monjardin.ipynb\r\n"
     ]
    }
   ],
   "source": [
    "! ls"
   ]
  },
  {
   "cell_type": "code",
   "execution_count": 18,
   "metadata": {
    "vscode": {
     "languageId": "python"
    }
   },
   "outputs": [
    {
     "name": "stdout",
     "output_type": "stream",
     "text": [
      "Archive:  2022-1.zip\n",
      "  inflating: 2022-1.csv              \n"
     ]
    }
   ],
   "source": [
    "! unzip -o {mes_datos}.zip "
   ]
  },
  {
   "cell_type": "code",
   "execution_count": 19,
   "metadata": {
    "vscode": {
     "languageId": "python"
    }
   },
   "outputs": [
    {
     "name": "stdout",
     "output_type": "stream",
     "text": [
      "2022-1.csv  2022-1.zip\tObligatorio_Francisco_Rossi_Ivan_Monjardin.ipynb\r\n"
     ]
    }
   ],
   "source": [
    "! ls"
   ]
  },
  {
   "cell_type": "code",
   "execution_count": 20,
   "metadata": {
    "vscode": {
     "languageId": "python"
    }
   },
   "outputs": [],
   "source": [
    " rm  {mes_datos}.zip  "
   ]
  },
  {
   "cell_type": "code",
   "execution_count": 21,
   "metadata": {
    "vscode": {
     "languageId": "python"
    }
   },
   "outputs": [
    {
     "name": "stdout",
     "output_type": "stream",
     "text": [
      "2022-1.csv  Obligatorio_Francisco_Rossi_Ivan_Monjardin.ipynb\r\n"
     ]
    }
   ],
   "source": [
    "! ls"
   ]
  },
  {
   "cell_type": "markdown",
   "metadata": {},
   "source": [
    "## Limpieza archivo CVS"
   ]
  },
  {
   "cell_type": "markdown",
   "metadata": {},
   "source": [
    "Algunos valores incluyen \"Enters\" adentro de los valores, por lo tanto vamos a eliminarlos para que se lea bien el csv"
   ]
  },
  {
   "cell_type": "code",
   "execution_count": 22,
   "metadata": {
    "vscode": {
     "languageId": "python"
    }
   },
   "outputs": [],
   "source": [
    "def valid_csv_line (line, quote_char, col_quanity):\n",
    "    num_of_col = 1\n",
    "    is_inside_quotes = False\n",
    "    for char in line:\n",
    "        if char == quote_char:\n",
    "            is_inside_quotes = not is_inside_quotes\n",
    "        else:\n",
    "            if char == \";\" and (not is_inside_quotes):\n",
    "                num_of_col = num_of_col + 1\n",
    "                if num_of_col > col_quanity:\n",
    "                    return False\n",
    "                \n",
    "    return num_of_col == col_quanity\n",
    "            "
   ]
  },
  {
   "cell_type": "code",
   "execution_count": 13,
   "metadata": {
    "vscode": {
     "languageId": "python"
    }
   },
   "outputs": [],
   "source": [
    "# def valid_csv_line (line, quote_char, col_quantity):\n",
    "#     return line.count(';') >= (col_quantity -1 )"
   ]
  },
  {
   "cell_type": "markdown",
   "metadata": {},
   "source": [
    "Arregla filas incorrectas con \"enters\" por la mitad"
   ]
  },
  {
   "cell_type": "code",
   "execution_count": 23,
   "metadata": {
    "vscode": {
     "languageId": "python"
    }
   },
   "outputs": [],
   "source": [
    "archivoInicial = open(f'{mes_datos}.csv', 'r', encoding='ISO-8859-1')\n",
    "import os\n",
    "\n",
    "archivoFinal = open(f'{archivo_final}', 'a+', encoding='ISO-8859-1' )\n",
    "Lines = archivoInicial.readlines()\n",
    "\n",
    "original_lines_count = 0 \n",
    "final_lines_count = 0\n",
    "\n",
    "correct_new_line = \"\"\n",
    "for line in Lines:\n",
    "    original_lines_count += 1\n",
    "    \n",
    "    correct_new_line = correct_new_line + line.rstrip()\n",
    "    \n",
    "    if valid_csv_line(correct_new_line,\"\\\"\",78):\n",
    "        archivoFinal.writelines(correct_new_line + '\\n')\n",
    "\n",
    "        correct_new_line = \"\"\n",
    "        final_lines_count +=1\n",
    "\n",
    "print(f'Source file lines quantity: {original_lines_count}')\n",
    "print(f'Final file lines quantity: {final_lines_count}')"
   ]
  },
  {
   "cell_type": "code",
   "execution_count": 26,
   "metadata": {
    "vscode": {
     "languageId": "python"
    }
   },
   "outputs": [],
   "source": [
    "archivoInicial.close()\n",
    "archivoFinal.close()"
   ]
  }
 ],
 "metadata": {
  "celltoolbar": "Tags",
  "kernelspec": {
   "display_name": "Python 3",
   "language": "python",
   "name": "python3"
  }
 },
 "nbformat": 4,
 "nbformat_minor": 2
}
