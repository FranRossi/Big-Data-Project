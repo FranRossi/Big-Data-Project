{
 "cells": [
  {
   "cell_type": "code",
   "execution_count": 1,
   "metadata": {
    "scrolled": true
   },
   "outputs": [],
   "source": [
    "from pyspark.sql import SparkSession"
   ]
  },
  {
   "cell_type": "code",
   "execution_count": 2,
   "metadata": {},
   "outputs": [],
   "source": [
    "spark = SparkSession \\\n",
    "    .builder \\\n",
    "    .appName(\"how to read csv file\") \\\n",
    "    .getOrCreate()"
   ]
  },
  {
   "cell_type": "markdown",
   "metadata": {},
   "source": [
    "## Importanción de datos"
   ]
  },
  {
   "cell_type": "code",
   "execution_count": 3,
   "metadata": {},
   "outputs": [],
   "source": [
    "# ! pip install papermill -q\n",
    "# ! papermill --version"
   ]
  },
  {
   "cell_type": "code",
   "execution_count": 4,
   "metadata": {},
   "outputs": [],
   "source": [
    "months = [\"2022-5\",\"2022-4\",\"2022-3\",\"2022-2\",\"2022-1\",\"2021-12\",\"2021-11\"]\n",
    "archivo_final = \"datos-completos-31-5.csv\""
   ]
  },
  {
   "cell_type": "code",
   "execution_count": 5,
   "metadata": {},
   "outputs": [],
   "source": [
    "! mkdir -p 'import-result'"
   ]
  },
  {
   "cell_type": "code",
   "execution_count": 6,
   "metadata": {},
   "outputs": [],
   "source": [
    "# for month in months:\n",
    "#     ! papermill 'importar-mes.ipynb' 'import-result/{month}.ipynb' -p mes_datos {month} -p archivo_final {archivo_final} \n"
   ]
  },
  {
   "cell_type": "code",
   "execution_count": 6,
   "metadata": {},
   "outputs": [
    {
     "name": "stdout",
     "output_type": "stream",
     "text": [
      "2021-11.csv  2022-4.csv\t\t\t datos-completos-31-5.csv\n",
      "2021-12.csv  2022-5.csv\t\t\t importar-mes.ipynb\n",
      "2022-1.csv   ComprasChile2021-2022.html  import-result\n",
      "2022-2.csv   ComprasChile.html\t\t wget-log\n",
      "2022-3.csv   datasets\t\t\t work\n"
     ]
    }
   ],
   "source": [
    "! ls"
   ]
  },
  {
   "cell_type": "code",
   "execution_count": 7,
   "metadata": {},
   "outputs": [],
   "source": [
    "df_original_corregido = spark.read.format(\"csv\").options(header=True, delimiter=';',encoding=\"ISO-8859-1\").csv(archivo_final)"
   ]
  },
  {
   "cell_type": "code",
   "execution_count": 8,
   "metadata": {},
   "outputs": [
    {
     "name": "stdout",
     "output_type": "stream",
     "text": [
      "-RECORD 0------------------------------------------\n",
      " ID                         | 34790455             \n",
      " Codigo                     | 2403-1556-SE17       \n",
      " Link                       | http://www.mercad... \n",
      " Nombre                     | TD Mejoramiento c... \n",
      " Descripcion/Obervaciones   | DECRETO DE ADJUDI... \n",
      " Tipo                       | SE                   \n",
      " ProcedenciaOC              | licitación públic... \n",
      " EsTratoDirecto             | Si                   \n",
      " EsCompraAgil               | No                   \n",
      " CodigoTipo                 | 8                    \n",
      " CodigoAbreviadoTipoOC      | SE                   \n",
      " DescripcionTipoOC          | Sin emisión autom... \n",
      " codigoEstado               | 4                    \n",
      " Estado                     | Enviada a proveedor  \n",
      " codigoEstadoProveedor      | 1                    \n",
      " EstadoProveedor            | Nueva orden de co... \n",
      " FechaCreacion              | 2017-09-27           \n",
      " FechaEnvio                 | 2022-05-23           \n",
      " FechaSolicitudCancelacion  | 2017-09-27           \n",
      " fechaUltimaModificacion    | 2022-05-23           \n",
      " FechaAceptacion            | NA                   \n",
      " FechaCancelacion           | NA                   \n",
      " tieneItems                 | 1                    \n",
      " PromedioCalificacion       | 5                    \n",
      " CantidadEvaluacion         | 1                    \n",
      " MontoTotalOC               | 1080919609,14        \n",
      " TipoMonedaOC               | CLP                  \n",
      " MontoTotalOC_PesosChilenos | 1080919609,14        \n",
      " Impuestos                  | 172583803,14         \n",
      " TipoImpuesto               | IVA                  \n",
      " Descuentos                 | 0                    \n",
      " Cargos                     | 0                    \n",
      " TotalNetoOC                | 908335806            \n",
      " CodigoUnidadCompra         | 3395                 \n",
      " RutUnidadCompra            | 69.254.000-k         \n",
      " UnidadCompra               | IMUNI_PENALOLEN A... \n",
      " CodigoOrganismoPublico     | 87172                \n",
      " OrganismoPublico           | I MUNICIPALIDAD D... \n",
      " sector                     | Municipalidades      \n",
      " ActividadComprador         | GOBIERNO CENTRAL|... \n",
      " CiudadUnidadCompra         | Peñalolén            \n",
      " RegionUnidadCompra         | Región Metropolit... \n",
      " PaisUnidadCompra           | CL                   \n",
      " CodigoSucursal             | 52417                \n",
      " RutSucursal                | 77.634.300-5         \n",
      " Sucursal                   | Importaciones y R... \n",
      " CodigoProveedor            | 51189                \n",
      " NombreProveedor            | Importaciones y R... \n",
      " ActividadProveedor         | OBRAS MENORES EN ... \n",
      " ComunaProveedor            | Peñalolén            \n",
      " RegionProveedor            | Región Metropolit... \n",
      " PaisProveedor              | Chile                \n",
      " Financiamiento             | 215.31.02.004.064    \n",
      " PorcentajeIva              | 19                   \n",
      " Pais                       | CL                   \n",
      " TipoDespacho               | 22                   \n",
      " FormaPago                  | 39                   \n",
      " CodigoLicitacion           | null                 \n",
      " Codigo_ConvenioMarco       | NA                   \n",
      " IDItem                     | 89939120             \n",
      " codigoCategoria            | 72131700             \n",
      " Categoria                  | Servicios de cons... \n",
      " codigoProductoONU          | 72131702             \n",
      " NombreroductoGenerico      | Construcción de o... \n",
      " RubroN1                    | Servicios de cons... \n",
      " RubroN2                    | Construcción de e... \n",
      " RubroN3                    | Construcción de o... \n",
      " EspecificacionComprador    | MEJORAMIENTO COMP... \n",
      " EspecificacionProveedor    | MEJORAMIENTO COMP... \n",
      " cantidad                   | 1                    \n",
      " UnidadMedida               | Unidad               \n",
      " monedaItem                 | CLP                  \n",
      " precioNeto                 | 908335806            \n",
      " totalCargos                | 0                    \n",
      " totalDescuentos            | 0                    \n",
      " totalImpuestos             | 0                    \n",
      " totalLineaNeto             | 908335806            \n",
      " Forma de Pago              | Otro, Ver Instruc... \n",
      "-RECORD 1------------------------------------------\n",
      " ID                         | 37994881             \n",
      " Codigo                     | 653-96-SE18          \n",
      " Link                       | http://www.mercad... \n",
      " Nombre                     | TD 17/2018 Vias y... \n",
      " Descripcion/Obervaciones   | Se contrata la ej... \n",
      " Tipo                       | SE                   \n",
      " ProcedenciaOC              | Emergencia, urgen... \n",
      " EsTratoDirecto             | Si                   \n",
      " EsCompraAgil               | No                   \n",
      " CodigoTipo                 | 8                    \n",
      " CodigoAbreviadoTipoOC      | SE                   \n",
      " DescripcionTipoOC          | Sin emisión autom... \n",
      " codigoEstado               | 6                    \n",
      " Estado                     | Aceptada             \n",
      " codigoEstadoProveedor      | 4                    \n",
      " EstadoProveedor            | Aceptada             \n",
      " FechaCreacion              | 2018-11-13           \n",
      " FechaEnvio                 | 2022-05-24           \n",
      " FechaSolicitudCancelacion  | 2022-05-24           \n",
      " fechaUltimaModificacion    | 2022-05-24           \n",
      " FechaAceptacion            | 2022-05-26           \n",
      " FechaCancelacion           | NA                   \n",
      " tieneItems                 | 1                    \n",
      " PromedioCalificacion       | 0                    \n",
      " CantidadEvaluacion         | 0                    \n",
      " MontoTotalOC               | 2838800173,16        \n",
      " TipoMonedaOC               | CLP                  \n",
      " MontoTotalOC_PesosChilenos | 2838800173,16        \n",
      " Impuestos                  | 453253809,16         \n",
      " TipoImpuesto               | IVA                  \n",
      " Descuentos                 | 0                    \n",
      " Cargos                     | 0                    \n",
      " TotalNetoOC                | 2385546364           \n",
      " CodigoUnidadCompra         | 1649                 \n",
      " RutUnidadCompra            | 61.819.000-5         \n",
      " UnidadCompra               | SERVIU VII REGION    \n",
      " CodigoOrganismoPublico     | 6978                 \n",
      " OrganismoPublico           | SERVICIO DE VIVIE... \n",
      " sector                     | Obras Públicas       \n",
      " ActividadComprador         | null                 \n",
      " CiudadUnidadCompra         | Talca                \n",
      " RegionUnidadCompra         | Región del Maule     \n",
      " PaisUnidadCompra           | CL                   \n",
      " CodigoSucursal             | 707105               \n",
      " RutSucursal                | 76.073.952-9         \n",
      " Sucursal                   | CONSTRUCTORA E IN... \n",
      " CodigoProveedor            | 1307431              \n",
      " NombreProveedor            | CONSTRUCTORA E IN... \n",
      " ActividadProveedor         | CONSTRUCCION DE E... \n",
      " ComunaProveedor            | Talca                \n",
      " RegionProveedor            | Región del Maule     \n",
      " PaisProveedor              | Chile                \n",
      " Financiamiento             | Sectorial            \n",
      " PorcentajeIva              | 19                   \n",
      " Pais                       | CL                   \n",
      " TipoDespacho               | 12                   \n",
      " FormaPago                  | 39                   \n",
      " CodigoLicitacion           | null                 \n",
      " Codigo_ConvenioMarco       | NA                   \n",
      " IDItem                     | 99540855             \n",
      " codigoCategoria            | 72131700             \n",
      " Categoria                  | Servicios de cons... \n",
      " codigoProductoONU          | 72131701             \n",
      " NombreroductoGenerico      | Pavimentación de ... \n",
      " RubroN1                    | Servicios de cons... \n",
      " RubroN2                    | Construcción de e... \n",
      " RubroN3                    | Construcción de o... \n",
      " EspecificacionComprador    | Corresponde a pro... \n",
      " EspecificacionProveedor    | null                 \n",
      " cantidad                   | 1                    \n",
      " UnidadMedida               | Global               \n",
      " monedaItem                 | CLP                  \n",
      " precioNeto                 | 324265061            \n",
      " totalCargos                | 0                    \n",
      " totalDescuentos            | 0                    \n",
      " totalImpuestos             | 0                    \n",
      " totalLineaNeto             | 324265061            \n",
      " Forma de Pago              | Otro, Ver Instruc... \n",
      "-RECORD 2------------------------------------------\n",
      " ID                         | 37994881             \n",
      " Codigo                     | 653-96-SE18          \n",
      " Link                       | http://www.mercad... \n",
      " Nombre                     | TD 17/2018 Vias y... \n",
      " Descripcion/Obervaciones   | Se contrata la ej... \n",
      " Tipo                       | SE                   \n",
      " ProcedenciaOC              | Emergencia, urgen... \n",
      " EsTratoDirecto             | Si                   \n",
      " EsCompraAgil               | No                   \n",
      " CodigoTipo                 | 8                    \n",
      " CodigoAbreviadoTipoOC      | SE                   \n",
      " DescripcionTipoOC          | Sin emisión autom... \n",
      " codigoEstado               | 6                    \n",
      " Estado                     | Aceptada             \n",
      " codigoEstadoProveedor      | 4                    \n",
      " EstadoProveedor            | Aceptada             \n",
      " FechaCreacion              | 2018-11-13           \n",
      " FechaEnvio                 | 2022-05-24           \n",
      " FechaSolicitudCancelacion  | 2022-05-24           \n",
      " fechaUltimaModificacion    | 2022-05-24           \n",
      " FechaAceptacion            | 2022-05-26           \n",
      " FechaCancelacion           | NA                   \n",
      " tieneItems                 | 1                    \n",
      " PromedioCalificacion       | 0                    \n",
      " CantidadEvaluacion         | 0                    \n",
      " MontoTotalOC               | 2838800173,16        \n",
      " TipoMonedaOC               | CLP                  \n",
      " MontoTotalOC_PesosChilenos | 2838800173,16        \n",
      " Impuestos                  | 453253809,16         \n",
      " TipoImpuesto               | IVA                  \n",
      " Descuentos                 | 0                    \n",
      " Cargos                     | 0                    \n",
      " TotalNetoOC                | 2385546364           \n",
      " CodigoUnidadCompra         | 1649                 \n",
      " RutUnidadCompra            | 61.819.000-5         \n",
      " UnidadCompra               | SERVIU VII REGION    \n",
      " CodigoOrganismoPublico     | 6978                 \n",
      " OrganismoPublico           | SERVICIO DE VIVIE... \n",
      " sector                     | Obras Públicas       \n",
      " ActividadComprador         | null                 \n",
      " CiudadUnidadCompra         | Talca                \n",
      " RegionUnidadCompra         | Región del Maule     \n",
      " PaisUnidadCompra           | CL                   \n",
      " CodigoSucursal             | 707105               \n",
      " RutSucursal                | 76.073.952-9         \n",
      " Sucursal                   | CONSTRUCTORA E IN... \n",
      " CodigoProveedor            | 1307431              \n",
      " NombreProveedor            | CONSTRUCTORA E IN... \n",
      " ActividadProveedor         | CONSTRUCCION DE E... \n",
      " ComunaProveedor            | Talca                \n",
      " RegionProveedor            | Región del Maule     \n",
      " PaisProveedor              | Chile                \n",
      " Financiamiento             | Sectorial            \n",
      " PorcentajeIva              | 19                   \n",
      " Pais                       | CL                   \n",
      " TipoDespacho               | 12                   \n",
      " FormaPago                  | 39                   \n",
      " CodigoLicitacion           | null                 \n",
      " Codigo_ConvenioMarco       | NA                   \n",
      " IDItem                     | 99540856             \n",
      " codigoCategoria            | 72131700             \n",
      " Categoria                  | Servicios de cons... \n",
      " codigoProductoONU          | 72131702             \n",
      " NombreroductoGenerico      | Construcción de o... \n",
      " RubroN1                    | Servicios de cons... \n",
      " RubroN2                    | Construcción de e... \n",
      " RubroN3                    | Construcción de o... \n",
      " EspecificacionComprador    | Corresponde a pro... \n",
      " EspecificacionProveedor    | null                 \n",
      " cantidad                   | 1                    \n",
      " UnidadMedida               | Global               \n",
      " monedaItem                 | CLP                  \n",
      " precioNeto                 | 809878597            \n",
      " totalCargos                | 0                    \n",
      " totalDescuentos            | 0                    \n",
      " totalImpuestos             | 0                    \n",
      " totalLineaNeto             | 809878597            \n",
      " Forma de Pago              | Otro, Ver Instruc... \n",
      "-RECORD 3------------------------------------------\n",
      " ID                         | 37994881             \n",
      " Codigo                     | 653-96-SE18          \n",
      " Link                       | http://www.mercad... \n",
      " Nombre                     | TD 17/2018 Vias y... \n",
      " Descripcion/Obervaciones   | Se contrata la ej... \n",
      " Tipo                       | SE                   \n",
      " ProcedenciaOC              | Emergencia, urgen... \n",
      " EsTratoDirecto             | Si                   \n",
      " EsCompraAgil               | No                   \n",
      " CodigoTipo                 | 8                    \n",
      " CodigoAbreviadoTipoOC      | SE                   \n",
      " DescripcionTipoOC          | Sin emisión autom... \n",
      " codigoEstado               | 6                    \n",
      " Estado                     | Aceptada             \n",
      " codigoEstadoProveedor      | 4                    \n",
      " EstadoProveedor            | Aceptada             \n",
      " FechaCreacion              | 2018-11-13           \n",
      " FechaEnvio                 | 2022-05-24           \n",
      " FechaSolicitudCancelacion  | 2022-05-24           \n",
      " fechaUltimaModificacion    | 2022-05-24           \n",
      " FechaAceptacion            | 2022-05-26           \n",
      " FechaCancelacion           | NA                   \n",
      " tieneItems                 | 1                    \n",
      " PromedioCalificacion       | 0                    \n",
      " CantidadEvaluacion         | 0                    \n",
      " MontoTotalOC               | 2838800173,16        \n",
      " TipoMonedaOC               | CLP                  \n",
      " MontoTotalOC_PesosChilenos | 2838800173,16        \n",
      " Impuestos                  | 453253809,16         \n",
      " TipoImpuesto               | IVA                  \n",
      " Descuentos                 | 0                    \n",
      " Cargos                     | 0                    \n",
      " TotalNetoOC                | 2385546364           \n",
      " CodigoUnidadCompra         | 1649                 \n",
      " RutUnidadCompra            | 61.819.000-5         \n",
      " UnidadCompra               | SERVIU VII REGION    \n",
      " CodigoOrganismoPublico     | 6978                 \n",
      " OrganismoPublico           | SERVICIO DE VIVIE... \n",
      " sector                     | Obras Públicas       \n",
      " ActividadComprador         | null                 \n",
      " CiudadUnidadCompra         | Talca                \n",
      " RegionUnidadCompra         | Región del Maule     \n",
      " PaisUnidadCompra           | CL                   \n",
      " CodigoSucursal             | 707105               \n",
      " RutSucursal                | 76.073.952-9         \n",
      " Sucursal                   | CONSTRUCTORA E IN... \n",
      " CodigoProveedor            | 1307431              \n",
      " NombreProveedor            | CONSTRUCTORA E IN... \n",
      " ActividadProveedor         | CONSTRUCCION DE E... \n",
      " ComunaProveedor            | Talca                \n",
      " RegionProveedor            | Región del Maule     \n",
      " PaisProveedor              | Chile                \n",
      " Financiamiento             | Sectorial            \n",
      " PorcentajeIva              | 19                   \n",
      " Pais                       | CL                   \n",
      " TipoDespacho               | 12                   \n",
      " FormaPago                  | 39                   \n",
      " CodigoLicitacion           | null                 \n",
      " Codigo_ConvenioMarco       | NA                   \n",
      " IDItem                     | 99540857             \n",
      " codigoCategoria            | 72131700             \n",
      " Categoria                  | Servicios de cons... \n",
      " codigoProductoONU          | 72131702             \n",
      " NombreroductoGenerico      | Construcción de o... \n",
      " RubroN1                    | Servicios de cons... \n",
      " RubroN2                    | Construcción de e... \n",
      " RubroN3                    | Construcción de o... \n",
      " EspecificacionComprador    | Corresponde a pro... \n",
      " EspecificacionProveedor    | null                 \n",
      " cantidad                   | 1                    \n",
      " UnidadMedida               | Global               \n",
      " monedaItem                 | CLP                  \n",
      " precioNeto                 | 1251402706           \n",
      " totalCargos                | 0                    \n",
      " totalDescuentos            | 0                    \n",
      " totalImpuestos             | 0                    \n",
      " totalLineaNeto             | 1251402706           \n",
      " Forma de Pago              | Otro, Ver Instruc... \n",
      "-RECORD 4------------------------------------------\n",
      " ID                         | 38027615             \n",
      " Codigo                     | 2403-2047-SE18       \n",
      " Link                       | http://www.mercad... \n",
      " Nombre                     | TD Mejoramiento y... \n",
      " Descripcion/Obervaciones   | DECRETO DE ADJUDI... \n",
      " Tipo                       | SE                   \n",
      " ProcedenciaOC              | licitación públic... \n",
      " EsTratoDirecto             | Si                   \n",
      " EsCompraAgil               | No                   \n",
      " CodigoTipo                 | 8                    \n",
      " CodigoAbreviadoTipoOC      | SE                   \n",
      " DescripcionTipoOC          | Sin emisión autom... \n",
      " codigoEstado               | 4                    \n",
      " Estado                     | Enviada a proveedor  \n",
      " codigoEstadoProveedor      | 1                    \n",
      " EstadoProveedor            | Nueva orden de co... \n",
      " FechaCreacion              | 2018-11-15           \n",
      " FechaEnvio                 | 2022-05-23           \n",
      " FechaSolicitudCancelacion  | 2022-05-23           \n",
      " fechaUltimaModificacion    | 2022-05-23           \n",
      " FechaAceptacion            | NA                   \n",
      " FechaCancelacion           | NA                   \n",
      " tieneItems                 | 1                    \n",
      " PromedioCalificacion       | 0                    \n",
      " CantidadEvaluacion         | 0                    \n",
      " MontoTotalOC               | 27505957,5           \n",
      " TipoMonedaOC               | CLP                  \n",
      " MontoTotalOC_PesosChilenos | 27505957,5           \n",
      " Impuestos                  | 4391707,5            \n",
      " TipoImpuesto               | IVA                  \n",
      " Descuentos                 | 0                    \n",
      " Cargos                     | 0                    \n",
      " TotalNetoOC                | 23114250             \n",
      " CodigoUnidadCompra         | 3395                 \n",
      " RutUnidadCompra            | 69.254.000-k         \n",
      " UnidadCompra               | IMUNI_PENALOLEN A... \n",
      " CodigoOrganismoPublico     | 87172                \n",
      " OrganismoPublico           | I MUNICIPALIDAD D... \n",
      " sector                     | Municipalidades      \n",
      " ActividadComprador         | GOBIERNO CENTRAL|... \n",
      " CiudadUnidadCompra         | Peñalolén            \n",
      " RegionUnidadCompra         | Región Metropolit... \n",
      " PaisUnidadCompra           | CL                   \n",
      " CodigoSucursal             | 990183               \n",
      " RutSucursal                | 76.647.412-8         \n",
      " Sucursal                   | Jorge Luis           \n",
      " CodigoProveedor            | 1581649              \n",
      " NombreProveedor            | Jorge Luis           \n",
      " ActividadProveedor         | ASESORIA, CONSULT... \n",
      " ComunaProveedor            | Peñalolén            \n",
      " RegionProveedor            | Región Metropolit... \n",
      " PaisProveedor              | Chile                \n",
      " Financiamiento             | 2153102004032        \n",
      " PorcentajeIva              | 19                   \n",
      " Pais                       | CL                   \n",
      " TipoDespacho               | 12                   \n",
      " FormaPago                  | 2                    \n",
      " CodigoLicitacion           | null                 \n",
      " Codigo_ConvenioMarco       | NA                   \n",
      " IDItem                     | 99635555             \n",
      " codigoCategoria            | 72131700             \n",
      " Categoria                  | Servicios de cons... \n",
      " codigoProductoONU          | 72131702             \n",
      " NombreroductoGenerico      | Construcción de o... \n",
      " RubroN1                    | Servicios de cons... \n",
      " RubroN2                    | Construcción de e... \n",
      " RubroN3                    | Construcción de o... \n",
      " EspecificacionComprador    | MEJORAMIENTO Y EQ... \n",
      " EspecificacionProveedor    | MEJORAMIENTO Y EQ... \n",
      " cantidad                   | 1                    \n",
      " UnidadMedida               | Unidad               \n",
      " monedaItem                 | CLP                  \n",
      " precioNeto                 | 23114250             \n",
      " totalCargos                | 0                    \n",
      " totalDescuentos            | 0                    \n",
      " totalImpuestos             | 0                    \n",
      " totalLineaNeto             | 23114250             \n",
      " Forma de Pago              | 30 dias contra la... \n",
      "-RECORD 5------------------------------------------\n",
      " ID                         | 39919654             \n",
      " Codigo                     | 4548-764-SE19        \n",
      " Link                       | http://www.mercad... \n",
      " Nombre                     | ORDEN DE COMPRA D... \n",
      " Descripcion/Obervaciones   | ESTUDIO FINANCIER... \n",
      " Tipo                       | SE                   \n",
      " ProcedenciaOC              | Proveniente de li... \n",
      " EsTratoDirecto             | No                   \n",
      " EsCompraAgil               | No                   \n",
      " CodigoTipo                 | 8                    \n",
      " CodigoAbreviadoTipoOC      | SE                   \n",
      " DescripcionTipoOC          | Sin emisión autom... \n",
      " codigoEstado               | 6                    \n",
      " Estado                     | Aceptada             \n",
      " codigoEstadoProveedor      | 4                    \n",
      " EstadoProveedor            | Aceptada             \n",
      " FechaCreacion              | 2019-07-25           \n",
      " FechaEnvio                 | 2022-05-17           \n",
      " FechaSolicitudCancelacion  | 2022-05-17           \n",
      " fechaUltimaModificacion    | 2022-05-17           \n",
      " FechaAceptacion            | 2022-05-17           \n",
      " FechaCancelacion           | NA                   \n",
      " tieneItems                 | 1                    \n",
      " PromedioCalificacion       | 0                    \n",
      " CantidadEvaluacion         | 0                    \n",
      " MontoTotalOC               | 1,19                 \n",
      " TipoMonedaOC               | CLP                  \n",
      " MontoTotalOC_PesosChilenos | 1,19                 \n",
      " Impuestos                  | 0,19                 \n",
      " TipoImpuesto               | IVA                  \n",
      " Descuentos                 | 0                    \n",
      " Cargos                     | 0                    \n",
      " TotalNetoOC                | 1                    \n",
      " CodigoUnidadCompra         | 5464                 \n",
      " RutUnidadCompra            | 69.060.700-k         \n",
      " UnidadCompra               | UNIDAD NORMAL        \n",
      " CodigoOrganismoPublico     | 138454               \n",
      " OrganismoPublico           | I MUNICIPALIDAD D... \n",
      " sector                     | Municipalidades      \n",
      " ActividadComprador         | GOBIERNO CENTRAL     \n",
      " CiudadUnidadCompra         | Quintero             \n",
      " RegionUnidadCompra         | Región de Valpara... \n",
      " PaisUnidadCompra           | CL                   \n",
      " CodigoSucursal             | 645152               \n",
      " RutSucursal                | 76.138.663-8         \n",
      " Sucursal                   | GESTION GLOBAL SPA   \n",
      " CodigoProveedor            | 1247971              \n",
      " NombreProveedor            | PROYECTOS,CONSULT... \n",
      " ActividadProveedor         | ACTIVIDADES DE AS... \n",
      " ComunaProveedor            | Chillán              \n",
      " RegionProveedor            | Región del Ñuble     \n",
      " PaisProveedor              | Chile                \n",
      " Financiamiento             | 2211001              \n",
      " PorcentajeIva              | 19                   \n",
      " Pais                       | CL                   \n",
      " TipoDespacho               | 7                    \n",
      " FormaPago                  | 2                    \n",
      " CodigoLicitacion           | 4548-53-LE19         \n",
      " Codigo_ConvenioMarco       | NA                   \n",
      " IDItem                     | 105227828            \n",
      " codigoCategoria            | 84121600             \n",
      " Categoria                  | Servicios financi... \n",
      " codigoProductoONU          | 84121607             \n",
      " NombreroductoGenerico      | Leasing financiero   \n",
      " RubroN1                    | Servicios financi... \n",
      " RubroN2                    | Banca e inversiones  \n",
      " RubroN3                    | Servicios de tran... \n",
      " EspecificacionComprador    | \"SEGUN BASES ADMI... \n",
      " EspecificacionProveedor    | La oferta corresp... \n",
      " cantidad                   | 1                    \n",
      " UnidadMedida               | Unidad               \n",
      " monedaItem                 | CLP                  \n",
      " precioNeto                 | 1                    \n",
      " totalCargos                | 0                    \n",
      " totalDescuentos            | 0                    \n",
      " totalImpuestos             | 0                    \n",
      " totalLineaNeto             | 1                    \n",
      " Forma de Pago              | 30 dias contra la... \n",
      "-RECORD 6------------------------------------------\n",
      " ID                         | 41187221             \n",
      " Codigo                     | 324-10-SE20          \n",
      " Link                       | http://www.mercad... \n",
      " Nombre                     | Servicio Martillero  \n",
      " Descripcion/Obervaciones   | Servicio de Marti... \n",
      " Tipo                       | SE                   \n",
      " ProcedenciaOC              | Proveniente de li... \n",
      " EsTratoDirecto             | No                   \n",
      " EsCompraAgil               | No                   \n",
      " CodigoTipo                 | 8                    \n",
      " CodigoAbreviadoTipoOC      | SE                   \n",
      " DescripcionTipoOC          | Sin emisión autom... \n",
      " codigoEstado               | 4                    \n",
      " Estado                     | Enviada a proveedor  \n",
      " codigoEstadoProveedor      | 1                    \n",
      " EstadoProveedor            | Nueva orden de co... \n",
      " FechaCreacion              | 2020-01-06           \n",
      " FechaEnvio                 | 2022-05-17           \n",
      " FechaSolicitudCancelacion  | 2022-05-17           \n",
      " fechaUltimaModificacion    | 2022-05-17           \n",
      " FechaAceptacion            | NA                   \n",
      " FechaCancelacion           | NA                   \n",
      " tieneItems                 | 1                    \n",
      " PromedioCalificacion       | 0                    \n",
      " CantidadEvaluacion         | 0                    \n",
      " MontoTotalOC               | 5,95                 \n",
      " TipoMonedaOC               | CLP                  \n",
      " MontoTotalOC_PesosChilenos | 5,95                 \n",
      " Impuestos                  | 0,95                 \n",
      " TipoImpuesto               | IVA                  \n",
      " Descuentos                 | 0                    \n",
      " Cargos                     | 0                    \n",
      " TotalNetoOC                | 5                    \n",
      " CodigoUnidadCompra         | 1321                 \n",
      " RutUnidadCompra            | 69.255.000-5         \n",
      " UnidadCompra               | Administración y ... \n",
      " CodigoOrganismoPublico     | 7241                 \n",
      " OrganismoPublico           | I MUNICIPALIDAD D... \n",
      " sector                     | Municipalidades      \n",
      " ActividadComprador         | ACTIVIDADES DE OT... \n",
      " CiudadUnidadCompra         | Cerrillos            \n",
      " RegionUnidadCompra         | Región Metropolit... \n",
      " PaisUnidadCompra           | CL                   \n",
      " CodigoSucursal             | 524474               \n",
      " RutSucursal                | 13.301.421-7         \n",
      " Sucursal                   | DRAGO REMATES 2      \n",
      " CodigoProveedor            | 1051607              \n",
      " NombreProveedor            | DRAGO URRUTIA ROD... \n",
      " ActividadProveedor         | SERVICIO DE SUBAS... \n",
      " ComunaProveedor            | Rancagua             \n",
      " RegionProveedor            | Región del Libert... \n",
      " PaisProveedor              | Chile                \n",
      " Financiamiento             | null                 \n",
      " PorcentajeIva              | 19                   \n",
      " Pais                       | CL                   \n",
      " TipoDespacho               | 12                   \n",
      " FormaPago                  | 2                    \n",
      " CodigoLicitacion           | 324-601-L119         \n",
      " Codigo_ConvenioMarco       | NA                   \n",
      " IDItem                     | 108796689            \n",
      " codigoCategoria            | 80141700             \n",
      " Categoria                  | Servicios profesi... \n",
      " codigoProductoONU          | 80141705             \n",
      " NombreroductoGenerico      | Subasta              \n",
      " RubroN1                    | Servicios profesi... \n",
      " RubroN2                    | Servicios para la... \n",
      " RubroN3                    | Distribución         \n",
      " EspecificacionComprador    | Servicio de Marti... \n",
      " EspecificacionProveedor    | OFERTA VALIDA POR... \n",
      " cantidad                   | 1                    \n",
      " UnidadMedida               | Unidad               \n",
      " monedaItem                 | CLP                  \n",
      " precioNeto                 | 5                    \n",
      " totalCargos                | 0                    \n",
      " totalDescuentos            | 0                    \n",
      " totalImpuestos             | 0                    \n",
      " totalLineaNeto             | 5                    \n",
      " Forma de Pago              | 30 dias contra la... \n",
      "-RECORD 7------------------------------------------\n",
      " ID                         | 42458908             \n",
      " Codigo                     | 1021609-422-SE20     \n",
      " Link                       | http://www.mercad... \n",
      " Nombre                     | ROTURA MANGUITO R... \n",
      " Descripcion/Obervaciones   | CS TRAUMATOLOGÍA ... \n",
      " Tipo                       | SE                   \n",
      " ProcedenciaOC              | Proveniente de li... \n",
      " EsTratoDirecto             | No                   \n",
      " EsCompraAgil               | No                   \n",
      " CodigoTipo                 | 8                    \n",
      " CodigoAbreviadoTipoOC      | SE                   \n",
      " DescripcionTipoOC          | Sin emisión autom... \n",
      " codigoEstado               | 12                   \n",
      " Estado                     | Recepcion Conforme   \n",
      " codigoEstadoProveedor      | 7                    \n",
      " EstadoProveedor            | Recepcion Conforme   \n",
      " FechaCreacion              | 2020-08-27           \n",
      " FechaEnvio                 | 2022-05-05           \n",
      " FechaSolicitudCancelacion  | 2022-05-05           \n",
      " fechaUltimaModificacion    | 2022-04-30           \n",
      " FechaAceptacion            | 2022-05-09           \n",
      " FechaCancelacion           | NA                   \n",
      " tieneItems                 | 1                    \n",
      " PromedioCalificacion       | 4,2                  \n",
      " CantidadEvaluacion         | 1                    \n",
      " MontoTotalOC               | 893277,07            \n",
      " TipoMonedaOC               | CLP                  \n",
      " MontoTotalOC_PesosChilenos | 893277,07            \n",
      " Impuestos                  | 142624,07            \n",
      " TipoImpuesto               | IVA                  \n",
      " Descuentos                 | 0                    \n",
      " Cargos                     | 0                    \n",
      " TotalNetoOC                | 750653               \n",
      " CodigoUnidadCompra         | 1021609              \n",
      " RutUnidadCompra            | 61.602.140-0         \n",
      " UnidadCompra               | Convenio Suminist... \n",
      " CodigoOrganismoPublico     | 7440                 \n",
      " OrganismoPublico           | SERVICIO DE SALUD... \n",
      " sector                     | Salud                \n",
      " ActividadComprador         | Servicio de Salud    \n",
      " CiudadUnidadCompra         | Rengo                \n",
      " RegionUnidadCompra         | Región del Libert... \n",
      " PaisUnidadCompra           |                      \n",
      " CodigoSucursal             | 27859                \n",
      " RutSucursal                | 96.863.710-k         \n",
      " Sucursal                   | BIOMET CHILE S A     \n",
      " CodigoProveedor            | 27905                \n",
      " NombreProveedor            | BIOMET CHILE S A     \n",
      " ActividadProveedor         | VENTA AL POR MAYO... \n",
      " ComunaProveedor            | Huechuraba           \n",
      " RegionProveedor            | Región Metropolit... \n",
      " PaisProveedor              | Chile                \n",
      " Financiamiento             | null                 \n",
      " PorcentajeIva              | 19                   \n",
      " Pais                       |                      \n",
      " TipoDespacho               | 7                    \n",
      " FormaPago                  | 2                    \n",
      " CodigoLicitacion           | 1021609-14-LQ18      \n",
      " Codigo_ConvenioMarco       | NA                   \n",
      " IDItem                     | 112479219            \n",
      " codigoCategoria            | 42294200             \n",
      " Categoria                  | Equipamiento y su... \n",
      " codigoProductoONU          | 42294211             \n",
      " NombreroductoGenerico      | Instrumentos quir... \n",
      " RubroN1                    | Equipamiento y su... \n",
      " RubroN2                    | Productos quirúrg... \n",
      " RubroN3                    | Juegos de instrum... \n",
      " EspecificacionComprador    | COT: 379409          \n",
      " EspecificacionProveedor    | COT: 379409          \n",
      " cantidad                   | 1                    \n",
      " UnidadMedida               | Global               \n",
      " monedaItem                 | CLP                  \n",
      " precioNeto                 | 750653               \n",
      " totalCargos                | 0                    \n",
      " totalDescuentos            | 0                    \n",
      " totalImpuestos             | 0                    \n",
      " totalLineaNeto             | 750653               \n",
      " Forma de Pago              | 30 dias contra la... \n",
      "-RECORD 8------------------------------------------\n",
      " ID                         | 42460835             \n",
      " Codigo                     | 1021609-431-SE20     \n",
      " Link                       | http://www.mercad... \n",
      " Nombre                     | FIJACION FEMORAL ... \n",
      " Descripcion/Obervaciones   | CS TRAUMATOLOGÍAC... \n",
      " Tipo                       | SE                   \n",
      " ProcedenciaOC              | Proveniente de li... \n",
      " EsTratoDirecto             | No                   \n",
      " EsCompraAgil               | No                   \n",
      " CodigoTipo                 | 8                    \n",
      " CodigoAbreviadoTipoOC      | SE                   \n",
      " DescripcionTipoOC          | Sin emisión autom... \n",
      " codigoEstado               | 12                   \n",
      " Estado                     | Recepcion Conforme   \n",
      " codigoEstadoProveedor      | 7                    \n",
      " EstadoProveedor            | Recepcion Conforme   \n",
      " FechaCreacion              | 2020-08-27           \n",
      " FechaEnvio                 | 2022-05-05           \n",
      " FechaSolicitudCancelacion  | 2022-05-05           \n",
      " fechaUltimaModificacion    | 2022-04-30           \n",
      " FechaAceptacion            | 2022-05-09           \n",
      " FechaCancelacion           | NA                   \n",
      " tieneItems                 | 1                    \n",
      " PromedioCalificacion       | 4,2                  \n",
      " CantidadEvaluacion         | 1                    \n",
      " MontoTotalOC               | 402359,23            \n",
      " TipoMonedaOC               | CLP                  \n",
      " MontoTotalOC_PesosChilenos | 402359,23            \n",
      " Impuestos                  | 64242,23             \n",
      " TipoImpuesto               | IVA                  \n",
      " Descuentos                 | 0                    \n",
      " Cargos                     | 0                    \n",
      " TotalNetoOC                | 338117               \n",
      " CodigoUnidadCompra         | 1021609              \n",
      " RutUnidadCompra            | 61.602.140-0         \n",
      " UnidadCompra               | Convenio Suminist... \n",
      " CodigoOrganismoPublico     | 7440                 \n",
      " OrganismoPublico           | SERVICIO DE SALUD... \n",
      " sector                     | Salud                \n",
      " ActividadComprador         | Servicio de Salud    \n",
      " CiudadUnidadCompra         | Rengo                \n",
      " RegionUnidadCompra         | Región del Libert... \n",
      " PaisUnidadCompra           |                      \n",
      " CodigoSucursal             | 27859                \n",
      " RutSucursal                | 96.863.710-k         \n",
      " Sucursal                   | BIOMET CHILE S A     \n",
      " CodigoProveedor            | 27905                \n",
      " NombreProveedor            | BIOMET CHILE S A     \n",
      " ActividadProveedor         | VENTA AL POR MAYO... \n",
      " ComunaProveedor            | Huechuraba           \n",
      " RegionProveedor            | Región Metropolit... \n",
      " PaisProveedor              | Chile                \n",
      " Financiamiento             | null                 \n",
      " PorcentajeIva              | 19                   \n",
      " Pais                       |                      \n",
      " TipoDespacho               | 7                    \n",
      " FormaPago                  | 2                    \n",
      " CodigoLicitacion           | 1021609-16-LQ18      \n",
      " Codigo_ConvenioMarco       | NA                   \n",
      " IDItem                     | 112484357            \n",
      " codigoCategoria            | 42294200             \n",
      " Categoria                  | Equipamiento y su... \n",
      " codigoProductoONU          | 42294211             \n",
      " NombreroductoGenerico      | Instrumentos quir... \n",
      " RubroN1                    | Equipamiento y su... \n",
      " RubroN2                    | Productos quirúrg... \n",
      " RubroN3                    | Juegos de instrum... \n",
      " EspecificacionComprador    | CO: 380609           \n",
      " EspecificacionProveedor    | CO: 380609           \n",
      " cantidad                   | 1                    \n",
      " UnidadMedida               | Global               \n",
      " monedaItem                 | CLP                  \n",
      " precioNeto                 | 338117               \n",
      " totalCargos                | 0                    \n",
      " totalDescuentos            | 0                    \n",
      " totalImpuestos             | 0                    \n",
      " totalLineaNeto             | 338117               \n",
      " Forma de Pago              | 30 dias contra la... \n",
      "-RECORD 9------------------------------------------\n",
      " ID                         | 42461025             \n",
      " Codigo                     | 1021609-432-SE20     \n",
      " Link                       | http://www.mercad... \n",
      " Nombre                     | FIJACION FEMORAL ... \n",
      " Descripcion/Obervaciones   | CS TRAUMATOLOGÍAF... \n",
      " Tipo                       | SE                   \n",
      " ProcedenciaOC              | Proveniente de li... \n",
      " EsTratoDirecto             | No                   \n",
      " EsCompraAgil               | No                   \n",
      " CodigoTipo                 | 8                    \n",
      " CodigoAbreviadoTipoOC      | SE                   \n",
      " DescripcionTipoOC          | Sin emisión autom... \n",
      " codigoEstado               | 12                   \n",
      " Estado                     | Recepcion Conforme   \n",
      " codigoEstadoProveedor      | 7                    \n",
      " EstadoProveedor            | Recepcion Conforme   \n",
      " FechaCreacion              | 2020-08-27           \n",
      " FechaEnvio                 | 2022-05-05           \n",
      " FechaSolicitudCancelacion  | 2022-05-05           \n",
      " fechaUltimaModificacion    | 2022-04-30           \n",
      " FechaAceptacion            | 2022-05-09           \n",
      " FechaCancelacion           | NA                   \n",
      " tieneItems                 | 1                    \n",
      " PromedioCalificacion       | 4,2                  \n",
      " CantidadEvaluacion         | 1                    \n",
      " MontoTotalOC               | 429390,08            \n",
      " TipoMonedaOC               | CLP                  \n",
      " MontoTotalOC_PesosChilenos | 429390,08            \n",
      " Impuestos                  | 68558,08             \n",
      " TipoImpuesto               | IVA                  \n",
      " Descuentos                 | 0                    \n",
      " Cargos                     | 0                    \n",
      " TotalNetoOC                | 360832               \n",
      " CodigoUnidadCompra         | 1021609              \n",
      " RutUnidadCompra            | 61.602.140-0         \n",
      " UnidadCompra               | Convenio Suminist... \n",
      " CodigoOrganismoPublico     | 7440                 \n",
      " OrganismoPublico           | SERVICIO DE SALUD... \n",
      " sector                     | Salud                \n",
      " ActividadComprador         | Servicio de Salud    \n",
      " CiudadUnidadCompra         | Rengo                \n",
      " RegionUnidadCompra         | Región del Libert... \n",
      " PaisUnidadCompra           |                      \n",
      " CodigoSucursal             | 27859                \n",
      " RutSucursal                | 96.863.710-k         \n",
      " Sucursal                   | BIOMET CHILE S A     \n",
      " CodigoProveedor            | 27905                \n",
      " NombreProveedor            | BIOMET CHILE S A     \n",
      " ActividadProveedor         | VENTA AL POR MAYO... \n",
      " ComunaProveedor            | Huechuraba           \n",
      " RegionProveedor            | Región Metropolit... \n",
      " PaisProveedor              | Chile                \n",
      " Financiamiento             | null                 \n",
      " PorcentajeIva              | 19                   \n",
      " Pais                       |                      \n",
      " TipoDespacho               | 7                    \n",
      " FormaPago                  | 2                    \n",
      " CodigoLicitacion           | 1021609-16-LQ18      \n",
      " Codigo_ConvenioMarco       | NA                   \n",
      " IDItem                     | 112484904            \n",
      " codigoCategoria            | 42294200             \n",
      " Categoria                  | Equipamiento y su... \n",
      " codigoProductoONU          | 42294211             \n",
      " NombreroductoGenerico      | Instrumentos quir... \n",
      " RubroN1                    | Equipamiento y su... \n",
      " RubroN2                    | Productos quirúrg... \n",
      " RubroN3                    | Juegos de instrum... \n",
      " EspecificacionComprador    | COT: 380876          \n",
      " EspecificacionProveedor    | COT: 380876          \n",
      " cantidad                   | 1                    \n",
      " UnidadMedida               | Global               \n",
      " monedaItem                 | CLP                  \n",
      " precioNeto                 | 360832               \n",
      " totalCargos                | 0                    \n",
      " totalDescuentos            | 0                    \n",
      " totalImpuestos             | 0                    \n",
      " totalLineaNeto             | 360832               \n",
      " Forma de Pago              | 30 dias contra la... \n",
      "only showing top 10 rows\n",
      "\n"
     ]
    }
   ],
   "source": [
    "df_original_corregido.show(10,vertical=True)"
   ]
  },
  {
   "cell_type": "markdown",
   "metadata": {},
   "source": [
    "## Ingeniería de Atributos"
   ]
  },
  {
   "cell_type": "markdown",
   "metadata": {},
   "source": [
    "### Columnas Relevantes\n",
    "Eliminamos las columnas que no sean relevanes para nuestro analisis, dejando solo las que sí podemos llegar a utilizar "
   ]
  },
  {
   "cell_type": "code",
   "execution_count": 9,
   "metadata": {},
   "outputs": [],
   "source": [
    "df_original = df_original_corregido"
   ]
  },
  {
   "cell_type": "code",
   "execution_count": 10,
   "metadata": {},
   "outputs": [
    {
     "data": {
      "text/plain": [
       "['ID',\n",
       " 'Codigo',\n",
       " 'Link',\n",
       " 'Nombre',\n",
       " 'Descripcion/Obervaciones',\n",
       " 'Tipo',\n",
       " 'ProcedenciaOC',\n",
       " 'EsTratoDirecto',\n",
       " 'EsCompraAgil',\n",
       " 'CodigoTipo',\n",
       " 'CodigoAbreviadoTipoOC',\n",
       " 'DescripcionTipoOC',\n",
       " 'codigoEstado',\n",
       " 'Estado',\n",
       " 'codigoEstadoProveedor',\n",
       " 'EstadoProveedor',\n",
       " 'FechaCreacion',\n",
       " 'FechaEnvio',\n",
       " 'FechaSolicitudCancelacion',\n",
       " 'fechaUltimaModificacion',\n",
       " 'FechaAceptacion',\n",
       " 'FechaCancelacion',\n",
       " 'tieneItems',\n",
       " 'PromedioCalificacion',\n",
       " 'CantidadEvaluacion',\n",
       " 'MontoTotalOC',\n",
       " 'TipoMonedaOC',\n",
       " 'MontoTotalOC_PesosChilenos',\n",
       " 'Impuestos',\n",
       " 'TipoImpuesto',\n",
       " 'Descuentos',\n",
       " 'Cargos',\n",
       " 'TotalNetoOC',\n",
       " 'CodigoUnidadCompra',\n",
       " 'RutUnidadCompra',\n",
       " 'UnidadCompra',\n",
       " 'CodigoOrganismoPublico',\n",
       " 'OrganismoPublico',\n",
       " 'sector',\n",
       " 'ActividadComprador',\n",
       " 'CiudadUnidadCompra',\n",
       " 'RegionUnidadCompra',\n",
       " 'PaisUnidadCompra',\n",
       " 'CodigoSucursal',\n",
       " 'RutSucursal',\n",
       " 'Sucursal',\n",
       " 'CodigoProveedor',\n",
       " 'NombreProveedor',\n",
       " 'ActividadProveedor',\n",
       " 'ComunaProveedor',\n",
       " 'RegionProveedor',\n",
       " 'PaisProveedor',\n",
       " 'Financiamiento',\n",
       " 'PorcentajeIva',\n",
       " 'Pais',\n",
       " 'TipoDespacho',\n",
       " 'FormaPago',\n",
       " 'CodigoLicitacion',\n",
       " 'Codigo_ConvenioMarco',\n",
       " 'IDItem',\n",
       " 'codigoCategoria',\n",
       " 'Categoria',\n",
       " 'codigoProductoONU',\n",
       " 'NombreroductoGenerico',\n",
       " 'RubroN1',\n",
       " 'RubroN2',\n",
       " 'RubroN3',\n",
       " 'EspecificacionComprador',\n",
       " 'EspecificacionProveedor',\n",
       " 'cantidad',\n",
       " 'UnidadMedida',\n",
       " 'monedaItem',\n",
       " 'precioNeto',\n",
       " 'totalCargos',\n",
       " 'totalDescuentos',\n",
       " 'totalImpuestos',\n",
       " 'totalLineaNeto',\n",
       " 'Forma de Pago']"
      ]
     },
     "execution_count": 10,
     "metadata": {},
     "output_type": "execute_result"
    }
   ],
   "source": [
    "df_original.columns"
   ]
  },
  {
   "cell_type": "code",
   "execution_count": 11,
   "metadata": {},
   "outputs": [],
   "source": [
    "df_columnas_relevantes = df_original[\n",
    "    ['Estado',\n",
    " 'FechaCreacion',\n",
    " 'FechaAceptacion',\n",
    " 'MontoTotalOC_PesosChilenos',\n",
    " 'OrganismoPublico',\n",
    " 'sector',\n",
    " 'CiudadUnidadCompra',\n",
    " 'RegionUnidadCompra',\n",
    " 'PaisProveedor',\n",
    " 'IDItem',\n",
    " 'RubroN1',\n",
    " 'RubroN2',\n",
    " 'RubroN3',\n",
    " 'cantidad',\n",
    " 'UnidadMedida']\n",
    "]"
   ]
  },
  {
   "cell_type": "code",
   "execution_count": 12,
   "metadata": {
    "scrolled": true
   },
   "outputs": [
    {
     "name": "stdout",
     "output_type": "stream",
     "text": [
      "-RECORD 0------------------------------------------\n",
      " Estado                     | Enviada a proveedor  \n",
      " FechaCreacion              | 2017-09-27           \n",
      " FechaAceptacion            | NA                   \n",
      " MontoTotalOC_PesosChilenos | 1080919609,14        \n",
      " OrganismoPublico           | I MUNICIPALIDAD D... \n",
      " sector                     | Municipalidades      \n",
      " CiudadUnidadCompra         | Peñalolén            \n",
      " RegionUnidadCompra         | Región Metropolit... \n",
      " PaisProveedor              | Chile                \n",
      " IDItem                     | 89939120             \n",
      " RubroN1                    | Servicios de cons... \n",
      " RubroN2                    | Construcción de e... \n",
      " RubroN3                    | Construcción de o... \n",
      " cantidad                   | 1                    \n",
      " UnidadMedida               | Unidad               \n",
      "-RECORD 1------------------------------------------\n",
      " Estado                     | Aceptada             \n",
      " FechaCreacion              | 2018-11-13           \n",
      " FechaAceptacion            | 2022-05-26           \n",
      " MontoTotalOC_PesosChilenos | 2838800173,16        \n",
      " OrganismoPublico           | SERVICIO DE VIVIE... \n",
      " sector                     | Obras Públicas       \n",
      " CiudadUnidadCompra         | Talca                \n",
      " RegionUnidadCompra         | Región del Maule     \n",
      " PaisProveedor              | Chile                \n",
      " IDItem                     | 99540855             \n",
      " RubroN1                    | Servicios de cons... \n",
      " RubroN2                    | Construcción de e... \n",
      " RubroN3                    | Construcción de o... \n",
      " cantidad                   | 1                    \n",
      " UnidadMedida               | Global               \n",
      "-RECORD 2------------------------------------------\n",
      " Estado                     | Aceptada             \n",
      " FechaCreacion              | 2018-11-13           \n",
      " FechaAceptacion            | 2022-05-26           \n",
      " MontoTotalOC_PesosChilenos | 2838800173,16        \n",
      " OrganismoPublico           | SERVICIO DE VIVIE... \n",
      " sector                     | Obras Públicas       \n",
      " CiudadUnidadCompra         | Talca                \n",
      " RegionUnidadCompra         | Región del Maule     \n",
      " PaisProveedor              | Chile                \n",
      " IDItem                     | 99540856             \n",
      " RubroN1                    | Servicios de cons... \n",
      " RubroN2                    | Construcción de e... \n",
      " RubroN3                    | Construcción de o... \n",
      " cantidad                   | 1                    \n",
      " UnidadMedida               | Global               \n",
      "-RECORD 3------------------------------------------\n",
      " Estado                     | Aceptada             \n",
      " FechaCreacion              | 2018-11-13           \n",
      " FechaAceptacion            | 2022-05-26           \n",
      " MontoTotalOC_PesosChilenos | 2838800173,16        \n",
      " OrganismoPublico           | SERVICIO DE VIVIE... \n",
      " sector                     | Obras Públicas       \n",
      " CiudadUnidadCompra         | Talca                \n",
      " RegionUnidadCompra         | Región del Maule     \n",
      " PaisProveedor              | Chile                \n",
      " IDItem                     | 99540857             \n",
      " RubroN1                    | Servicios de cons... \n",
      " RubroN2                    | Construcción de e... \n",
      " RubroN3                    | Construcción de o... \n",
      " cantidad                   | 1                    \n",
      " UnidadMedida               | Global               \n",
      "-RECORD 4------------------------------------------\n",
      " Estado                     | Enviada a proveedor  \n",
      " FechaCreacion              | 2018-11-15           \n",
      " FechaAceptacion            | NA                   \n",
      " MontoTotalOC_PesosChilenos | 27505957,5           \n",
      " OrganismoPublico           | I MUNICIPALIDAD D... \n",
      " sector                     | Municipalidades      \n",
      " CiudadUnidadCompra         | Peñalolén            \n",
      " RegionUnidadCompra         | Región Metropolit... \n",
      " PaisProveedor              | Chile                \n",
      " IDItem                     | 99635555             \n",
      " RubroN1                    | Servicios de cons... \n",
      " RubroN2                    | Construcción de e... \n",
      " RubroN3                    | Construcción de o... \n",
      " cantidad                   | 1                    \n",
      " UnidadMedida               | Unidad               \n",
      "-RECORD 5------------------------------------------\n",
      " Estado                     | Aceptada             \n",
      " FechaCreacion              | 2019-07-25           \n",
      " FechaAceptacion            | 2022-05-17           \n",
      " MontoTotalOC_PesosChilenos | 1,19                 \n",
      " OrganismoPublico           | I MUNICIPALIDAD D... \n",
      " sector                     | Municipalidades      \n",
      " CiudadUnidadCompra         | Quintero             \n",
      " RegionUnidadCompra         | Región de Valpara... \n",
      " PaisProveedor              | Chile                \n",
      " IDItem                     | 105227828            \n",
      " RubroN1                    | Servicios financi... \n",
      " RubroN2                    | Banca e inversiones  \n",
      " RubroN3                    | Servicios de tran... \n",
      " cantidad                   | 1                    \n",
      " UnidadMedida               | Unidad               \n",
      "-RECORD 6------------------------------------------\n",
      " Estado                     | Enviada a proveedor  \n",
      " FechaCreacion              | 2020-01-06           \n",
      " FechaAceptacion            | NA                   \n",
      " MontoTotalOC_PesosChilenos | 5,95                 \n",
      " OrganismoPublico           | I MUNICIPALIDAD D... \n",
      " sector                     | Municipalidades      \n",
      " CiudadUnidadCompra         | Cerrillos            \n",
      " RegionUnidadCompra         | Región Metropolit... \n",
      " PaisProveedor              | Chile                \n",
      " IDItem                     | 108796689            \n",
      " RubroN1                    | Servicios profesi... \n",
      " RubroN2                    | Servicios para la... \n",
      " RubroN3                    | Distribución         \n",
      " cantidad                   | 1                    \n",
      " UnidadMedida               | Unidad               \n",
      "-RECORD 7------------------------------------------\n",
      " Estado                     | Recepcion Conforme   \n",
      " FechaCreacion              | 2020-08-27           \n",
      " FechaAceptacion            | 2022-05-09           \n",
      " MontoTotalOC_PesosChilenos | 893277,07            \n",
      " OrganismoPublico           | SERVICIO DE SALUD... \n",
      " sector                     | Salud                \n",
      " CiudadUnidadCompra         | Rengo                \n",
      " RegionUnidadCompra         | Región del Libert... \n",
      " PaisProveedor              | Chile                \n",
      " IDItem                     | 112479219            \n",
      " RubroN1                    | Equipamiento y su... \n",
      " RubroN2                    | Productos quirúrg... \n",
      " RubroN3                    | Juegos de instrum... \n",
      " cantidad                   | 1                    \n",
      " UnidadMedida               | Global               \n",
      "-RECORD 8------------------------------------------\n",
      " Estado                     | Recepcion Conforme   \n",
      " FechaCreacion              | 2020-08-27           \n",
      " FechaAceptacion            | 2022-05-09           \n",
      " MontoTotalOC_PesosChilenos | 402359,23            \n",
      " OrganismoPublico           | SERVICIO DE SALUD... \n",
      " sector                     | Salud                \n",
      " CiudadUnidadCompra         | Rengo                \n",
      " RegionUnidadCompra         | Región del Libert... \n",
      " PaisProveedor              | Chile                \n",
      " IDItem                     | 112484357            \n",
      " RubroN1                    | Equipamiento y su... \n",
      " RubroN2                    | Productos quirúrg... \n",
      " RubroN3                    | Juegos de instrum... \n",
      " cantidad                   | 1                    \n",
      " UnidadMedida               | Global               \n",
      "-RECORD 9------------------------------------------\n",
      " Estado                     | Recepcion Conforme   \n",
      " FechaCreacion              | 2020-08-27           \n",
      " FechaAceptacion            | 2022-05-09           \n",
      " MontoTotalOC_PesosChilenos | 429390,08            \n",
      " OrganismoPublico           | SERVICIO DE SALUD... \n",
      " sector                     | Salud                \n",
      " CiudadUnidadCompra         | Rengo                \n",
      " RegionUnidadCompra         | Región del Libert... \n",
      " PaisProveedor              | Chile                \n",
      " IDItem                     | 112484904            \n",
      " RubroN1                    | Equipamiento y su... \n",
      " RubroN2                    | Productos quirúrg... \n",
      " RubroN3                    | Juegos de instrum... \n",
      " cantidad                   | 1                    \n",
      " UnidadMedida               | Global               \n",
      "-RECORD 10-----------------------------------------\n",
      " Estado                     | Enviada a proveedor  \n",
      " FechaCreacion              | 2020-10-15           \n",
      " FechaAceptacion            | NA                   \n",
      " MontoTotalOC_PesosChilenos | 404600               \n",
      " OrganismoPublico           | I MUNICIPALIDAD D... \n",
      " sector                     | Municipalidades      \n",
      " CiudadUnidadCompra         | San Vicente de Ta... \n",
      " RegionUnidadCompra         | Región del Libert... \n",
      " PaisProveedor              | Chile                \n",
      " IDItem                     | 113209085            \n",
      " RubroN1                    | Servicios de prod... \n",
      " RubroN2                    | Industrias de plá... \n",
      " RubroN3                    | Producción farmac... \n",
      " cantidad                   | 20000                \n",
      " UnidadMedida               | Unidad               \n",
      "-RECORD 11-----------------------------------------\n",
      " Estado                     | Aceptada             \n",
      " FechaCreacion              | 2020-10-22           \n",
      " FechaAceptacion            | 2022-05-30           \n",
      " MontoTotalOC_PesosChilenos | 882148,19            \n",
      " OrganismoPublico           | HOSPITAL DR GUSTA... \n",
      " sector                     | Salud                \n",
      " CiudadUnidadCompra         | Viña del Mar         \n",
      " RegionUnidadCompra         | Región de Valpara... \n",
      " PaisProveedor              | Chile                \n",
      " IDItem                     | 113325174            \n",
      " RubroN1                    | Equipamiento y su... \n",
      " RubroN2                    | Productos medicin... \n",
      " RubroN3                    | Dispositivos, acc... \n",
      " cantidad                   | 1                    \n",
      " UnidadMedida               | Unidad               \n",
      "-RECORD 12-----------------------------------------\n",
      " Estado                     | Recepcion Conforme   \n",
      " FechaCreacion              | 2021-01-14           \n",
      " FechaAceptacion            | 2022-05-09           \n",
      " MontoTotalOC_PesosChilenos | 61880                \n",
      " OrganismoPublico           | SERVICIO DE SALUD... \n",
      " sector                     | Salud                \n",
      " CiudadUnidadCompra         | Illapel              \n",
      " RegionUnidadCompra         | Región de Coquimbo   \n",
      " PaisProveedor              | NA                   \n",
      " IDItem                     | 114790898            \n",
      " RubroN1                    | Equipamiento y su... \n",
      " RubroN2                    | Equipos y suminis... \n",
      " RubroN3                    | Suministros y equ... \n",
      " cantidad                   | 13                   \n",
      " UnidadMedida               | Unidad               \n",
      "-RECORD 13-----------------------------------------\n",
      " Estado                     | Aceptada             \n",
      " FechaCreacion              | 2021-01-22           \n",
      " FechaAceptacion            | 2022-05-24           \n",
      " MontoTotalOC_PesosChilenos | 690175,01            \n",
      " OrganismoPublico           | HOSPITAL DR GUSTA... \n",
      " sector                     | Salud                \n",
      " CiudadUnidadCompra         | Viña del Mar         \n",
      " RegionUnidadCompra         | Región de Valpara... \n",
      " PaisProveedor              | Chile                \n",
      " IDItem                     | 114888354            \n",
      " RubroN1                    | Equipamiento y su... \n",
      " RubroN2                    | Productos medicin... \n",
      " RubroN3                    | Dispositivos, acc... \n",
      " cantidad                   | 1                    \n",
      " UnidadMedida               | Unidad               \n",
      "-RECORD 14-----------------------------------------\n",
      " Estado                     | Recepcion Conforme   \n",
      " FechaCreacion              | 2021-01-29           \n",
      " FechaAceptacion            | 2022-05-05           \n",
      " MontoTotalOC_PesosChilenos | 2605778,7            \n",
      " OrganismoPublico           | SERVICIO DE SALUD... \n",
      " sector                     | Salud                \n",
      " CiudadUnidadCompra         | Providencia          \n",
      " RegionUnidadCompra         | Región Metropolit... \n",
      " PaisProveedor              | Chile                \n",
      " IDItem                     | 122021788            \n",
      " RubroN1                    | Medicamentos y pr... \n",
      " RubroN2                    | Medicamentos inmu... \n",
      " RubroN3                    | Inmunodepresores     \n",
      " cantidad                   | 10                   \n",
      " UnidadMedida               | Unidad               \n",
      "only showing top 15 rows\n",
      "\n"
     ]
    }
   ],
   "source": [
    "df_columnas_relevantes.show(15,vertical=True)"
   ]
  },
  {
   "cell_type": "markdown",
   "metadata": {},
   "source": [
    "Cantidad de datos al elegir las columnas relevantes a analizar:"
   ]
  },
  {
   "cell_type": "code",
   "execution_count": 13,
   "metadata": {},
   "outputs": [
    {
     "data": {
      "text/plain": [
       "2587212"
      ]
     },
     "execution_count": 13,
     "metadata": {},
     "output_type": "execute_result"
    }
   ],
   "source": [
    "df_columnas_relevantes.count()"
   ]
  },
  {
   "cell_type": "markdown",
   "metadata": {},
   "source": [
    "#### Eliminar filas que no cuentas con un Estado válido. Deberían ser solo 5 posibles valores"
   ]
  },
  {
   "cell_type": "code",
   "execution_count": 14,
   "metadata": {},
   "outputs": [
    {
     "name": "stdout",
     "output_type": "stream",
     "text": [
      "-RECORD 0----------------------\n",
      " Estado | Compra Ágil          \n",
      "-RECORD 1----------------------\n",
      " Estado | Sin emisión autom... \n",
      "-RECORD 2----------------------\n",
      " Estado | Convenio Marco       \n",
      "-RECORD 3----------------------\n",
      " Estado | 8                    \n",
      "-RECORD 4----------------------\n",
      " Estado | Estado               \n",
      "-RECORD 5----------------------\n",
      " Estado | 5                    \n",
      "-RECORD 6----------------------\n",
      " Estado |  Llave               \n",
      "-RECORD 7----------------------\n",
      " Estado | 6                    \n",
      "-RECORD 8----------------------\n",
      " Estado | Costo de evaluaci... \n",
      "-RECORD 9----------------------\n",
      " Estado | CM                   \n",
      "-RECORD 10---------------------\n",
      " Estado | Cancelacion solic... \n",
      "-RECORD 11---------------------\n",
      " Estado | En proceso           \n",
      "-RECORD 12---------------------\n",
      " Estado | AG                   \n",
      "-RECORD 13---------------------\n",
      " Estado | Adquisición igual... \n",
      "-RECORD 14---------------------\n",
      " Estado | SE                   \n",
      "-RECORD 15---------------------\n",
      " Estado | Recepcion Conforme   \n",
      "-RECORD 16---------------------\n",
      " Estado | Si                   \n",
      "-RECORD 17---------------------\n",
      " Estado | Enviada a proveedor  \n",
      "-RECORD 18---------------------\n",
      " Estado | 4                    \n",
      "-RECORD 19---------------------\n",
      " Estado | 12                   \n",
      "only showing top 20 rows\n",
      "\n"
     ]
    }
   ],
   "source": [
    "df_columnas_relevantes.select(\"Estado\").distinct().show(vertical=True)"
   ]
  },
  {
   "cell_type": "code",
   "execution_count": 16,
   "metadata": {},
   "outputs": [],
   "source": [
    "estados_validos = [\"Aceptada\", \"En proceso\",\"Cancelacion solicitada\", \"Enviada a proveedor\", \"Recepcion Conforme\"] "
   ]
  },
  {
   "cell_type": "code",
   "execution_count": 17,
   "metadata": {},
   "outputs": [
    {
     "name": "stdout",
     "output_type": "stream",
     "text": [
      "-RECORD 0----------------------\n",
      " Estado | Cancelacion solic... \n",
      "-RECORD 1----------------------\n",
      " Estado | En proceso           \n",
      "-RECORD 2----------------------\n",
      " Estado | Recepcion Conforme   \n",
      "-RECORD 3----------------------\n",
      " Estado | Enviada a proveedor  \n",
      "-RECORD 4----------------------\n",
      " Estado | Aceptada             \n",
      "\n"
     ]
    }
   ],
   "source": [
    "df_estados_validos =df_columnas_relevantes.filter(df_columnas_relevantes.Estado.isin(estados_validos))\n",
    "df_estados_validos.select(\"Estado\").distinct().show(vertical=True)"
   ]
  },
  {
   "cell_type": "markdown",
   "metadata": {},
   "source": [
    "### Analisis de atributos\n"
   ]
  },
  {
   "cell_type": "code",
   "execution_count": 18,
   "metadata": {},
   "outputs": [],
   "source": [
    "df = df_estados_validos"
   ]
  },
  {
   "cell_type": "code",
   "execution_count": 19,
   "metadata": {},
   "outputs": [
    {
     "name": "stdout",
     "output_type": "stream",
     "text": [
      "root\n",
      " |-- Estado: string (nullable = true)\n",
      " |-- FechaCreacion: string (nullable = true)\n",
      " |-- FechaAceptacion: string (nullable = true)\n",
      " |-- MontoTotalOC_PesosChilenos: string (nullable = true)\n",
      " |-- OrganismoPublico: string (nullable = true)\n",
      " |-- sector: string (nullable = true)\n",
      " |-- CiudadUnidadCompra: string (nullable = true)\n",
      " |-- RegionUnidadCompra: string (nullable = true)\n",
      " |-- PaisProveedor: string (nullable = true)\n",
      " |-- IDItem: string (nullable = true)\n",
      " |-- RubroN1: string (nullable = true)\n",
      " |-- RubroN2: string (nullable = true)\n",
      " |-- RubroN3: string (nullable = true)\n",
      " |-- cantidad: string (nullable = true)\n",
      " |-- UnidadMedida: string (nullable = true)\n",
      "\n"
     ]
    }
   ],
   "source": [
    "df.printSchema()"
   ]
  },
  {
   "cell_type": "code",
   "execution_count": 20,
   "metadata": {},
   "outputs": [],
   "source": [
    "from pyspark.sql.functions import isnan, when, count, col"
   ]
  },
  {
   "cell_type": "code",
   "execution_count": 21,
   "metadata": {},
   "outputs": [
    {
     "name": "stdout",
     "output_type": "stream",
     "text": [
      "-RECORD 0----------------------------\n",
      " Estado                     | 0      \n",
      " FechaCreacion              | 0      \n",
      " FechaAceptacion            | 0      \n",
      " MontoTotalOC_PesosChilenos | 0      \n",
      " OrganismoPublico           | 0      \n",
      " sector                     | 0      \n",
      " CiudadUnidadCompra         | 336    \n",
      " RegionUnidadCompra         | 0      \n",
      " PaisProveedor              | 201426 \n",
      " IDItem                     | 0      \n",
      " RubroN1                    | 0      \n",
      " RubroN2                    | 0      \n",
      " RubroN3                    | 0      \n",
      " cantidad                   | 45     \n",
      " UnidadMedida               | 11     \n",
      "\n"
     ]
    }
   ],
   "source": [
    "from pyspark.sql.functions import isnan, when, count, col\n",
    "df.select([count(when(col(c).isNull(), c)).alias(c) for c in df.columns]).show(vertical=True)"
   ]
  },
  {
   "cell_type": "markdown",
   "metadata": {},
   "source": [
    "Convertimos las fechas a formato fecha"
   ]
  },
  {
   "cell_type": "code",
   "execution_count": 22,
   "metadata": {},
   "outputs": [],
   "source": [
    "from datetime import datetime\n",
    "from pyspark.sql.functions import col, udf\n",
    "from pyspark.sql.types import DoubleType, IntegerType, DateType"
   ]
  },
  {
   "cell_type": "code",
   "execution_count": 23,
   "metadata": {},
   "outputs": [],
   "source": [
    "# Convert the date column to a datetype with format year-month-day\n",
    "from pyspark.sql.functions import to_date\n",
    "df = df.withColumn('FechaCreacion', to_date(col('FechaCreacion'), 'yyyy-MM-dd'))\n",
    "df = df.withColumn('FechaAceptacion', to_date(col('FechaAceptacion'), 'yyyy-MM-dd'))"
   ]
  },
  {
   "cell_type": "code",
   "execution_count": 24,
   "metadata": {},
   "outputs": [
    {
     "name": "stdout",
     "output_type": "stream",
     "text": [
      "root\n",
      " |-- FechaCreacion: date (nullable = true)\n",
      " |-- FechaAceptacion: date (nullable = true)\n",
      "\n"
     ]
    }
   ],
   "source": [
    "df['FechaCreacion','FechaAceptacion'].printSchema()"
   ]
  },
  {
   "cell_type": "markdown",
   "metadata": {},
   "source": [
    "Convertimos el formato de datos númericos con coma, a datos númericos con puntos."
   ]
  },
  {
   "cell_type": "code",
   "execution_count": 25,
   "metadata": {},
   "outputs": [],
   "source": [
    "from pyspark.sql.functions import regexp_replace\n",
    "df = df.withColumn('MontoTotalOC_PesosChilenos', regexp_replace('MontoTotalOC_PesosChilenos', ',', '.'))\n",
    "df = df.withColumn('MontoTotalOC_PesosChilenos', df['MontoTotalOC_PesosChilenos'].cast(DoubleType()))"
   ]
  },
  {
   "cell_type": "code",
   "execution_count": 26,
   "metadata": {},
   "outputs": [],
   "source": [
    "df = df.filter(df.cantidad.rlike(\"[0-9,]\"))\n",
    "df = df.withColumn('cantidad', regexp_replace('cantidad', ',', '.'))\n",
    "df = df.withColumn('cantidad', col('cantidad').cast(DoubleType())) "
   ]
  },
  {
   "cell_type": "markdown",
   "metadata": {},
   "source": [
    "Convertimos los valores númericos a sus repectivos tipos"
   ]
  },
  {
   "cell_type": "code",
   "execution_count": 27,
   "metadata": {},
   "outputs": [],
   "source": [
    "df = df.withColumn('IDItem', col('IDItem').cast(IntegerType()))"
   ]
  },
  {
   "cell_type": "code",
   "execution_count": 28,
   "metadata": {},
   "outputs": [
    {
     "name": "stdout",
     "output_type": "stream",
     "text": [
      "root\n",
      " |-- MontoTotalOC_PesosChilenos: double (nullable = true)\n",
      " |-- IDItem: integer (nullable = true)\n",
      " |-- cantidad: double (nullable = true)\n",
      "\n"
     ]
    }
   ],
   "source": [
    "df['MontoTotalOC_PesosChilenos','IDItem', 'cantidad'].printSchema()"
   ]
  },
  {
   "cell_type": "code",
   "execution_count": 29,
   "metadata": {},
   "outputs": [
    {
     "name": "stdout",
     "output_type": "stream",
     "text": [
      "-RECORD 0----------------------------\n",
      " Estado                     | 0      \n",
      " FechaCreacion              | 0      \n",
      " FechaAceptacion            | 153161 \n",
      " MontoTotalOC_PesosChilenos | 0      \n",
      " OrganismoPublico           | 0      \n",
      " sector                     | 0      \n",
      " CiudadUnidadCompra         | 336    \n",
      " RegionUnidadCompra         | 0      \n",
      " PaisProveedor              | 201375 \n",
      " IDItem                     | 0      \n",
      " RubroN1                    | 0      \n",
      " RubroN2                    | 0      \n",
      " RubroN3                    | 0      \n",
      " cantidad                   | 283    \n",
      " UnidadMedida               | 9      \n",
      "\n"
     ]
    }
   ],
   "source": [
    "df.select([count(when(col(c).isNull(), c)).alias(c) for c in df.columns]).show(vertical=True)"
   ]
  },
  {
   "cell_type": "markdown",
   "metadata": {},
   "source": [
    "La explicación de por qué la columna FechaAceptación tiene nulos es porque no todas las compras fueron aceptadas, mientras que todas las compras fueron creadas (sino no estarían en el dataset)"
   ]
  },
  {
   "cell_type": "code",
   "execution_count": 30,
   "metadata": {},
   "outputs": [],
   "source": [
    "## Filter the rows that has FechaAceptacion null\n",
    "df = df.filter(df.FechaAceptacion.isNotNull())"
   ]
  },
  {
   "cell_type": "code",
   "execution_count": 31,
   "metadata": {},
   "outputs": [
    {
     "name": "stdout",
     "output_type": "stream",
     "text": [
      "-RECORD 0----------------------------\n",
      " Estado                     | 0      \n",
      " FechaCreacion              | 0      \n",
      " FechaAceptacion            | 0      \n",
      " MontoTotalOC_PesosChilenos | 0      \n",
      " OrganismoPublico           | 0      \n",
      " sector                     | 0      \n",
      " CiudadUnidadCompra         | 332    \n",
      " RegionUnidadCompra         | 0      \n",
      " PaisProveedor              | 189421 \n",
      " IDItem                     | 0      \n",
      " RubroN1                    | 0      \n",
      " RubroN2                    | 0      \n",
      " RubroN3                    | 0      \n",
      " cantidad                   | 272    \n",
      " UnidadMedida               | 9      \n",
      "\n"
     ]
    }
   ],
   "source": [
    "df.select([count(when(col(c).isNull(), c)).alias(c) for c in df.columns]).show(vertical=True)"
   ]
  },
  {
   "cell_type": "code",
   "execution_count": 32,
   "metadata": {},
   "outputs": [
    {
     "name": "stdout",
     "output_type": "stream",
     "text": [
      "-RECORD 0------------------------------------------\n",
      " Estado                     | Aceptada             \n",
      " FechaCreacion              | 2018-11-13           \n",
      " FechaAceptacion            | 2022-05-26           \n",
      " MontoTotalOC_PesosChilenos | 2.83880017316E9      \n",
      " OrganismoPublico           | SERVICIO DE VIVIE... \n",
      " sector                     | Obras Públicas       \n",
      " CiudadUnidadCompra         | Talca                \n",
      " RegionUnidadCompra         | Región del Maule     \n",
      " PaisProveedor              | Chile                \n",
      " IDItem                     | 99540855             \n",
      " RubroN1                    | Servicios de cons... \n",
      " RubroN2                    | Construcción de e... \n",
      " RubroN3                    | Construcción de o... \n",
      " cantidad                   | 1.0                  \n",
      " UnidadMedida               | Global               \n",
      "-RECORD 1------------------------------------------\n",
      " Estado                     | Aceptada             \n",
      " FechaCreacion              | 2018-11-13           \n",
      " FechaAceptacion            | 2022-05-26           \n",
      " MontoTotalOC_PesosChilenos | 2.83880017316E9      \n",
      " OrganismoPublico           | SERVICIO DE VIVIE... \n",
      " sector                     | Obras Públicas       \n",
      " CiudadUnidadCompra         | Talca                \n",
      " RegionUnidadCompra         | Región del Maule     \n",
      " PaisProveedor              | Chile                \n",
      " IDItem                     | 99540856             \n",
      " RubroN1                    | Servicios de cons... \n",
      " RubroN2                    | Construcción de e... \n",
      " RubroN3                    | Construcción de o... \n",
      " cantidad                   | 1.0                  \n",
      " UnidadMedida               | Global               \n",
      "-RECORD 2------------------------------------------\n",
      " Estado                     | Aceptada             \n",
      " FechaCreacion              | 2018-11-13           \n",
      " FechaAceptacion            | 2022-05-26           \n",
      " MontoTotalOC_PesosChilenos | 2.83880017316E9      \n",
      " OrganismoPublico           | SERVICIO DE VIVIE... \n",
      " sector                     | Obras Públicas       \n",
      " CiudadUnidadCompra         | Talca                \n",
      " RegionUnidadCompra         | Región del Maule     \n",
      " PaisProveedor              | Chile                \n",
      " IDItem                     | 99540857             \n",
      " RubroN1                    | Servicios de cons... \n",
      " RubroN2                    | Construcción de e... \n",
      " RubroN3                    | Construcción de o... \n",
      " cantidad                   | 1.0                  \n",
      " UnidadMedida               | Global               \n",
      "-RECORD 3------------------------------------------\n",
      " Estado                     | Aceptada             \n",
      " FechaCreacion              | 2019-07-25           \n",
      " FechaAceptacion            | 2022-05-17           \n",
      " MontoTotalOC_PesosChilenos | 1.19                 \n",
      " OrganismoPublico           | I MUNICIPALIDAD D... \n",
      " sector                     | Municipalidades      \n",
      " CiudadUnidadCompra         | Quintero             \n",
      " RegionUnidadCompra         | Región de Valpara... \n",
      " PaisProveedor              | Chile                \n",
      " IDItem                     | 105227828            \n",
      " RubroN1                    | Servicios financi... \n",
      " RubroN2                    | Banca e inversiones  \n",
      " RubroN3                    | Servicios de tran... \n",
      " cantidad                   | 1.0                  \n",
      " UnidadMedida               | Unidad               \n",
      "-RECORD 4------------------------------------------\n",
      " Estado                     | Recepcion Conforme   \n",
      " FechaCreacion              | 2020-08-27           \n",
      " FechaAceptacion            | 2022-05-09           \n",
      " MontoTotalOC_PesosChilenos | 893277.07            \n",
      " OrganismoPublico           | SERVICIO DE SALUD... \n",
      " sector                     | Salud                \n",
      " CiudadUnidadCompra         | Rengo                \n",
      " RegionUnidadCompra         | Región del Libert... \n",
      " PaisProveedor              | Chile                \n",
      " IDItem                     | 112479219            \n",
      " RubroN1                    | Equipamiento y su... \n",
      " RubroN2                    | Productos quirúrg... \n",
      " RubroN3                    | Juegos de instrum... \n",
      " cantidad                   | 1.0                  \n",
      " UnidadMedida               | Global               \n",
      "-RECORD 5------------------------------------------\n",
      " Estado                     | Recepcion Conforme   \n",
      " FechaCreacion              | 2020-08-27           \n",
      " FechaAceptacion            | 2022-05-09           \n",
      " MontoTotalOC_PesosChilenos | 402359.23            \n",
      " OrganismoPublico           | SERVICIO DE SALUD... \n",
      " sector                     | Salud                \n",
      " CiudadUnidadCompra         | Rengo                \n",
      " RegionUnidadCompra         | Región del Libert... \n",
      " PaisProveedor              | Chile                \n",
      " IDItem                     | 112484357            \n",
      " RubroN1                    | Equipamiento y su... \n",
      " RubroN2                    | Productos quirúrg... \n",
      " RubroN3                    | Juegos de instrum... \n",
      " cantidad                   | 1.0                  \n",
      " UnidadMedida               | Global               \n",
      "-RECORD 6------------------------------------------\n",
      " Estado                     | Recepcion Conforme   \n",
      " FechaCreacion              | 2020-08-27           \n",
      " FechaAceptacion            | 2022-05-09           \n",
      " MontoTotalOC_PesosChilenos | 429390.08            \n",
      " OrganismoPublico           | SERVICIO DE SALUD... \n",
      " sector                     | Salud                \n",
      " CiudadUnidadCompra         | Rengo                \n",
      " RegionUnidadCompra         | Región del Libert... \n",
      " PaisProveedor              | Chile                \n",
      " IDItem                     | 112484904            \n",
      " RubroN1                    | Equipamiento y su... \n",
      " RubroN2                    | Productos quirúrg... \n",
      " RubroN3                    | Juegos de instrum... \n",
      " cantidad                   | 1.0                  \n",
      " UnidadMedida               | Global               \n",
      "-RECORD 7------------------------------------------\n",
      " Estado                     | Aceptada             \n",
      " FechaCreacion              | 2020-10-22           \n",
      " FechaAceptacion            | 2022-05-30           \n",
      " MontoTotalOC_PesosChilenos | 882148.19            \n",
      " OrganismoPublico           | HOSPITAL DR GUSTA... \n",
      " sector                     | Salud                \n",
      " CiudadUnidadCompra         | Viña del Mar         \n",
      " RegionUnidadCompra         | Región de Valpara... \n",
      " PaisProveedor              | Chile                \n",
      " IDItem                     | 113325174            \n",
      " RubroN1                    | Equipamiento y su... \n",
      " RubroN2                    | Productos medicin... \n",
      " RubroN3                    | Dispositivos, acc... \n",
      " cantidad                   | 1.0                  \n",
      " UnidadMedida               | Unidad               \n",
      "-RECORD 8------------------------------------------\n",
      " Estado                     | Recepcion Conforme   \n",
      " FechaCreacion              | 2021-01-14           \n",
      " FechaAceptacion            | 2022-05-09           \n",
      " MontoTotalOC_PesosChilenos | 61880.0              \n",
      " OrganismoPublico           | SERVICIO DE SALUD... \n",
      " sector                     | Salud                \n",
      " CiudadUnidadCompra         | Illapel              \n",
      " RegionUnidadCompra         | Región de Coquimbo   \n",
      " PaisProveedor              | NA                   \n",
      " IDItem                     | 114790898            \n",
      " RubroN1                    | Equipamiento y su... \n",
      " RubroN2                    | Equipos y suminis... \n",
      " RubroN3                    | Suministros y equ... \n",
      " cantidad                   | 13.0                 \n",
      " UnidadMedida               | Unidad               \n",
      "-RECORD 9------------------------------------------\n",
      " Estado                     | Aceptada             \n",
      " FechaCreacion              | 2021-01-22           \n",
      " FechaAceptacion            | 2022-05-24           \n",
      " MontoTotalOC_PesosChilenos | 690175.01            \n",
      " OrganismoPublico           | HOSPITAL DR GUSTA... \n",
      " sector                     | Salud                \n",
      " CiudadUnidadCompra         | Viña del Mar         \n",
      " RegionUnidadCompra         | Región de Valpara... \n",
      " PaisProveedor              | Chile                \n",
      " IDItem                     | 114888354            \n",
      " RubroN1                    | Equipamiento y su... \n",
      " RubroN2                    | Productos medicin... \n",
      " RubroN3                    | Dispositivos, acc... \n",
      " cantidad                   | 1.0                  \n",
      " UnidadMedida               | Unidad               \n",
      "-RECORD 10-----------------------------------------\n",
      " Estado                     | Recepcion Conforme   \n",
      " FechaCreacion              | 2021-01-29           \n",
      " FechaAceptacion            | 2022-05-05           \n",
      " MontoTotalOC_PesosChilenos | 2605778.7            \n",
      " OrganismoPublico           | SERVICIO DE SALUD... \n",
      " sector                     | Salud                \n",
      " CiudadUnidadCompra         | Providencia          \n",
      " RegionUnidadCompra         | Región Metropolit... \n",
      " PaisProveedor              | Chile                \n",
      " IDItem                     | 122021788            \n",
      " RubroN1                    | Medicamentos y pr... \n",
      " RubroN2                    | Medicamentos inmu... \n",
      " RubroN3                    | Inmunodepresores     \n",
      " cantidad                   | 10.0                 \n",
      " UnidadMedida               | Unidad               \n",
      "-RECORD 11-----------------------------------------\n",
      " Estado                     | Aceptada             \n",
      " FechaCreacion              | 2021-04-13           \n",
      " FechaAceptacion            | 2022-05-23           \n",
      " MontoTotalOC_PesosChilenos | 1823270.4            \n",
      " OrganismoPublico           | SERVICIO DE SALUD... \n",
      " sector                     | Salud                \n",
      " CiudadUnidadCompra         | Castro               \n",
      " RegionUnidadCompra         | Región de los Lagos  \n",
      " PaisProveedor              | Chile                \n",
      " IDItem                     | 116057842            \n",
      " RubroN1                    | Ropa, maletas y p... \n",
      " RubroN2                    | Artículos de baño... \n",
      " RubroN3                    | Artículos de baño... \n",
      " cantidad                   | 19152.0              \n",
      " UnidadMedida               | Unidad               \n",
      "-RECORD 12-----------------------------------------\n",
      " Estado                     | Recepcion Conforme   \n",
      " FechaCreacion              | 2021-04-15           \n",
      " FechaAceptacion            | 2022-05-05           \n",
      " MontoTotalOC_PesosChilenos | 4.239146044E7        \n",
      " OrganismoPublico           | I MUNICIPALIDAD D... \n",
      " sector                     | Municipalidades      \n",
      " CiudadUnidadCompra         | Codegua              \n",
      " RegionUnidadCompra         | Región del Libert... \n",
      " PaisProveedor              | NA                   \n",
      " IDItem                     | 116098748            \n",
      " RubroN1                    | Servicios de cons... \n",
      " RubroN2                    | Construcción de e... \n",
      " RubroN3                    | Construcción de o... \n",
      " cantidad                   | 1.0                  \n",
      " UnidadMedida               | Unidad               \n",
      "-RECORD 13-----------------------------------------\n",
      " Estado                     | Aceptada             \n",
      " FechaCreacion              | 2021-04-28           \n",
      " FechaAceptacion            | 2022-05-09           \n",
      " MontoTotalOC_PesosChilenos | 1.441194244E7        \n",
      " OrganismoPublico           | I MUNICIPALIDAD P... \n",
      " sector                     | Municipalidades      \n",
      " CiudadUnidadCompra         | Pedro Aguirre Cerda  \n",
      " RegionUnidadCompra         | Región Metropolit... \n",
      " PaisProveedor              | Chile                \n",
      " IDItem                     | 116313204            \n",
      " RubroN1                    | Servicios de cons... \n",
      " RubroN2                    | Construcción de e... \n",
      " RubroN3                    | Construcción de o... \n",
      " cantidad                   | 1.0                  \n",
      " UnidadMedida               | Unidad               \n",
      "-RECORD 14-----------------------------------------\n",
      " Estado                     | Aceptada             \n",
      " FechaCreacion              | 2021-05-14           \n",
      " FechaAceptacion            | 2022-05-30           \n",
      " MontoTotalOC_PesosChilenos | 7683233.81           \n",
      " OrganismoPublico           | HOSPITAL DR GUSTA... \n",
      " sector                     | Salud                \n",
      " CiudadUnidadCompra         | Viña del Mar         \n",
      " RegionUnidadCompra         | Región de Valpara... \n",
      " PaisProveedor              | Chile                \n",
      " IDItem                     | 116557752            \n",
      " RubroN1                    | Equipamiento y su... \n",
      " RubroN2                    | Productos medicin... \n",
      " RubroN3                    | Dispositivos, acc... \n",
      " cantidad                   | 1.0                  \n",
      " UnidadMedida               | Unidad               \n",
      "only showing top 15 rows\n",
      "\n"
     ]
    }
   ],
   "source": [
    "df.show(15,vertical=True)"
   ]
  },
  {
   "cell_type": "code",
   "execution_count": 33,
   "metadata": {},
   "outputs": [
    {
     "name": "stdout",
     "output_type": "stream",
     "text": [
      "root\n",
      " |-- Estado: string (nullable = true)\n",
      " |-- FechaCreacion: date (nullable = true)\n",
      " |-- FechaAceptacion: date (nullable = true)\n",
      " |-- MontoTotalOC_PesosChilenos: double (nullable = true)\n",
      " |-- OrganismoPublico: string (nullable = true)\n",
      " |-- sector: string (nullable = true)\n",
      " |-- CiudadUnidadCompra: string (nullable = true)\n",
      " |-- RegionUnidadCompra: string (nullable = true)\n",
      " |-- PaisProveedor: string (nullable = true)\n",
      " |-- IDItem: integer (nullable = true)\n",
      " |-- RubroN1: string (nullable = true)\n",
      " |-- RubroN2: string (nullable = true)\n",
      " |-- RubroN3: string (nullable = true)\n",
      " |-- cantidad: double (nullable = true)\n",
      " |-- UnidadMedida: string (nullable = true)\n",
      "\n"
     ]
    }
   ],
   "source": [
    "df.printSchema()"
   ]
  },
  {
   "cell_type": "code",
   "execution_count": 34,
   "metadata": {},
   "outputs": [
    {
     "data": {
      "text/plain": [
       "2430357"
      ]
     },
     "execution_count": 34,
     "metadata": {},
     "output_type": "execute_result"
    }
   ],
   "source": [
    "df.count()"
   ]
  },
  {
   "cell_type": "markdown",
   "metadata": {},
   "source": [
    "De las originales 2587212, eliminamos 156855 líneas del data set, un 6%. "
   ]
  },
  {
   "cell_type": "markdown",
   "metadata": {},
   "source": [
    "### Convertimos a Pandas"
   ]
  },
  {
   "cell_type": "markdown",
   "metadata": {},
   "source": [
    "Primero vamos a hacer un 'sample' de nuestro datos ya que Pandas no soporta los 2 millones de datos que tenemos. Por lo tanto, los resultados del PandaReport son una representación del dataset original."
   ]
  },
  {
   "cell_type": "code",
   "execution_count": 35,
   "metadata": {},
   "outputs": [],
   "source": [
    "df_sample = df.sample(False, 0.3, seed = 1)"
   ]
  },
  {
   "cell_type": "code",
   "execution_count": 36,
   "metadata": {},
   "outputs": [
    {
     "name": "stderr",
     "output_type": "stream",
     "text": [
      "/opt/conda/lib/python3.7/site-packages/pandas/compat/_optional.py:138: UserWarning: Pandas requires version '2.7.0' or newer of 'numexpr' (version '2.6.9' currently installed).\n",
      "  warnings.warn(msg, UserWarning)\n"
     ]
    }
   ],
   "source": [
    "import sys\n",
    "import seaborn as sns \n",
    "import pandas as pd \n",
    "import numpy as np\n",
    "import matplotlib.pyplot as plt"
   ]
  },
  {
   "cell_type": "code",
   "execution_count": 37,
   "metadata": {},
   "outputs": [],
   "source": [
    "dfp = df_sample.toPandas() "
   ]
  },
  {
   "cell_type": "code",
   "execution_count": 38,
   "metadata": {},
   "outputs": [
    {
     "data": {
      "text/html": [
       "<div>\n",
       "<style scoped>\n",
       "    .dataframe tbody tr th:only-of-type {\n",
       "        vertical-align: middle;\n",
       "    }\n",
       "\n",
       "    .dataframe tbody tr th {\n",
       "        vertical-align: top;\n",
       "    }\n",
       "\n",
       "    .dataframe thead th {\n",
       "        text-align: right;\n",
       "    }\n",
       "</style>\n",
       "<table border=\"1\" class=\"dataframe\">\n",
       "  <thead>\n",
       "    <tr style=\"text-align: right;\">\n",
       "      <th></th>\n",
       "      <th>Estado</th>\n",
       "      <th>FechaCreacion</th>\n",
       "      <th>FechaAceptacion</th>\n",
       "      <th>MontoTotalOC_PesosChilenos</th>\n",
       "      <th>OrganismoPublico</th>\n",
       "      <th>sector</th>\n",
       "      <th>CiudadUnidadCompra</th>\n",
       "      <th>RegionUnidadCompra</th>\n",
       "      <th>PaisProveedor</th>\n",
       "      <th>IDItem</th>\n",
       "      <th>RubroN1</th>\n",
       "      <th>RubroN2</th>\n",
       "      <th>RubroN3</th>\n",
       "      <th>cantidad</th>\n",
       "      <th>UnidadMedida</th>\n",
       "    </tr>\n",
       "  </thead>\n",
       "  <tbody>\n",
       "    <tr>\n",
       "      <th>0</th>\n",
       "      <td>Aceptada</td>\n",
       "      <td>2018-11-13</td>\n",
       "      <td>2022-05-26</td>\n",
       "      <td>2.838800e+09</td>\n",
       "      <td>SERVICIO DE VIVIENDA Y URBANIZACION VII REGION</td>\n",
       "      <td>Obras Públicas</td>\n",
       "      <td>Talca</td>\n",
       "      <td>Región del Maule</td>\n",
       "      <td>Chile</td>\n",
       "      <td>99540855</td>\n",
       "      <td>Servicios de construcción y mantenimiento</td>\n",
       "      <td>Construcción de edificios en general</td>\n",
       "      <td>Construcción de obras civiles y infraestructuras</td>\n",
       "      <td>1.0</td>\n",
       "      <td>Global</td>\n",
       "    </tr>\n",
       "    <tr>\n",
       "      <th>1</th>\n",
       "      <td>Aceptada</td>\n",
       "      <td>2018-11-13</td>\n",
       "      <td>2022-05-26</td>\n",
       "      <td>2.838800e+09</td>\n",
       "      <td>SERVICIO DE VIVIENDA Y URBANIZACION VII REGION</td>\n",
       "      <td>Obras Públicas</td>\n",
       "      <td>Talca</td>\n",
       "      <td>Región del Maule</td>\n",
       "      <td>Chile</td>\n",
       "      <td>99540857</td>\n",
       "      <td>Servicios de construcción y mantenimiento</td>\n",
       "      <td>Construcción de edificios en general</td>\n",
       "      <td>Construcción de obras civiles y infraestructuras</td>\n",
       "      <td>1.0</td>\n",
       "      <td>Global</td>\n",
       "    </tr>\n",
       "    <tr>\n",
       "      <th>2</th>\n",
       "      <td>Aceptada</td>\n",
       "      <td>2019-07-25</td>\n",
       "      <td>2022-05-17</td>\n",
       "      <td>1.190000e+00</td>\n",
       "      <td>I MUNICIPALIDAD DE QUINTERO</td>\n",
       "      <td>Municipalidades</td>\n",
       "      <td>Quintero</td>\n",
       "      <td>Región de Valparaíso</td>\n",
       "      <td>Chile</td>\n",
       "      <td>105227828</td>\n",
       "      <td>Servicios financieros, pensiones y seguros</td>\n",
       "      <td>Banca e inversiones</td>\n",
       "      <td>Servicios de transferencia de fondos, compensa...</td>\n",
       "      <td>1.0</td>\n",
       "      <td>Unidad</td>\n",
       "    </tr>\n",
       "    <tr>\n",
       "      <th>3</th>\n",
       "      <td>Recepcion Conforme</td>\n",
       "      <td>2020-08-27</td>\n",
       "      <td>2022-05-09</td>\n",
       "      <td>4.293901e+05</td>\n",
       "      <td>SERVICIO DE SALUD HOSPITAL DE RENGO</td>\n",
       "      <td>Salud</td>\n",
       "      <td>Rengo</td>\n",
       "      <td>Región del Libertador General Bernardo O´Higgins</td>\n",
       "      <td>Chile</td>\n",
       "      <td>112484904</td>\n",
       "      <td>Equipamiento y suministros médicos</td>\n",
       "      <td>Productos quirúrgicos</td>\n",
       "      <td>Juegos de instrumentos, sistemas y bandejas qu...</td>\n",
       "      <td>1.0</td>\n",
       "      <td>Global</td>\n",
       "    </tr>\n",
       "    <tr>\n",
       "      <th>4</th>\n",
       "      <td>Recepcion Conforme</td>\n",
       "      <td>2021-01-14</td>\n",
       "      <td>2022-05-09</td>\n",
       "      <td>6.188000e+04</td>\n",
       "      <td>SERVICIO DE SALUD COQUIMBO HOSPITAL DR. HUMBER...</td>\n",
       "      <td>Salud</td>\n",
       "      <td>Illapel</td>\n",
       "      <td>Región de Coquimbo</td>\n",
       "      <td>NA</td>\n",
       "      <td>114790898</td>\n",
       "      <td>Equipamiento y suministros médicos</td>\n",
       "      <td>Equipos y suministros odontológicos</td>\n",
       "      <td>Suministros y equipos de odontología cosmética</td>\n",
       "      <td>13.0</td>\n",
       "      <td>Unidad</td>\n",
       "    </tr>\n",
       "    <tr>\n",
       "      <th>5</th>\n",
       "      <td>Recepcion Conforme</td>\n",
       "      <td>2021-04-15</td>\n",
       "      <td>2022-05-05</td>\n",
       "      <td>4.239146e+07</td>\n",
       "      <td>I MUNICIPALIDAD DE CODEGUA</td>\n",
       "      <td>Municipalidades</td>\n",
       "      <td>Codegua</td>\n",
       "      <td>Región del Libertador General Bernardo O´Higgins</td>\n",
       "      <td>NA</td>\n",
       "      <td>116098748</td>\n",
       "      <td>Servicios de construcción y mantenimiento</td>\n",
       "      <td>Construcción de edificios en general</td>\n",
       "      <td>Construcción de obras civiles y infraestructuras</td>\n",
       "      <td>1.0</td>\n",
       "      <td>Unidad</td>\n",
       "    </tr>\n",
       "    <tr>\n",
       "      <th>6</th>\n",
       "      <td>Aceptada</td>\n",
       "      <td>2021-05-14</td>\n",
       "      <td>2022-05-30</td>\n",
       "      <td>7.683234e+06</td>\n",
       "      <td>HOSPITAL DR GUSTAVO FRICKE DE VINA DEL MAR</td>\n",
       "      <td>Salud</td>\n",
       "      <td>Viña del Mar</td>\n",
       "      <td>Región de Valparaíso</td>\n",
       "      <td>Chile</td>\n",
       "      <td>116557752</td>\n",
       "      <td>Equipamiento y suministros médicos</td>\n",
       "      <td>Productos medicinales para deportes, prostétic...</td>\n",
       "      <td>Dispositivos, accesorios y suministros protésicos</td>\n",
       "      <td>1.0</td>\n",
       "      <td>Unidad</td>\n",
       "    </tr>\n",
       "    <tr>\n",
       "      <th>7</th>\n",
       "      <td>Aceptada</td>\n",
       "      <td>2021-05-19</td>\n",
       "      <td>2022-05-19</td>\n",
       "      <td>1.670394e+10</td>\n",
       "      <td>I MUNICIPALIDAD DE QUILICURA</td>\n",
       "      <td>Municipalidades</td>\n",
       "      <td>Quilicura</td>\n",
       "      <td>Región Metropolitana de Santiago</td>\n",
       "      <td>Chile</td>\n",
       "      <td>116614019</td>\n",
       "      <td>Servicios de limpieza industrial</td>\n",
       "      <td>Eliminación y tratamiento de desechos</td>\n",
       "      <td>Recolección y eliminación de desechos</td>\n",
       "      <td>72.0</td>\n",
       "      <td>Mes</td>\n",
       "    </tr>\n",
       "    <tr>\n",
       "      <th>8</th>\n",
       "      <td>Recepcion Conforme</td>\n",
       "      <td>2021-07-08</td>\n",
       "      <td>2022-05-06</td>\n",
       "      <td>1.523200e+07</td>\n",
       "      <td>HOSPITAL COMPLEJO ASISTENCIAL PADRE LAS CASAS</td>\n",
       "      <td>Otros</td>\n",
       "      <td>Padre Las Casas</td>\n",
       "      <td>Región de la Araucanía</td>\n",
       "      <td>Chile</td>\n",
       "      <td>117339388</td>\n",
       "      <td>Medicamentos y productos farmacéuticos</td>\n",
       "      <td>Medicamentos para el sistema nervioso central</td>\n",
       "      <td>Fármacos anestésicos, complementos relacionado...</td>\n",
       "      <td>400.0</td>\n",
       "      <td>Frasco Ampolla</td>\n",
       "    </tr>\n",
       "    <tr>\n",
       "      <th>9</th>\n",
       "      <td>Aceptada</td>\n",
       "      <td>2021-07-29</td>\n",
       "      <td>2022-05-20</td>\n",
       "      <td>1.216418e+08</td>\n",
       "      <td>MINISTERIO DE OBRAS PUBLICAS DIREC CION GRAL D...</td>\n",
       "      <td>Obras Públicas</td>\n",
       "      <td>Talca</td>\n",
       "      <td>Región del Maule</td>\n",
       "      <td>NA</td>\n",
       "      <td>117627372</td>\n",
       "      <td>Servicios de defensa nacional, orden público y...</td>\n",
       "      <td>Orden público y seguridad</td>\n",
       "      <td>Servicios de seguridad y policiales</td>\n",
       "      <td>1.0</td>\n",
       "      <td>Unidad</td>\n",
       "    </tr>\n",
       "  </tbody>\n",
       "</table>\n",
       "</div>"
      ],
      "text/plain": [
       "               Estado FechaCreacion FechaAceptacion  \\\n",
       "0            Aceptada    2018-11-13      2022-05-26   \n",
       "1            Aceptada    2018-11-13      2022-05-26   \n",
       "2            Aceptada    2019-07-25      2022-05-17   \n",
       "3  Recepcion Conforme    2020-08-27      2022-05-09   \n",
       "4  Recepcion Conforme    2021-01-14      2022-05-09   \n",
       "5  Recepcion Conforme    2021-04-15      2022-05-05   \n",
       "6            Aceptada    2021-05-14      2022-05-30   \n",
       "7            Aceptada    2021-05-19      2022-05-19   \n",
       "8  Recepcion Conforme    2021-07-08      2022-05-06   \n",
       "9            Aceptada    2021-07-29      2022-05-20   \n",
       "\n",
       "   MontoTotalOC_PesosChilenos  \\\n",
       "0                2.838800e+09   \n",
       "1                2.838800e+09   \n",
       "2                1.190000e+00   \n",
       "3                4.293901e+05   \n",
       "4                6.188000e+04   \n",
       "5                4.239146e+07   \n",
       "6                7.683234e+06   \n",
       "7                1.670394e+10   \n",
       "8                1.523200e+07   \n",
       "9                1.216418e+08   \n",
       "\n",
       "                                    OrganismoPublico           sector  \\\n",
       "0     SERVICIO DE VIVIENDA Y URBANIZACION VII REGION   Obras Públicas   \n",
       "1     SERVICIO DE VIVIENDA Y URBANIZACION VII REGION   Obras Públicas   \n",
       "2                        I MUNICIPALIDAD DE QUINTERO  Municipalidades   \n",
       "3                SERVICIO DE SALUD HOSPITAL DE RENGO            Salud   \n",
       "4  SERVICIO DE SALUD COQUIMBO HOSPITAL DR. HUMBER...            Salud   \n",
       "5                         I MUNICIPALIDAD DE CODEGUA  Municipalidades   \n",
       "6         HOSPITAL DR GUSTAVO FRICKE DE VINA DEL MAR            Salud   \n",
       "7                       I MUNICIPALIDAD DE QUILICURA  Municipalidades   \n",
       "8      HOSPITAL COMPLEJO ASISTENCIAL PADRE LAS CASAS            Otros   \n",
       "9  MINISTERIO DE OBRAS PUBLICAS DIREC CION GRAL D...   Obras Públicas   \n",
       "\n",
       "  CiudadUnidadCompra                                RegionUnidadCompra  \\\n",
       "0              Talca                                 Región del Maule    \n",
       "1              Talca                                 Región del Maule    \n",
       "2           Quintero                             Región de Valparaíso    \n",
       "3              Rengo  Región del Libertador General Bernardo O´Higgins   \n",
       "4            Illapel                               Región de Coquimbo    \n",
       "5            Codegua  Región del Libertador General Bernardo O´Higgins   \n",
       "6       Viña del Mar                             Región de Valparaíso    \n",
       "7          Quilicura                  Región Metropolitana de Santiago   \n",
       "8    Padre Las Casas                           Región de la Araucanía    \n",
       "9              Talca                                 Región del Maule    \n",
       "\n",
       "  PaisProveedor     IDItem                                            RubroN1  \\\n",
       "0         Chile   99540855          Servicios de construcción y mantenimiento   \n",
       "1         Chile   99540857          Servicios de construcción y mantenimiento   \n",
       "2         Chile  105227828         Servicios financieros, pensiones y seguros   \n",
       "3         Chile  112484904                 Equipamiento y suministros médicos   \n",
       "4            NA  114790898                 Equipamiento y suministros médicos   \n",
       "5            NA  116098748          Servicios de construcción y mantenimiento   \n",
       "6         Chile  116557752                 Equipamiento y suministros médicos   \n",
       "7         Chile  116614019                   Servicios de limpieza industrial   \n",
       "8         Chile  117339388             Medicamentos y productos farmacéuticos   \n",
       "9            NA  117627372  Servicios de defensa nacional, orden público y...   \n",
       "\n",
       "                                             RubroN2  \\\n",
       "0               Construcción de edificios en general   \n",
       "1               Construcción de edificios en general   \n",
       "2                                Banca e inversiones   \n",
       "3                              Productos quirúrgicos   \n",
       "4                Equipos y suministros odontológicos   \n",
       "5               Construcción de edificios en general   \n",
       "6  Productos medicinales para deportes, prostétic...   \n",
       "7              Eliminación y tratamiento de desechos   \n",
       "8      Medicamentos para el sistema nervioso central   \n",
       "9                          Orden público y seguridad   \n",
       "\n",
       "                                             RubroN3  cantidad    UnidadMedida  \n",
       "0   Construcción de obras civiles y infraestructuras       1.0          Global  \n",
       "1   Construcción de obras civiles y infraestructuras       1.0          Global  \n",
       "2  Servicios de transferencia de fondos, compensa...       1.0          Unidad  \n",
       "3  Juegos de instrumentos, sistemas y bandejas qu...       1.0          Global  \n",
       "4     Suministros y equipos de odontología cosmética      13.0          Unidad  \n",
       "5   Construcción de obras civiles y infraestructuras       1.0          Unidad  \n",
       "6  Dispositivos, accesorios y suministros protésicos       1.0          Unidad  \n",
       "7              Recolección y eliminación de desechos      72.0             Mes  \n",
       "8  Fármacos anestésicos, complementos relacionado...     400.0  Frasco Ampolla  \n",
       "9                Servicios de seguridad y policiales       1.0          Unidad  "
      ]
     },
     "execution_count": 38,
     "metadata": {},
     "output_type": "execute_result"
    }
   ],
   "source": [
    "dfp.head(10) "
   ]
  },
  {
   "cell_type": "code",
   "execution_count": 39,
   "metadata": {},
   "outputs": [
    {
     "name": "stdout",
     "output_type": "stream",
     "text": [
      "Index(['Estado', 'FechaCreacion', 'FechaAceptacion',\n",
      "       'MontoTotalOC_PesosChilenos', 'OrganismoPublico', 'sector',\n",
      "       'CiudadUnidadCompra', 'RegionUnidadCompra', 'PaisProveedor', 'IDItem',\n",
      "       'RubroN1', 'RubroN2', 'RubroN3', 'cantidad', 'UnidadMedida'],\n",
      "      dtype='object')\n"
     ]
    }
   ],
   "source": [
    "df_category = dfp\n",
    "print(df_category.columns)"
   ]
  },
  {
   "cell_type": "code",
   "execution_count": 40,
   "metadata": {},
   "outputs": [],
   "source": [
    "for col in df_category.columns:\n",
    "    df_category[col] = df_category[col].astype('category')\n",
    "    df_category[col] = df_category[col].cat.codes"
   ]
  },
  {
   "cell_type": "code",
   "execution_count": 41,
   "metadata": {},
   "outputs": [],
   "source": [
    "dfpandas = df_category"
   ]
  },
  {
   "cell_type": "code",
   "execution_count": 42,
   "metadata": {},
   "outputs": [
    {
     "data": {
      "image/png": "[encoded data removed]",
      "text/plain": [
       "<Figure size 1440x1080 with 2 Axes>"
      ]
     },
     "metadata": {
      "needs_background": "light"
     },
     "output_type": "display_data"
    }
   ],
   "source": [
    "# Correlation matrix\n",
    "corr = dfpandas.corr()\n",
    "plt.subplots(figsize=(20,15))\n",
    "sns.heatmap(corr,  annot = True, fmt = '.2f')\n",
    "plt.title('Matriz de correlacion para dataset procesado', fontsize = 20)\n",
    "plt.show()"
   ]
  },
  {
   "cell_type": "code",
   "execution_count": 43,
   "metadata": {},
   "outputs": [],
   "source": [
    "# ! pip install https://github.com/ydataai/pandas-profiling/archive/master.zip"
   ]
  },
  {
   "cell_type": "code",
   "execution_count": 119,
   "metadata": {},
   "outputs": [],
   "source": [
    "import numpy as np\n",
    "import pandas as pd\n",
    "from pandas_profiling import ProfileReport\n",
    "from ipywidgets import FloatProgress\n",
    "import matplotlib.pyplot as plt\n",
    "%matplotlib inline\n",
    "\n",
    "profile = ProfileReport(dfpandas, title=\"Compras del estado Chileno\", minimal = True)"
   ]
  },
  {
   "cell_type": "code",
   "execution_count": 120,
   "metadata": {},
   "outputs": [
    {
     "data": {
      "application/vnd.jupyter.widget-view+json": {
       "model_id": "4d75f6e304074faf9919767ffbad239b",
       "version_major": 2,
       "version_minor": 0
      },
      "text/plain": [
       "Summarize dataset:   0%|          | 0/5 [00:00<?, ?it/s]"
      ]
     },
     "metadata": {},
     "output_type": "display_data"
    },
    {
     "data": {
      "application/vnd.jupyter.widget-view+json": {
       "model_id": "d6ecef135c8347ba89dec8c66e479f22",
       "version_major": 2,
       "version_minor": 0
      },
      "text/plain": [
       "Generate report structure:   0%|          | 0/1 [00:00<?, ?it/s]"
      ]
     },
     "metadata": {},
     "output_type": "display_data"
    },
    {
     "data": {
      "application/vnd.jupyter.widget-view+json": {
       "model_id": "1eb78bd671454fbe8d531c82be5f9f36",
       "version_major": 2,
       "version_minor": 0
      },
      "text/plain": [
       "Render HTML:   0%|          | 0/1 [00:00<?, ?it/s]"
      ]
     },
     "metadata": {},
     "output_type": "display_data"
    },
    {
     "data": {
      "application/vnd.jupyter.widget-view+json": {
       "model_id": "9f74fea14ec54cac83643b757b436929",
       "version_major": 2,
       "version_minor": 0
      },
      "text/plain": [
       "Export report to file:   0%|          | 0/1 [00:00<?, ?it/s]"
      ]
     },
     "metadata": {},
     "output_type": "display_data"
    }
   ],
   "source": [
    "profile.to_file(\"ComprasChile2021-2022.html\")"
   ]
  },
  {
   "cell_type": "markdown",
   "metadata": {},
   "source": [
    "### Análisis de DataSets en base a preguntas objetivo"
   ]
  },
  {
   "cell_type": "code",
   "execution_count": 122,
   "metadata": {},
   "outputs": [],
   "source": [
    "from pyspark.sql.functions import *"
   ]
  },
  {
   "cell_type": "code",
   "execution_count": 139,
   "metadata": {},
   "outputs": [],
   "source": [
    "# # UDF to process the currancy column\n",
    "\n",
    "conversionRate = 800 # How many chilean pesos = 1 dollar, estimated \n",
    "def toCurrancy (pesos):\n",
    "    \n",
    "    dollars = pesos/conversionRate\n",
    "    finalDollars = \"US$ {:,.0f}\".format(dollars)\n",
    "    return finalDollars\n",
    "    \n",
    "udfToCurrancy = udf(lambda x: toCurrancy(x))"
   ]
  },
  {
   "cell_type": "code",
   "execution_count": 140,
   "metadata": {},
   "outputs": [],
   "source": [
    "udfToDollars = udf(lambda x: 0 if x is None else x/800)"
   ]
  },
  {
   "cell_type": "markdown",
   "metadata": {},
   "source": [
    "#### ¿ Cual fue el gasto total del Estado Chileno en los meses analizados? \n",
    "\n",
    "Vamos a usar este valor como referencia para las consultas posteriores"
   ]
  },
  {
   "cell_type": "code",
   "execution_count": 199,
   "metadata": {},
   "outputs": [
    {
     "name": "stdout",
     "output_type": "stream",
     "text": [
      "+------------------+\n",
      "|Total Gastos      |\n",
      "+------------------+\n",
      "|US$ 17,935,363,328|\n",
      "+------------------+\n",
      "\n"
     ]
    }
   ],
   "source": [
    "df.select(sum(col(\"MontoTotalOC_PesosChilenos\")).alias(\"Total Gastos\")).withColumn('Total Gastos', udfToCurrancy(col('Total Gastos'))).show(truncate=False)"
   ]
  },
  {
   "cell_type": "code",
   "execution_count": 219,
   "metadata": {},
   "outputs": [],
   "source": [
    "gasto_total = df.select(sum(col(\"MontoTotalOC_PesosChilenos\")).alias(\"Total Gastos\")).withColumn('Total Gastos', (col('Total Gastos')))\n",
    "gasto_total = gasto_total.collect()[0][0]"
   ]
  },
  {
   "cell_type": "code",
   "execution_count": 218,
   "metadata": {},
   "outputs": [
    {
     "name": "stdout",
     "output_type": "stream",
     "text": [
      "US$ 2,562,194,761\n"
     ]
    }
   ],
   "source": [
    "gasto_total = float(gasto_total)\n",
    "gasto_total = gasto_total/7\n",
    "gasto_usd = toCurrancy(gasto_total)\n",
    "print(gasto_usd)"
   ]
  },
  {
   "cell_type": "markdown",
   "metadata": {},
   "source": [
    "Vamos a hacer un histograma de los montos gastados para poder observar la distribución de las compras"
   ]
  },
  {
   "cell_type": "code",
   "execution_count": 142,
   "metadata": {},
   "outputs": [
    {
     "name": "stdout",
     "output_type": "stream",
     "text": [
      "+--------------------------+\n",
      "|MontoTotalOC_PesosChilenos|\n",
      "+--------------------------+\n",
      "|           2.83880017316E9|\n",
      "|           2.83880017316E9|\n",
      "|           2.83880017316E9|\n",
      "|                      1.19|\n",
      "|                 893277.07|\n",
      "|                 402359.23|\n",
      "|                 429390.08|\n",
      "|                 882148.19|\n",
      "|                   61880.0|\n",
      "|                 690175.01|\n",
      "|                 2605778.7|\n",
      "|                 1823270.4|\n",
      "|             4.239146044E7|\n",
      "|             1.441194244E7|\n",
      "|                7683233.81|\n",
      "|          1.67039367516E10|\n",
      "|                 5840139.2|\n",
      "|                  570248.0|\n",
      "|                  1.1781E7|\n",
      "|                1.489766E7|\n",
      "+--------------------------+\n",
      "only showing top 20 rows\n",
      "\n"
     ]
    }
   ],
   "source": [
    "df_solo_gastos = df.select(col(\"MontoTotalOC_PesosChilenos\")).alias(\"Total Gastos\")\n",
    "df_solo_gastos.show()"
   ]
  },
  {
   "cell_type": "code",
   "execution_count": 143,
   "metadata": {},
   "outputs": [],
   "source": [
    "df_solo_gastosPD = df_solo_gastos.toPandas()"
   ]
  },
  {
   "cell_type": "code",
   "execution_count": 144,
   "metadata": {},
   "outputs": [
    {
     "data": {
      "text/html": [
       "<div>\n",
       "<style scoped>\n",
       "    .dataframe tbody tr th:only-of-type {\n",
       "        vertical-align: middle;\n",
       "    }\n",
       "\n",
       "    .dataframe tbody tr th {\n",
       "        vertical-align: top;\n",
       "    }\n",
       "\n",
       "    .dataframe thead th {\n",
       "        text-align: right;\n",
       "    }\n",
       "</style>\n",
       "<table border=\"1\" class=\"dataframe\">\n",
       "  <thead>\n",
       "    <tr style=\"text-align: right;\">\n",
       "      <th></th>\n",
       "      <th>MontoTotalOC_PesosChilenos</th>\n",
       "    </tr>\n",
       "  </thead>\n",
       "  <tbody>\n",
       "    <tr>\n",
       "      <th>0</th>\n",
       "      <td>2.838800e+09</td>\n",
       "    </tr>\n",
       "    <tr>\n",
       "      <th>1</th>\n",
       "      <td>2.838800e+09</td>\n",
       "    </tr>\n",
       "    <tr>\n",
       "      <th>2</th>\n",
       "      <td>2.838800e+09</td>\n",
       "    </tr>\n",
       "    <tr>\n",
       "      <th>3</th>\n",
       "      <td>1.190000e+00</td>\n",
       "    </tr>\n",
       "    <tr>\n",
       "      <th>4</th>\n",
       "      <td>8.932771e+05</td>\n",
       "    </tr>\n",
       "    <tr>\n",
       "      <th>...</th>\n",
       "      <td>...</td>\n",
       "    </tr>\n",
       "    <tr>\n",
       "      <th>2430352</th>\n",
       "      <td>3.672483e+05</td>\n",
       "    </tr>\n",
       "    <tr>\n",
       "      <th>2430353</th>\n",
       "      <td>4.098360e+05</td>\n",
       "    </tr>\n",
       "    <tr>\n",
       "      <th>2430354</th>\n",
       "      <td>3.120382e+05</td>\n",
       "    </tr>\n",
       "    <tr>\n",
       "      <th>2430355</th>\n",
       "      <td>1.390630e+05</td>\n",
       "    </tr>\n",
       "    <tr>\n",
       "      <th>2430356</th>\n",
       "      <td>3.198530e+05</td>\n",
       "    </tr>\n",
       "  </tbody>\n",
       "</table>\n",
       "<p>2430357 rows × 1 columns</p>\n",
       "</div>"
      ],
      "text/plain": [
       "         MontoTotalOC_PesosChilenos\n",
       "0                      2.838800e+09\n",
       "1                      2.838800e+09\n",
       "2                      2.838800e+09\n",
       "3                      1.190000e+00\n",
       "4                      8.932771e+05\n",
       "...                             ...\n",
       "2430352                3.672483e+05\n",
       "2430353                4.098360e+05\n",
       "2430354                3.120382e+05\n",
       "2430355                1.390630e+05\n",
       "2430356                3.198530e+05\n",
       "\n",
       "[2430357 rows x 1 columns]"
      ]
     },
     "execution_count": 144,
     "metadata": {},
     "output_type": "execute_result"
    }
   ],
   "source": [
    "df_solo_gastosPD"
   ]
  },
  {
   "cell_type": "code",
   "execution_count": 145,
   "metadata": {},
   "outputs": [
    {
     "data": {
      "text/plain": [
       "<AxesSubplot:>"
      ]
     },
     "execution_count": 145,
     "metadata": {},
     "output_type": "execute_result"
    },
    {
     "data": {
      "image/png": "[encoded data removed]",
      "text/plain": [
       "<Figure size 432x288 with 1 Axes>"
      ]
     },
     "metadata": {
      "needs_background": "light"
     },
     "output_type": "display_data"
    }
   ],
   "source": [
    "df_solo_gastosPD.boxplot()"
   ]
  },
  {
   "cell_type": "code",
   "execution_count": 146,
   "metadata": {},
   "outputs": [
    {
     "data": {
      "image/png": "[encoded data removed]",
      "text/plain": [
       "<Figure size 432x288 with 1 Axes>"
      ]
     },
     "metadata": {
      "needs_background": "light"
     },
     "output_type": "display_data"
    }
   ],
   "source": [
    "# Show an histogram with the diferent values of dataframe df_solo_gastosPD \n",
    "df_solo_gastosPD.clip(800,10000*800).hist(edgecolor='red',column='MontoTotalOC_PesosChilenos')\n",
    "plt.title('Histograma de gastos')\n",
    "plt.show()\n"
   ]
  },
  {
   "cell_type": "code",
   "execution_count": 147,
   "metadata": {},
   "outputs": [],
   "source": [
    "# df.select(col(\"MontoTotalOC_PesosChilenos\")).groupBy(col(\"MontoTotalOC_PesosChilenos\")).show()"
   ]
  },
  {
   "cell_type": "code",
   "execution_count": 148,
   "metadata": {},
   "outputs": [],
   "source": [
    "# df.select(col(\"MontoTotalOC_PesosChilenos\")).groupBy(col(\"MontoTotalOC_PesosChilenos\")).count().orderBy(desc(\"MontoTotalOC_PesosChilenos\")).show(truncate=False)"
   ]
  },
  {
   "cell_type": "markdown",
   "metadata": {},
   "source": [
    "#### ¿Qué áreas está el Estado chileno invirtiendo más?"
   ]
  },
  {
   "cell_type": "code",
   "execution_count": 149,
   "metadata": {},
   "outputs": [
    {
     "name": "stdout",
     "output_type": "stream",
     "text": [
      "+---------------------------+-----------------+\n",
      "|sector                     |Total Gastos     |\n",
      "+---------------------------+-----------------+\n",
      "|Salud                      |US$ 8,907,535,239|\n",
      "|Municipalidades            |US$ 3,891,131,770|\n",
      "|Gob. Central, Universidades|US$ 3,240,210,412|\n",
      "|FFAA                       |US$ 1,322,828,668|\n",
      "|Obras Públicas             |US$ 354,656,547  |\n",
      "|Otros                      |US$ 132,662,204  |\n",
      "|Legislativo y judicial     |US$ 86,338,487   |\n",
      "+---------------------------+-----------------+\n",
      "\n"
     ]
    }
   ],
   "source": [
    "# Primero comparamos por sector \n",
    "df.groupBy(\"sector\").agg(sum(col(\"MontoTotalOC_PesosChilenos\")).alias(\"Total Gastos\")).orderBy(desc(\"Total Gastos\")).withColumn('Total Gastos', udfToCurrancy(col('Total Gastos'))).show(truncate=False)"
   ]
  },
  {
   "cell_type": "code",
   "execution_count": 150,
   "metadata": {},
   "outputs": [
    {
     "name": "stdout",
     "output_type": "stream",
     "text": [
      "root\n",
      " |-- sector: string (nullable = true)\n",
      " |-- Total Gastos: double (nullable = true)\n",
      "\n"
     ]
    }
   ],
   "source": [
    "df_sector = df.groupBy(\"sector\").agg(sum(col(\"MontoTotalOC_PesosChilenos\")).alias(\"Total Gastos\")).orderBy(desc(\"Total Gastos\")).withColumn('Total Gastos', udfToDollars(col('Total Gastos')))\n",
    "\n",
    "df_sector = df_sector.withColumn('Total Gastos', df_sector['Total Gastos'].cast(DoubleType()))\n",
    "df_sector.printSchema()"
   ]
  },
  {
   "cell_type": "code",
   "execution_count": 151,
   "metadata": {},
   "outputs": [],
   "source": [
    "sector_array = df_sector.select(col(\"sector\")).rdd.map(lambda x: x[0]).collect()\n",
    "dfp_sector = df_sector.toPandas()"
   ]
  },
  {
   "cell_type": "code",
   "execution_count": 242,
   "metadata": {},
   "outputs": [
    {
     "data": {
      "text/plain": [
       "<BarContainer object of 7 artists>"
      ]
     },
     "execution_count": 242,
     "metadata": {},
     "output_type": "execute_result"
    },
    {
     "data": {
      "image/png": "[encoded data removed]",
      "text/plain": [
       "<Figure size 432x288 with 1 Axes>"
      ]
     },
     "metadata": {
      "needs_background": "light"
     },
     "output_type": "display_data"
    }
   ],
   "source": [
    "%matplotlib inline\n",
    "plt.title(\"Gastos por sector  Fig.1\")\n",
    "plt.xlabel(\"Sector\")\n",
    "plt.ylabel(\"Gastos\")\n",
    "plt.xticks(rotation=90, horizontalalignment=\"center\")\n",
    "plt.rcParams[\"figure.figsize\"] = [10, 5]\n",
    "plt.bar(sector_array, dfp_sector[\"Total Gastos\"])"
   ]
  },
  {
   "cell_type": "markdown",
   "metadata": {},
   "source": [
    "Por rubros"
   ]
  },
  {
   "cell_type": "code",
   "execution_count": 153,
   "metadata": {},
   "outputs": [
    {
     "name": "stdout",
     "output_type": "stream",
     "text": [
      "+-------------------------------------------------------------------------------------------------------+-----------------+\n",
      "|RubroN1                                                                                                |Total Gastos     |\n",
      "+-------------------------------------------------------------------------------------------------------+-----------------+\n",
      "|Equipamiento y suministros médicos                                                                     |US$ 2,854,918,768|\n",
      "|Equipamiento para laboratorios                                                                         |US$ 2,291,445,398|\n",
      "|Salud, servicios sanitarios y alimentación                                                             |US$ 1,571,860,421|\n",
      "|Medicamentos y productos farmacéuticos                                                                 |US$ 1,226,594,416|\n",
      "|NA                                                                                                     |US$ 1,149,732,290|\n",
      "|Organizaciones y consultorías políticas, demográficas, económicas, sociales y de administración pública|US$ 617,320,324  |\n",
      "|Servicios de construcción y mantenimiento                                                              |US$ 575,364,941  |\n",
      "|Servicios de transporte, almacenaje y correo                                                           |US$ 516,417,018  |\n",
      "|Tecnologías de la información, telecomunicaciones y radiodifusión                                      |US$ 479,244,170  |\n",
      "|Servicios agrícolas, pesqueros, forestales y relacionados con la fauna                                 |US$ 472,803,084  |\n",
      "|Servicios profesionales, administrativos y consultorías de gestión empresarial                         |US$ 436,656,119  |\n",
      "|Servicios de limpieza industrial                                                                       |US$ 405,322,700  |\n",
      "|Artículos para estructuras, obras y construcciones                                                     |US$ 391,425,427  |\n",
      "|Alimentos, bebidas y tabaco                                                                            |US$ 380,497,331  |\n",
      "|Equipos, accesorios y suministros de oficina                                                           |US$ 333,254,786  |\n",
      "|Servicios basados en ingeniería, ciencias sociales y tecnología de la información                      |US$ 316,081,121  |\n",
      "|Productos químicos industriales                                                                        |US$ 272,579,647  |\n",
      "|Servicios de defensa nacional, orden público y seguridad                                               |US$ 243,838,816  |\n",
      "|Herramientas y maquinaria en general                                                                   |US$ 228,063,775  |\n",
      "|Productos de papel                                                                                     |US$ 204,606,862  |\n",
      "+-------------------------------------------------------------------------------------------------------+-----------------+\n",
      "only showing top 20 rows\n",
      "\n"
     ]
    }
   ],
   "source": [
    "df.groupBy(\"RubroN1\").agg(sum(col(\"MontoTotalOC_PesosChilenos\")).alias(\"Total Gastos\")).orderBy(desc(\"Total Gastos\")).withColumn('Total Gastos', udfToCurrancy(col('Total Gastos'))).show(truncate=False)"
   ]
  },
  {
   "cell_type": "markdown",
   "metadata": {},
   "source": [
    "#### ¿Cuántos gastos mayores al millón de dólares fueron efectuados entre el  noviembre 2021 y mayo de 2022?"
   ]
  },
  {
   "cell_type": "code",
   "execution_count": 154,
   "metadata": {},
   "outputs": [
    {
     "name": "stdout",
     "output_type": "stream",
     "text": [
      "-RECORD 0-----------------------------------------------------------------------------------------------------------------------------\n",
      " MontoTotalOC_PesosChilenos | US$ 180,793,734                                                                                         \n",
      " RubroN1                    | Servicios agrícolas, pesqueros, forestales y relacionados con la fauna                                  \n",
      " RubroN2                    | Horticultura                                                                                            \n",
      " RubroN3                    | Plantas y árboles ornamentales                                                                          \n",
      " sector                     | Municipalidades                                                                                         \n",
      "-RECORD 1-----------------------------------------------------------------------------------------------------------------------------\n",
      " MontoTotalOC_PesosChilenos | US$ 160,531,140                                                                                         \n",
      " RubroN1                    | Herramientas y maquinaria en general                                                                    \n",
      " RubroN2                    | Herramientas manuales                                                                                   \n",
      " RubroN3                    | Accesorios para herramientas                                                                            \n",
      " sector                     | Municipalidades                                                                                         \n",
      "-RECORD 2-----------------------------------------------------------------------------------------------------------------------------\n",
      " MontoTotalOC_PesosChilenos | US$ 137,111,023                                                                                         \n",
      " RubroN1                    | Servicios agrícolas, pesqueros, forestales y relacionados con la fauna                                  \n",
      " RubroN2                    | Desarrollo y vigilancia de recursos hidráulicos                                                         \n",
      " RubroN3                    | Riego                                                                                                   \n",
      " sector                     | Municipalidades                                                                                         \n",
      "-RECORD 3-----------------------------------------------------------------------------------------------------------------------------\n",
      " MontoTotalOC_PesosChilenos | US$ 125,000,000                                                                                         \n",
      " RubroN1                    | Organizaciones y consultorías políticas, demográficas, económicas, sociales y de administración pública \n",
      " RubroN2                    | Ayuda y asistencia humanitaria                                                                          \n",
      " RubroN3                    | Política, planificación y programas de alimentación y nutrición                                         \n",
      " sector                     | Gob. Central, Universidades                                                                             \n",
      "-RECORD 4-----------------------------------------------------------------------------------------------------------------------------\n",
      " MontoTotalOC_PesosChilenos | US$ 85,728,076                                                                                          \n",
      " RubroN1                    | Organizaciones y consultorías políticas, demográficas, económicas, sociales y de administración pública \n",
      " RubroN2                    | Ayuda y asistencia humanitaria                                                                          \n",
      " RubroN3                    | Política, planificación y programas de alimentación y nutrición                                         \n",
      " sector                     | Gob. Central, Universidades                                                                             \n",
      "-RECORD 5-----------------------------------------------------------------------------------------------------------------------------\n",
      " MontoTotalOC_PesosChilenos | US$ 83,474,885                                                                                          \n",
      " RubroN1                    | Organizaciones y consultorías políticas, demográficas, económicas, sociales y de administración pública \n",
      " RubroN2                    | Ayuda y asistencia humanitaria                                                                          \n",
      " RubroN3                    | Política, planificación y programas de alimentación y nutrición                                         \n",
      " sector                     | Gob. Central, Universidades                                                                             \n",
      "-RECORD 6-----------------------------------------------------------------------------------------------------------------------------\n",
      " MontoTotalOC_PesosChilenos | US$ 82,047,239                                                                                          \n",
      " RubroN1                    | Artículos de electrónica                                                                                \n",
      " RubroN2                    | Circuitos electrónicos                                                                                  \n",
      " RubroN3                    | Circuitos integrados, memorias y microprocesadores                                                      \n",
      " sector                     | Gob. Central, Universidades                                                                             \n",
      "-RECORD 7-----------------------------------------------------------------------------------------------------------------------------\n",
      " MontoTotalOC_PesosChilenos | US$ 69,490,000                                                                                          \n",
      " RubroN1                    | Organizaciones y consultorías políticas, demográficas, económicas, sociales y de administración pública \n",
      " RubroN2                    | Ayuda y asistencia humanitaria                                                                          \n",
      " RubroN3                    | Política, planificación y programas de alimentación y nutrición                                         \n",
      " sector                     | Gob. Central, Universidades                                                                             \n",
      "-RECORD 8-----------------------------------------------------------------------------------------------------------------------------\n",
      " MontoTotalOC_PesosChilenos | US$ 68,750,000                                                                                          \n",
      " RubroN1                    | Servicios basados en ingeniería, ciencias sociales y tecnología de la información                       \n",
      " RubroN2                    | Servicios informáticos                                                                                  \n",
      " RubroN3                    | Ingeniería en computación e informática                                                                 \n",
      " sector                     | Gob. Central, Universidades                                                                             \n",
      "-RECORD 9-----------------------------------------------------------------------------------------------------------------------------\n",
      " MontoTotalOC_PesosChilenos | US$ 58,892,401                                                                                          \n",
      " RubroN1                    | Educación, formación, entrenamiento y capacitación                                                      \n",
      " RubroN2                    | Servicios de orientación y tecnología educativa                                                         \n",
      " RubroN3                    | Servicios de orientación educacional                                                                    \n",
      " sector                     | Gob. Central, Universidades                                                                             \n",
      "-RECORD 10----------------------------------------------------------------------------------------------------------------------------\n",
      " MontoTotalOC_PesosChilenos | US$ 55,239,734                                                                                          \n",
      " RubroN1                    | Organizaciones y consultorías políticas, demográficas, económicas, sociales y de administración pública \n",
      " RubroN2                    | Ayuda y asistencia humanitaria                                                                          \n",
      " RubroN3                    | Política, planificación y programas de alimentación y nutrición                                         \n",
      " sector                     | Gob. Central, Universidades                                                                             \n",
      "-RECORD 11----------------------------------------------------------------------------------------------------------------------------\n",
      " MontoTotalOC_PesosChilenos | US$ 54,584,927                                                                                          \n",
      " RubroN1                    | Servicios de transporte, almacenaje y correo                                                            \n",
      " RubroN2                    | Transporte de correo y carga                                                                            \n",
      " RubroN3                    | Transporte de carga por carretera                                                                       \n",
      " sector                     | Municipalidades                                                                                         \n",
      "-RECORD 12----------------------------------------------------------------------------------------------------------------------------\n",
      " MontoTotalOC_PesosChilenos | US$ 53,655,761                                                                                          \n",
      " RubroN1                    | Medicamentos y productos farmacéuticos                                                                  \n",
      " RubroN2                    | Medicamentos inmunomoduladores                                                                          \n",
      " RubroN3                    | Vacunas, antígenos y toxoides                                                                           \n",
      " sector                     | Salud                                                                                                   \n",
      "-RECORD 13----------------------------------------------------------------------------------------------------------------------------\n",
      " MontoTotalOC_PesosChilenos | US$ 40,448,885                                                                                          \n",
      " RubroN1                    | Artículos de electrónica                                                                                \n",
      " RubroN2                    | Circuitos electrónicos                                                                                  \n",
      " RubroN3                    | Circuitos integrados, memorias y microprocesadores                                                      \n",
      " sector                     | Gob. Central, Universidades                                                                             \n",
      "-RECORD 14----------------------------------------------------------------------------------------------------------------------------\n",
      " MontoTotalOC_PesosChilenos | US$ 30,769,384                                                                                          \n",
      " RubroN1                    | Medicamentos y productos farmacéuticos                                                                  \n",
      " RubroN2                    | Medicamentos inmunomoduladores                                                                          \n",
      " RubroN3                    | Vacunas, antígenos y toxoides                                                                           \n",
      " sector                     | Salud                                                                                                   \n",
      "-RECORD 15----------------------------------------------------------------------------------------------------------------------------\n",
      " MontoTotalOC_PesosChilenos | US$ 29,278,462                                                                                          \n",
      " RubroN1                    | Medicamentos y productos farmacéuticos                                                                  \n",
      " RubroN2                    | Agentes antitumorales                                                                                   \n",
      " RubroN3                    | Antibióticos antineoplásticos                                                                           \n",
      " sector                     | Salud                                                                                                   \n",
      "-RECORD 16----------------------------------------------------------------------------------------------------------------------------\n",
      " MontoTotalOC_PesosChilenos | US$ 27,194,930                                                                                          \n",
      " RubroN1                    | Artículos para estructuras, obras y construcciones                                                      \n",
      " RubroN2                    | Estructuras prefabricadas                                                                               \n",
      " RubroN3                    | Construcciones médicas prefabricadas                                                                    \n",
      " sector                     | FFAA                                                                                                    \n",
      "-RECORD 17----------------------------------------------------------------------------------------------------------------------------\n",
      " MontoTotalOC_PesosChilenos | US$ 25,911,650                                                                                          \n",
      " RubroN1                    | Medicamentos y productos farmacéuticos                                                                  \n",
      " RubroN2                    | Medicamentos para el sistema nervioso central                                                           \n",
      " RubroN3                    | Fármacos antiinflamatorios no esteroideos (NSAID)                                                       \n",
      " sector                     | Salud                                                                                                   \n",
      "-RECORD 18----------------------------------------------------------------------------------------------------------------------------\n",
      " MontoTotalOC_PesosChilenos | US$ 25,759,216                                                                                          \n",
      " RubroN1                    | Productos químicos industriales                                                                         \n",
      " RubroN2                    | Compuestos y mezclas                                                                                    \n",
      " RubroN3                    | Productos bioquímicos                                                                                   \n",
      " sector                     | Salud                                                                                                   \n",
      "-RECORD 19----------------------------------------------------------------------------------------------------------------------------\n",
      " MontoTotalOC_PesosChilenos | US$ 25,615,076                                                                                          \n",
      " RubroN1                    | Combustibles, lubricantes y anticorrosivos                                                              \n",
      " RubroN2                    | Combustibles líquidos                                                                                   \n",
      " RubroN3                    | Petróleo y derivados                                                                                    \n",
      " sector                     | FFAA                                                                                                    \n",
      "-RECORD 20----------------------------------------------------------------------------------------------------------------------------\n",
      " MontoTotalOC_PesosChilenos | US$ 20,879,921                                                                                          \n",
      " RubroN1                    | Servicios de limpieza industrial                                                                        \n",
      " RubroN2                    | Eliminación y tratamiento de desechos                                                                   \n",
      " RubroN3                    | Recolección y eliminación de desechos                                                                   \n",
      " sector                     | Municipalidades                                                                                         \n",
      "-RECORD 21----------------------------------------------------------------------------------------------------------------------------\n",
      " MontoTotalOC_PesosChilenos | US$ 19,243,788                                                                                          \n",
      " RubroN1                    | Medicamentos y productos farmacéuticos                                                                  \n",
      " RubroN2                    | Medicamentos inmunomoduladores                                                                          \n",
      " RubroN3                    | Vacunas, antígenos y toxoides                                                                           \n",
      " sector                     | Salud                                                                                                   \n",
      "-RECORD 22----------------------------------------------------------------------------------------------------------------------------\n",
      " MontoTotalOC_PesosChilenos | US$ 19,243,788                                                                                          \n",
      " RubroN1                    | Medicamentos y productos farmacéuticos                                                                  \n",
      " RubroN2                    | Medicamentos inmunomoduladores                                                                          \n",
      " RubroN3                    | Vacunas, antígenos y toxoides                                                                           \n",
      " sector                     | Salud                                                                                                   \n",
      "-RECORD 23----------------------------------------------------------------------------------------------------------------------------\n",
      " MontoTotalOC_PesosChilenos | US$ 19,243,788                                                                                          \n",
      " RubroN1                    | Medicamentos y productos farmacéuticos                                                                  \n",
      " RubroN2                    | Medicamentos inmunomoduladores                                                                          \n",
      " RubroN3                    | Vacunas, antígenos y toxoides                                                                           \n",
      " sector                     | Salud                                                                                                   \n",
      "-RECORD 24----------------------------------------------------------------------------------------------------------------------------\n",
      " MontoTotalOC_PesosChilenos | US$ 19,097,144                                                                                          \n",
      " RubroN1                    | Medicamentos y productos farmacéuticos                                                                  \n",
      " RubroN2                    | Medicamentos anti infecciosos                                                                           \n",
      " RubroN3                    | Medicamentos antivirales                                                                                \n",
      " sector                     | Salud                                                                                                   \n",
      "only showing top 25 rows\n",
      "\n"
     ]
    }
   ],
   "source": [
    "df_gastos = df.select(\"MontoTotalOC_PesosChilenos\",\"RubroN1\",\"RubroN2\",\"RubroN3\",\"sector\").filter(udfToDollars(col(\"MontoTotalOC_PesosChilenos\")) > 1000000.00).orderBy(desc(\"MontoTotalOC_PesosChilenos\")).withColumn('MontoTotalOC_PesosChilenos', udfToCurrancy(col('MontoTotalOC_PesosChilenos')))\n",
    "df_gastos.show(25,vertical=True, truncate=False)"
   ]
  },
  {
   "cell_type": "code",
   "execution_count": 155,
   "metadata": {},
   "outputs": [
    {
     "data": {
      "text/plain": [
       "1002"
      ]
     },
     "execution_count": 155,
     "metadata": {},
     "output_type": "execute_result"
    }
   ],
   "source": [
    "df_gastos.count()"
   ]
  },
  {
   "cell_type": "code",
   "execution_count": 156,
   "metadata": {},
   "outputs": [
    {
     "name": "stdout",
     "output_type": "stream",
     "text": [
      "+---------------------------+--------------------+\n",
      "|sector                     |Total Gastos        |\n",
      "+---------------------------+--------------------+\n",
      "|Salud                      |8.907535238941929E9 |\n",
      "|Municipalidades            |3.8911317698629565E9|\n",
      "|Gob. Central, Universidades|3.2402104118967853E9|\n",
      "|FFAA                       |1.3228286684048193E9|\n",
      "|Obras Públicas             |3.5465654726808715E8|\n",
      "|Otros                      |1.3266220447560206E8|\n",
      "|Legislativo y judicial     |8.633848732221097E7 |\n",
      "+---------------------------+--------------------+\n",
      "\n"
     ]
    }
   ],
   "source": [
    "df_sector_millon = df_gastos.groupBy(\"sector\").agg(sum(col(\"MontoTotalOC_PesosChilenos\")).alias(\"Total Gastos\")).orderBy(desc(\"Total Gastos\")).withColumn('Total Gastos', udfToDollars(col('Total Gastos')))\n",
    "\n",
    "df_sector_millon = df_sector.withColumn('Total Gastos', df_sector['Total Gastos'].cast(DoubleType()))\n",
    "df_sector_millon.show(truncate=False)"
   ]
  },
  {
   "cell_type": "code",
   "execution_count": 157,
   "metadata": {},
   "outputs": [
    {
     "data": {
      "text/plain": [
       "array([<AxesSubplot:>], dtype=object)"
      ]
     },
     "execution_count": 157,
     "metadata": {},
     "output_type": "execute_result"
    },
    {
     "data": {
      "image/png": "[encoded data removed]",
      "text/plain": [
       "<Figure size 1080x720 with 1 Axes>"
      ]
     },
     "metadata": {},
     "output_type": "display_data"
    }
   ],
   "source": [
    "dfp_sector_millon = df_sector_millon.toPandas()\n",
    "dfp_sector_millon.groupby(['sector']).sum().plot(kind='pie', subplots=True, shadow = True,startangle=0,\n",
    "figsize=(15,10), autopct='%1.1f%%', title=\"Gastos por Sector para gastos mayores al millón de dólares\", ylabel=\"\")"
   ]
  },
  {
   "cell_type": "markdown",
   "metadata": {},
   "source": [
    "#### ¿Cuál fue el gasto promedio en general?"
   ]
  },
  {
   "cell_type": "code",
   "execution_count": 158,
   "metadata": {},
   "outputs": [
    {
     "name": "stdout",
     "output_type": "stream",
     "text": [
      "+------------------+\n",
      "|Promedio de Gastos|\n",
      "+------------------+\n",
      "|US$ 7,380         |\n",
      "+------------------+\n",
      "\n"
     ]
    }
   ],
   "source": [
    "df.select(avg(col(\"MontoTotalOC_PesosChilenos\")).alias(\"Promedio de Gastos\")).withColumn('Promedio de Gastos', udfToCurrancy(col('Promedio de Gastos'))).show(truncate=False)"
   ]
  },
  {
   "cell_type": "markdown",
   "metadata": {},
   "source": [
    "#### ¿Cuál fue el gasto promedio de una compra por mes?"
   ]
  },
  {
   "cell_type": "code",
   "execution_count": 159,
   "metadata": {},
   "outputs": [
    {
     "name": "stdout",
     "output_type": "stream",
     "text": [
      "+---+---------------+\n",
      "|Mes|Promedio Gastos|\n",
      "+---+---------------+\n",
      "|4  |US$ 8,887      |\n",
      "|1  |US$ 7,733      |\n",
      "|2  |US$ 7,521      |\n",
      "|12 |US$ 7,510      |\n",
      "|3  |US$ 7,501      |\n",
      "|5  |US$ 6,805      |\n",
      "|11 |US$ 5,913      |\n",
      "+---+---------------+\n",
      "\n"
     ]
    }
   ],
   "source": [
    "df.filter(~col(\"FechaAceptacion\").isNull()).groupBy(month(col(\"FechaAceptacion\")).alias(\"Mes\")).agg(avg(col(\"MontoTotalOC_PesosChilenos\")).alias(\"Promedio Gastos\")).orderBy(desc(\"Promedio Gastos\")).withColumn('Promedio Gastos', udfToCurrancy(col('Promedio Gastos'))).show(truncate=False)"
   ]
  },
  {
   "cell_type": "code",
   "execution_count": 160,
   "metadata": {},
   "outputs": [
    {
     "name": "stdout",
     "output_type": "stream",
     "text": [
      "root\n",
      " |-- Mes: integer (nullable = true)\n",
      " |-- Promedio Gastos: double (nullable = true)\n",
      "\n"
     ]
    }
   ],
   "source": [
    "df_promedio_mes = df.filter(~col(\"FechaAceptacion\").isNull()).groupBy(month(col(\"FechaAceptacion\")).alias(\"Mes\")).agg(avg(col(\"MontoTotalOC_PesosChilenos\")).alias(\"Promedio Gastos\")).orderBy(desc(\"Promedio Gastos\")).withColumn('Promedio Gastos', udfToDollars(col('Promedio Gastos')))\n",
    "\n",
    "df_promedio_mes = df_promedio_mes.withColumn('Promedio Gastos', df_promedio_mes['Promedio Gastos'].cast(DoubleType()))\n",
    "df_promedio_mes.printSchema()"
   ]
  },
  {
   "cell_type": "code",
   "execution_count": 161,
   "metadata": {},
   "outputs": [],
   "source": [
    "dfp_promedio_mes = df_promedio_mes.toPandas()"
   ]
  },
  {
   "cell_type": "code",
   "execution_count": 162,
   "metadata": {},
   "outputs": [],
   "source": [
    "# distinct_months = [x.Mes for x in df_promedio_mes.select(col(\"Mes\")).distinct().collect()]\n",
    "# distinct_months"
   ]
  },
  {
   "cell_type": "code",
   "execution_count": 230,
   "metadata": {},
   "outputs": [
    {
     "data": {
      "text/plain": [
       "<BarContainer object of 7 artists>"
      ]
     },
     "execution_count": 230,
     "metadata": {},
     "output_type": "execute_result"
    },
    {
     "data": {
      "image/png": "[encoded data removed]",
      "text/plain": [
       "<Figure size 1440x720 with 1 Axes>"
      ]
     },
     "metadata": {
      "needs_background": "light"
     },
     "output_type": "display_data"
    }
   ],
   "source": [
    "x = ['Abril-22', 'Marzo-22', 'Enero-22', 'Febrero-22', 'Diciembre-21', 'Noviembre-21', 'Mayo-22']\n",
    "plt.title(\"Promedio Gastos de una compra por Mes\")\n",
    "plt.xlabel(\"Mes\")\n",
    "plt.ylabel(\"Promedio Gastos\")\n",
    "plt.xticks(rotation=90, horizontalalignment=\"center\")\n",
    "plt.bar(x, dfp_promedio_mes[\"Promedio Gastos\"])"
   ]
  },
  {
   "cell_type": "markdown",
   "metadata": {},
   "source": [
    "#### ¿Cuál fue la compra más repetido del estado?"
   ]
  },
  {
   "cell_type": "code",
   "execution_count": 164,
   "metadata": {},
   "outputs": [
    {
     "name": "stdout",
     "output_type": "stream",
     "text": [
      "+---------+-----+\n",
      "|IDItem   |count|\n",
      "+---------+-----+\n",
      "|119302809|3    |\n",
      "|121391887|2    |\n",
      "|122239748|2    |\n",
      "|121369081|2    |\n",
      "|121369080|2    |\n",
      "|121369076|2    |\n",
      "|122239751|2    |\n",
      "|121391889|2    |\n",
      "|121124510|2    |\n",
      "|121408768|2    |\n",
      "|120160195|2    |\n",
      "|121391882|2    |\n",
      "|121667811|2    |\n",
      "|119221096|2    |\n",
      "|121369082|2    |\n",
      "|121391898|2    |\n",
      "|121391893|2    |\n",
      "|121922883|2    |\n",
      "|119221094|2    |\n",
      "|121361741|2    |\n",
      "+---------+-----+\n",
      "only showing top 20 rows\n",
      "\n"
     ]
    }
   ],
   "source": [
    "df.select(col(\"IDItem\")).groupBy(col(\"IDItem\")).count().orderBy(desc(\"count\")).show(truncate=False)"
   ]
  },
  {
   "cell_type": "markdown",
   "metadata": {},
   "source": [
    "#### ¿En que regiónes se realizáron los mayores gastos?"
   ]
  },
  {
   "cell_type": "code",
   "execution_count": 165,
   "metadata": {},
   "outputs": [
    {
     "name": "stdout",
     "output_type": "stream",
     "text": [
      "+------------------------------------------------+-----------------+\n",
      "|RegionUnidadCompra                              |Total Gastos     |\n",
      "+------------------------------------------------+-----------------+\n",
      "|Región Metropolitana de Santiago                |US$ 8,779,409,333|\n",
      "|Región del Biobío                               |US$ 1,631,160,104|\n",
      "|Región de Valparaíso                            |US$ 1,416,731,436|\n",
      "|Región de los Lagos                             |US$ 896,862,791  |\n",
      "|Región de la Araucanía                          |US$ 779,696,152  |\n",
      "|Región del Maule                                |US$ 705,897,333  |\n",
      "|Región del Libertador General Bernardo O´Higgins|US$ 539,289,846  |\n",
      "|Región de Coquimbo                              |US$ 456,887,641  |\n",
      "|Región de Antofagasta                           |US$ 438,320,930  |\n",
      "|Región de Tarapacá                              |US$ 432,761,085  |\n",
      "|Región del Ñuble                                |US$ 402,963,466  |\n",
      "|Región de Los Ríos                              |US$ 369,501,155  |\n",
      "|Región de Atacama                               |US$ 368,726,724  |\n",
      "|Región Aysén del General Carlos Ibáñez del Campo|US$ 240,645,755  |\n",
      "|Región de Magallanes y de la Antártica          |US$ 226,946,596  |\n",
      "|Región de Arica y Parinacota                    |US$ 217,926,694  |\n",
      "|NA                                              |US$ 31,636,289   |\n",
      "+------------------------------------------------+-----------------+\n",
      "\n"
     ]
    }
   ],
   "source": [
    "df.groupBy(\"RegionUnidadCompra\").agg(sum(col(\"MontoTotalOC_PesosChilenos\")).alias(\"Total Gastos\")).orderBy(desc(\"Total Gastos\")).withColumn('Total Gastos', udfToCurrancy(col('Total Gastos'))).show(truncate=False)"
   ]
  },
  {
   "cell_type": "code",
   "execution_count": 166,
   "metadata": {},
   "outputs": [
    {
     "name": "stdout",
     "output_type": "stream",
     "text": [
      "root\n",
      " |-- RegionUnidadCompra: string (nullable = true)\n",
      " |-- Total Gastos: double (nullable = true)\n",
      "\n"
     ]
    }
   ],
   "source": [
    "df_region = df.groupBy(\"RegionUnidadCompra\").agg(sum(col(\"MontoTotalOC_PesosChilenos\")).alias(\"Total Gastos\")).orderBy(desc(\"Total Gastos\")).withColumn('Total Gastos', udfToDollars(col('Total Gastos')))\n",
    "\n",
    "df_region = df_region.withColumn('Total Gastos', df_region['Total Gastos'].cast(DoubleType()))\n",
    "df_region.printSchema()"
   ]
  },
  {
   "cell_type": "code",
   "execution_count": 167,
   "metadata": {},
   "outputs": [],
   "source": [
    "regions_array = df_region.select(col(\"RegionUnidadCompra\")).rdd.map(lambda x: x[0]).collect()\n",
    "dfp_region = df_region.toPandas()"
   ]
  },
  {
   "cell_type": "code",
   "execution_count": 235,
   "metadata": {},
   "outputs": [
    {
     "data": {
      "text/plain": [
       "<BarContainer object of 17 artists>"
      ]
     },
     "execution_count": 235,
     "metadata": {},
     "output_type": "execute_result"
    },
    {
     "data": {
      "image/png": "[encoded data removed]",
      "text/plain": [
       "<Figure size 1440x720 with 1 Axes>"
      ]
     },
     "metadata": {
      "needs_background": "light"
     },
     "output_type": "display_data"
    }
   ],
   "source": [
    "plt.title(\"Gasto por Region\")\n",
    "plt.xlabel(\"Region\")\n",
    "plt.ylabel(\"Gastos\")\n",
    "plt.xticks(rotation=0, horizontalalignment=\"center\")\n",
    "plt.barh(regions_array, dfp_region[\"Total Gastos\"])"
   ]
  },
  {
   "cell_type": "code",
   "execution_count": 169,
   "metadata": {},
   "outputs": [
    {
     "name": "stdout",
     "output_type": "stream",
     "text": [
      "+---------------------------+-----------------+\n",
      "|sector                     |Total Gastos     |\n",
      "+---------------------------+-----------------+\n",
      "|Salud                      |US$ 4,508,709,246|\n",
      "|Gob. Central, Universidades|US$ 2,186,967,358|\n",
      "|Municipalidades            |US$ 1,174,530,086|\n",
      "|FFAA                       |US$ 747,227,133  |\n",
      "|Obras Públicas             |US$ 103,754,654  |\n",
      "|Legislativo y judicial     |US$ 40,181,237   |\n",
      "|Otros                      |US$ 18,039,619   |\n",
      "+---------------------------+-----------------+\n",
      "\n"
     ]
    }
   ],
   "source": [
    "# Para la Region que se relizan los mayores gastos, como se distribuyen por sector?\n",
    "df.filter(col(\"RegionUnidadCompra\") == regions_array[0]).groupBy(\"sector\").agg(sum(col(\"MontoTotalOC_PesosChilenos\")).alias(\"Total Gastos\")).orderBy(desc(\"Total Gastos\")).withColumn('Total Gastos', udfToCurrancy(col('Total Gastos'))).show(truncate=False)"
   ]
  },
  {
   "cell_type": "code",
   "execution_count": 170,
   "metadata": {},
   "outputs": [],
   "source": [
    "df_region_metropolitana = df.filter(col(\"RegionUnidadCompra\") == regions_array[0]).groupBy(\"sector\").agg(sum(col(\"MontoTotalOC_PesosChilenos\")).alias(\"Total Gastos\")).orderBy(desc(\"Total Gastos\")).withColumn('Total Gastos', udfToDollars(col('Total Gastos')))\n",
    "df_region_metropolitana = df_region_metropolitana.withColumn('Total Gastos', df_region_metropolitana['Total Gastos'].cast(DoubleType()))"
   ]
  },
  {
   "cell_type": "code",
   "execution_count": 171,
   "metadata": {},
   "outputs": [],
   "source": [
    "sectores = df_region_metropolitana.select(col(\"sector\")).rdd.map(lambda x: x[0]).collect()\n",
    "dfp_region_metropolitana = df_region_metropolitana.toPandas()"
   ]
  },
  {
   "cell_type": "code",
   "execution_count": 172,
   "metadata": {},
   "outputs": [
    {
     "data": {
      "text/plain": [
       "array([<AxesSubplot:>], dtype=object)"
      ]
     },
     "execution_count": 172,
     "metadata": {},
     "output_type": "execute_result"
    },
    {
     "data": {
      "image/png": "[encoded data removed]",
      "text/plain": [
       "<Figure size 1080x720 with 1 Axes>"
      ]
     },
     "metadata": {},
     "output_type": "display_data"
    }
   ],
   "source": [
    "dfp_region_metropolitana.groupby(['sector']).sum().plot(kind='pie', subplots=True, shadow = True,startangle=0,\n",
    "figsize=(15,10), autopct='%1.1f%%', title=\"Gastos por Sector para la Región Metropolitana de Santiago\", ylabel=\"\")"
   ]
  },
  {
   "cell_type": "markdown",
   "metadata": {},
   "source": [
    "#### ¿En que ciudades se realizáron los mayores gastos?"
   ]
  },
  {
   "cell_type": "code",
   "execution_count": 173,
   "metadata": {},
   "outputs": [
    {
     "name": "stdout",
     "output_type": "stream",
     "text": [
      "+------------------+-----------------+\n",
      "|CiudadUnidadCompra|Total Gastos     |\n",
      "+------------------+-----------------+\n",
      "|Santiago          |US$ 3,367,062,852|\n",
      "|Ñuñoa             |US$ 1,237,680,637|\n",
      "|Valparaíso        |US$ 598,555,696  |\n",
      "|Concepción        |US$ 515,261,788  |\n",
      "|Vitacura          |US$ 495,633,270  |\n",
      "|Puerto Montt      |US$ 479,830,706  |\n",
      "|Providencia       |US$ 404,582,126  |\n",
      "|Independencia     |US$ 340,992,453  |\n",
      "|San Miguel        |US$ 338,668,363  |\n",
      "|Talca             |US$ 320,631,791  |\n",
      "|Temuco            |US$ 317,728,304  |\n",
      "|Iquique           |US$ 305,426,079  |\n",
      "|Puente Alto       |US$ 300,255,391  |\n",
      "|Antofagasta       |US$ 293,854,076  |\n",
      "|Talcahuano        |US$ 292,977,064  |\n",
      "|Viña del Mar      |US$ 284,020,398  |\n",
      "|Los Angeles       |US$ 282,613,263  |\n",
      "|Alhué             |US$ 259,871,227  |\n",
      "|La Florida        |US$ 217,813,028  |\n",
      "|Arica             |US$ 208,029,643  |\n",
      "+------------------+-----------------+\n",
      "only showing top 20 rows\n",
      "\n"
     ]
    }
   ],
   "source": [
    "df.groupBy(\"CiudadUnidadCompra\").agg(sum(col(\"MontoTotalOC_PesosChilenos\")).alias(\"Total Gastos\")).orderBy(desc(\"Total Gastos\")).withColumn('Total Gastos', udfToCurrancy(col('Total Gastos'))).show(truncate=False)"
   ]
  },
  {
   "cell_type": "markdown",
   "metadata": {},
   "source": [
    "#### ¿Cuál es el tiempo promedio desde que se solicita la orden de compra, hasta que se autoriza?"
   ]
  },
  {
   "cell_type": "code",
   "execution_count": 174,
   "metadata": {},
   "outputs": [
    {
     "name": "stdout",
     "output_type": "stream",
     "text": [
      "+--------------------------+\n",
      "|Promedio de Tiempo en dias|\n",
      "+--------------------------+\n",
      "|7                         |\n",
      "+--------------------------+\n",
      "\n"
     ]
    }
   ],
   "source": [
    "diff = df.select(avg(datediff(col(\"FechaAceptacion\"), col(\"FechaCreacion\"))).alias(\"Promedio de Tiempo en dias\")).orderBy(desc(\"Promedio de Tiempo en dias\"))\n",
    "diff.withColumn('Promedio de Tiempo en dias', diff['Promedio de Tiempo en dias'].cast(IntegerType())).show(truncate=False)"
   ]
  },
  {
   "cell_type": "markdown",
   "metadata": {},
   "source": [
    "#### ¿En que Organismos se realizáron los mayores gastos?"
   ]
  },
  {
   "cell_type": "code",
   "execution_count": 198,
   "metadata": {},
   "outputs": [
    {
     "name": "stdout",
     "output_type": "stream",
     "text": [
      "+-------------------------------------------------------------------+-----------------+\n",
      "|OrganismoPublico                                                   |Total Gastos     |\n",
      "+-------------------------------------------------------------------+-----------------+\n",
      "|CENTRAL DE ABASTECIMIENTO DEL SISTEMA NACIONAL DE SERVICIO DE SALUD|US$ 1,067,028,806|\n",
      "|FONDO NACIONAL DE SALUD                                            |US$ 839,484,260  |\n",
      "|JUNTA NACIONAL DE AUXILIO ESCOLAR Y BECA                           |US$ 645,381,518  |\n",
      "|SUBSECRETARIA DE SALUD PUBLICA                                     |US$ 609,783,173  |\n",
      "|I MUNICIPALIDAD DE VITACURA                                        |US$ 494,253,665  |\n",
      "|HOSPITAL GUILLERMO GRANT BENAVENTE DE CO                           |US$ 293,177,793  |\n",
      "|DIRECCION DE ABASTECIMIENTO DE LA ARMADA                           |US$ 287,608,120  |\n",
      "|DIRECCION DE LOGISTICA DE CARABINEROS                              |US$ 276,195,196  |\n",
      "|SERVICIO DE SALUD METROPOLITANO SUR HOSP                           |US$ 262,097,148  |\n",
      "|DIRECCION GENERAL DE GENDARMERIA DE CHIL                           |US$ 260,976,617  |\n",
      "|COMANDO DE APOYO A LA FUERZA                                       |US$ 249,271,812  |\n",
      "|COMPLEJO ASISTENCIAL DR.VICTOR RIOS RUIZ                           |US$ 244,236,127  |\n",
      "|SERVICIO DE SALUD DE TALCAHUANO HOSPITAL                           |US$ 238,126,328  |\n",
      "|HOSPITAL PUERTO MONTT SERVICIO DE SALUD DEL RELONCAVI              |US$ 219,510,415  |\n",
      "|HOSPITAL CLINICO METROPOLITANO DE LA FLORIDA DOCTORA ELOISA DIAZ   |US$ 207,720,041  |\n",
      "|CORP NACIONAL FORESTAL                                             |US$ 202,578,399  |\n",
      "|MINISTERIO DE OBRAS PUBLICAS DIREC CION GRAL DE OO PP DCYF         |US$ 198,439,389  |\n",
      "|UNIVERSIDAD DE CHILE                                               |US$ 189,715,413  |\n",
      "|SERVICIO NACIONAL DE SALUD HOSPITAL CARLOS VAN BUREN               |US$ 186,914,204  |\n",
      "|JEFATURA DE AHORRO PARA LA VIVIENDA DEL EJERCITO.                  |US$ 183,724,930  |\n",
      "+-------------------------------------------------------------------+-----------------+\n",
      "only showing top 20 rows\n",
      "\n"
     ]
    }
   ],
   "source": [
    "df_organismos = df.groupBy(\"OrganismoPublico\").agg(sum(col(\"MontoTotalOC_PesosChilenos\")).alias(\"Total Gastos\")).orderBy(desc(\"Total Gastos\")).withColumn('Total Gastos', udfToCurrancy(col('Total Gastos'))).show(truncate=False)"
   ]
  },
  {
   "cell_type": "markdown",
   "metadata": {},
   "source": [
    "### Guardar dataset procesado en formato csv nuevo"
   ]
  },
  {
   "cell_type": "code",
   "execution_count": 233,
   "metadata": {},
   "outputs": [],
   "source": [
    "# Guardar el dataset como .csv \n",
    "df.write.csv('DatosDepurados', mode='overwrite')"
   ]
  },
  {
   "cell_type": "code",
   "execution_count": 234,
   "metadata": {},
   "outputs": [
    {
     "name": "stdout",
     "output_type": "stream",
     "text": [
      "Processing DatosDepurados/part-00000-a8090c40-211c-4099-af4f-a535a8d395d1-c000.csv\n",
      "Processing DatosDepurados/part-00001-a8090c40-211c-4099-af4f-a535a8d395d1-c000.csv\n",
      "Processing DatosDepurados/part-00002-a8090c40-211c-4099-af4f-a535a8d395d1-c000.csv\n",
      "Processing DatosDepurados/part-00003-a8090c40-211c-4099-af4f-a535a8d395d1-c000.csv\n",
      "Processing DatosDepurados/part-00004-a8090c40-211c-4099-af4f-a535a8d395d1-c000.csv\n",
      "Processing DatosDepurados/part-00005-a8090c40-211c-4099-af4f-a535a8d395d1-c000.csv\n",
      "Processing DatosDepurados/part-00006-a8090c40-211c-4099-af4f-a535a8d395d1-c000.csv\n",
      "Processing DatosDepurados/part-00007-a8090c40-211c-4099-af4f-a535a8d395d1-c000.csv\n",
      "Processing DatosDepurados/part-00008-a8090c40-211c-4099-af4f-a535a8d395d1-c000.csv\n",
      "Processing DatosDepurados/part-00009-a8090c40-211c-4099-af4f-a535a8d395d1-c000.csv\n",
      "Processing DatosDepurados/part-00010-a8090c40-211c-4099-af4f-a535a8d395d1-c000.csv\n",
      "Processing DatosDepurados/part-00011-a8090c40-211c-4099-af4f-a535a8d395d1-c000.csv\n",
      "Processing DatosDepurados/part-00012-a8090c40-211c-4099-af4f-a535a8d395d1-c000.csv\n",
      "Processing DatosDepurados/part-00013-a8090c40-211c-4099-af4f-a535a8d395d1-c000.csv\n",
      "Processing DatosDepurados/part-00014-a8090c40-211c-4099-af4f-a535a8d395d1-c000.csv\n",
      "Processing DatosDepurados/part-00015-a8090c40-211c-4099-af4f-a535a8d395d1-c000.csv\n",
      "Processing DatosDepurados/part-00016-a8090c40-211c-4099-af4f-a535a8d395d1-c000.csv\n",
      "Processing DatosDepurados/part-00017-a8090c40-211c-4099-af4f-a535a8d395d1-c000.csv\n",
      "Processing DatosDepurados/part-00018-a8090c40-211c-4099-af4f-a535a8d395d1-c000.csv\n",
      "Processing DatosDepurados/part-00019-a8090c40-211c-4099-af4f-a535a8d395d1-c000.csv\n",
      "Processing DatosDepurados/part-00020-a8090c40-211c-4099-af4f-a535a8d395d1-c000.csv\n",
      "Processing DatosDepurados/part-00021-a8090c40-211c-4099-af4f-a535a8d395d1-c000.csv\n",
      "Processing DatosDepurados/part-00022-a8090c40-211c-4099-af4f-a535a8d395d1-c000.csv\n",
      "Processing DatosDepurados/part-00023-a8090c40-211c-4099-af4f-a535a8d395d1-c000.csv\n",
      "Processing DatosDepurados/part-00024-a8090c40-211c-4099-af4f-a535a8d395d1-c000.csv\n",
      "Processing DatosDepurados/part-00025-a8090c40-211c-4099-af4f-a535a8d395d1-c000.csv\n",
      "Processing DatosDepurados/part-00026-a8090c40-211c-4099-af4f-a535a8d395d1-c000.csv\n",
      "Processing DatosDepurados/part-00027-a8090c40-211c-4099-af4f-a535a8d395d1-c000.csv\n",
      "Processing DatosDepurados/part-00028-a8090c40-211c-4099-af4f-a535a8d395d1-c000.csv\n",
      "Done\n"
     ]
    }
   ],
   "source": [
    "%%bash\n",
    "touch DataSetComprasChileDepurado.csv\n",
    "for i in DatosDepurados/*.csv ; do\n",
    "    echo \"Processing $i\"\n",
    "    cat $i >> DataSetComprasChileDepurado.csv\n",
    "    rm $i\n",
    "done\n",
    "echo \"Done\"\n"
   ]
  },
  {
   "cell_type": "code",
   "execution_count": null,
   "metadata": {},
   "outputs": [],
   "source": []
  }
 ],
 "metadata": {
  "kernelspec": {
   "display_name": "Python 3",
   "language": "python",
   "name": "python3"
  },
  "language_info": {
   "codemirror_mode": {
    "name": "ipython",
    "version": 3
   },
   "file_extension": ".py",
   "mimetype": "text/x-python",
   "name": "python",
   "nbconvert_exporter": "python",
   "pygments_lexer": "ipython3",
   "version": "3.7.3"
  }
 },
 "nbformat": 4,
 "nbformat_minor": 2
}
