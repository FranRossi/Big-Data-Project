{
 "cells": [
  {
   "cell_type": "code",
   "execution_count": 7,
   "metadata": {
    "scrolled": true
   },
   "outputs": [],
   "source": [
    "from pyspark.sql import SparkSession"
   ]
  },
  {
   "cell_type": "code",
   "execution_count": 8,
   "metadata": {},
   "outputs": [],
   "source": [
    "spark = SparkSession \\\n",
    "    .builder \\\n",
    "    .appName(\"how to read csv file\") \\\n",
    "    .getOrCreate()"
   ]
  },
  {
   "cell_type": "markdown",
   "metadata": {},
   "source": [
    "## Importanción de datos"
   ]
  },
  {
   "cell_type": "code",
   "execution_count": 3,
   "metadata": {},
   "outputs": [
    {
     "name": "stdout",
     "output_type": "stream",
     "text": [
      "2.3.4 from /opt/conda/lib/python3.7/site-packages/papermill/cli.py (3.7.3)\r\n"
     ]
    }
   ],
   "source": [
    "# ! pip install papermill -q\n",
    "# ! papermill --version"
   ]
  },
  {
   "cell_type": "code",
   "execution_count": 9,
   "metadata": {},
   "outputs": [],
   "source": [
    "months = [\"2022-5\",\"2022-4\",\"2022-3\",\"2022-2\",\"2022-1\",\"2021-12\",\"2021-11\"]\n",
    "archivo_final = \"datos-completos-31-5.csv\""
   ]
  },
  {
   "cell_type": "code",
   "execution_count": 5,
   "metadata": {},
   "outputs": [],
   "source": [
    "! mkdir -p 'import-result'"
   ]
  },
  {
   "cell_type": "code",
   "execution_count": 6,
   "metadata": {},
   "outputs": [
    {
     "name": "stdout",
     "output_type": "stream",
     "text": [
      "Input Notebook:  importar-mes.ipynb\n",
      "Output Notebook: import-result/2022-5.ipynb\n",
      "Black is not installed, parameters wont be formatted\n",
      "Executing:   0%|                                       | 0/18 [00:00<?, ?cell/s]Executing notebook with kernel: python3\n",
      "Executing: 100%|██████████████████████████████| 18/18 [04:17<00:00, 14.28s/cell]\n",
      "Input Notebook:  importar-mes.ipynb\n",
      "Output Notebook: import-result/2022-4.ipynb\n",
      "Black is not installed, parameters wont be formatted\n",
      "Executing:   0%|                                       | 0/18 [00:00<?, ?cell/s]Executing notebook with kernel: python3\n",
      "Executing: 100%|██████████████████████████████| 18/18 [03:11<00:00, 10.65s/cell]\n",
      "Input Notebook:  importar-mes.ipynb\n",
      "Output Notebook: import-result/2022-3.ipynb\n",
      "Black is not installed, parameters wont be formatted\n",
      "Executing:   0%|                                       | 0/18 [00:00<?, ?cell/s]Executing notebook with kernel: python3\n",
      "Executing: 100%|██████████████████████████████| 18/18 [03:16<00:00, 10.93s/cell]\n",
      "Input Notebook:  importar-mes.ipynb\n",
      "Output Notebook: import-result/2022-2.ipynb\n",
      "Black is not installed, parameters wont be formatted\n",
      "Executing:   0%|                                       | 0/18 [00:00<?, ?cell/s]Executing notebook with kernel: python3\n",
      "Executing: 100%|██████████████████████████████| 18/18 [02:41<00:00,  8.95s/cell]\n",
      "Input Notebook:  importar-mes.ipynb\n",
      "Output Notebook: import-result/2022-1.ipynb\n",
      "Black is not installed, parameters wont be formatted\n",
      "Executing:   0%|                                       | 0/18 [00:00<?, ?cell/s]Executing notebook with kernel: python3\n",
      "Executing: 100%|██████████████████████████████| 18/18 [02:37<00:00,  8.76s/cell]\n",
      "Input Notebook:  importar-mes.ipynb\n",
      "Output Notebook: import-result/2021-12.ipynb\n",
      "Black is not installed, parameters wont be formatted\n",
      "Executing:   0%|                                       | 0/18 [00:00<?, ?cell/s]Executing notebook with kernel: python3\n",
      "Executing: 100%|██████████████████████████████| 18/18 [03:34<00:00, 11.89s/cell]\n",
      "Input Notebook:  importar-mes.ipynb\n",
      "Output Notebook: import-result/2021-11.ipynb\n",
      "Black is not installed, parameters wont be formatted\n",
      "Executing:   0%|                                       | 0/18 [00:00<?, ?cell/s]Executing notebook with kernel: python3\n",
      "Executing: 100%|██████████████████████████████| 18/18 [03:41<00:00, 12.28s/cell]\n"
     ]
    }
   ],
   "source": [
    "# for month in months:\n",
    "#     ! papermill 'importar-mes.ipynb' 'import-result/{month}.ipynb' -p mes_datos {month} -p archivo_final {archivo_final} \n"
   ]
  },
  {
   "cell_type": "code",
   "execution_count": 10,
   "metadata": {},
   "outputs": [
    {
     "name": "stdout",
     "output_type": "stream",
     "text": [
      "2021-11.csv  2022-2.csv  2022-5.csv\t    datos-completos.csv  wget-log\n",
      "2021-12.csv  2022-3.csv  ComprasChile.html  importar-mes.ipynb\t work\n",
      "2022-1.csv   2022-4.csv  datasets\t    import-result\n"
     ]
    }
   ],
   "source": [
    "! ls"
   ]
  },
  {
   "cell_type": "code",
   "execution_count": 12,
   "metadata": {},
   "outputs": [],
   "source": [
    "df_original_corregido = spark.read.format(\"csv\").options(header=True, delimiter=';',encoding=\"ISO-8859-1\").csv(archivo_final)"
   ]
  },
  {
   "cell_type": "code",
   "execution_count": 13,
   "metadata": {},
   "outputs": [
    {
     "name": "stdout",
     "output_type": "stream",
     "text": [
      "-RECORD 0------------------------------------------\n",
      " ID                         | 34790455             \n",
      " Codigo                     | 2403-1556-SE17       \n",
      " Link                       | http://www.mercad... \n",
      " Nombre                     | TD Mejoramiento c... \n",
      " Descripcion/Obervaciones   | DECRETO DE ADJUDI... \n",
      " Tipo                       | SE                   \n",
      " ProcedenciaOC              | licitación públic... \n",
      " EsTratoDirecto             | Si                   \n",
      " EsCompraAgil               | No                   \n",
      " CodigoTipo                 | 8                    \n",
      " CodigoAbreviadoTipoOC      | SE                   \n",
      " DescripcionTipoOC          | Sin emisión autom... \n",
      " codigoEstado               | 4                    \n",
      " Estado                     | Enviada a proveedor  \n",
      " codigoEstadoProveedor      | 1                    \n",
      " EstadoProveedor            | Nueva orden de co... \n",
      " FechaCreacion              | 2017-09-27           \n",
      " FechaEnvio                 | 2022-05-23           \n",
      " FechaSolicitudCancelacion  | 2017-09-27           \n",
      " fechaUltimaModificacion    | 2022-05-23           \n",
      " FechaAceptacion            | NA                   \n",
      " FechaCancelacion           | NA                   \n",
      " tieneItems                 | 1                    \n",
      " PromedioCalificacion       | 5                    \n",
      " CantidadEvaluacion         | 1                    \n",
      " MontoTotalOC               | 1080919609,14        \n",
      " TipoMonedaOC               | CLP                  \n",
      " MontoTotalOC_PesosChilenos | 1080919609,14        \n",
      " Impuestos                  | 172583803,14         \n",
      " TipoImpuesto               | IVA                  \n",
      " Descuentos                 | 0                    \n",
      " Cargos                     | 0                    \n",
      " TotalNetoOC                | 908335806            \n",
      " CodigoUnidadCompra         | 3395                 \n",
      " RutUnidadCompra            | 69.254.000-k         \n",
      " UnidadCompra               | IMUNI_PENALOLEN A... \n",
      " CodigoOrganismoPublico     | 87172                \n",
      " OrganismoPublico           | I MUNICIPALIDAD D... \n",
      " sector                     | Municipalidades      \n",
      " ActividadComprador         | GOBIERNO CENTRAL|... \n",
      " CiudadUnidadCompra         | Peñalolén            \n",
      " RegionUnidadCompra         | Región Metropolit... \n",
      " PaisUnidadCompra           | CL                   \n",
      " CodigoSucursal             | 52417                \n",
      " RutSucursal                | 77.634.300-5         \n",
      " Sucursal                   | Importaciones y R... \n",
      " CodigoProveedor            | 51189                \n",
      " NombreProveedor            | Importaciones y R... \n",
      " ActividadProveedor         | OBRAS MENORES EN ... \n",
      " ComunaProveedor            | Peñalolén            \n",
      " RegionProveedor            | Región Metropolit... \n",
      " PaisProveedor              | Chile                \n",
      " Financiamiento             | 215.31.02.004.064    \n",
      " PorcentajeIva              | 19                   \n",
      " Pais                       | CL                   \n",
      " TipoDespacho               | 22                   \n",
      " FormaPago                  | 39                   \n",
      " CodigoLicitacion           | null                 \n",
      " Codigo_ConvenioMarco       | NA                   \n",
      " IDItem                     | 89939120             \n",
      " codigoCategoria            | 72131700             \n",
      " Categoria                  | Servicios de cons... \n",
      " codigoProductoONU          | 72131702             \n",
      " NombreroductoGenerico      | Construcción de o... \n",
      " RubroN1                    | Servicios de cons... \n",
      " RubroN2                    | Construcción de e... \n",
      " RubroN3                    | Construcción de o... \n",
      " EspecificacionComprador    | MEJORAMIENTO COMP... \n",
      " EspecificacionProveedor    | MEJORAMIENTO COMP... \n",
      " cantidad                   | 1                    \n",
      " UnidadMedida               | Unidad               \n",
      " monedaItem                 | CLP                  \n",
      " precioNeto                 | 908335806            \n",
      " totalCargos                | 0                    \n",
      " totalDescuentos            | 0                    \n",
      " totalImpuestos             | 0                    \n",
      " totalLineaNeto             | 908335806            \n",
      " Forma de Pago              | Otro, Ver Instruc... \n",
      "-RECORD 1------------------------------------------\n",
      " ID                         | 37994881             \n",
      " Codigo                     | 653-96-SE18          \n",
      " Link                       | http://www.mercad... \n",
      " Nombre                     | TD 17/2018 Vias y... \n",
      " Descripcion/Obervaciones   | Se contrata la ej... \n",
      " Tipo                       | SE                   \n",
      " ProcedenciaOC              | Emergencia, urgen... \n",
      " EsTratoDirecto             | Si                   \n",
      " EsCompraAgil               | No                   \n",
      " CodigoTipo                 | 8                    \n",
      " CodigoAbreviadoTipoOC      | SE                   \n",
      " DescripcionTipoOC          | Sin emisión autom... \n",
      " codigoEstado               | 6                    \n",
      " Estado                     | Aceptada             \n",
      " codigoEstadoProveedor      | 4                    \n",
      " EstadoProveedor            | Aceptada             \n",
      " FechaCreacion              | 2018-11-13           \n",
      " FechaEnvio                 | 2022-05-24           \n",
      " FechaSolicitudCancelacion  | 2022-05-24           \n",
      " fechaUltimaModificacion    | 2022-05-24           \n",
      " FechaAceptacion            | 2022-05-26           \n",
      " FechaCancelacion           | NA                   \n",
      " tieneItems                 | 1                    \n",
      " PromedioCalificacion       | 0                    \n",
      " CantidadEvaluacion         | 0                    \n",
      " MontoTotalOC               | 2838800173,16        \n",
      " TipoMonedaOC               | CLP                  \n",
      " MontoTotalOC_PesosChilenos | 2838800173,16        \n",
      " Impuestos                  | 453253809,16         \n",
      " TipoImpuesto               | IVA                  \n",
      " Descuentos                 | 0                    \n",
      " Cargos                     | 0                    \n",
      " TotalNetoOC                | 2385546364           \n",
      " CodigoUnidadCompra         | 1649                 \n",
      " RutUnidadCompra            | 61.819.000-5         \n",
      " UnidadCompra               | SERVIU VII REGION    \n",
      " CodigoOrganismoPublico     | 6978                 \n",
      " OrganismoPublico           | SERVICIO DE VIVIE... \n",
      " sector                     | Obras Públicas       \n",
      " ActividadComprador         | null                 \n",
      " CiudadUnidadCompra         | Talca                \n",
      " RegionUnidadCompra         | Región del Maule     \n",
      " PaisUnidadCompra           | CL                   \n",
      " CodigoSucursal             | 707105               \n",
      " RutSucursal                | 76.073.952-9         \n",
      " Sucursal                   | CONSTRUCTORA E IN... \n",
      " CodigoProveedor            | 1307431              \n",
      " NombreProveedor            | CONSTRUCTORA E IN... \n",
      " ActividadProveedor         | CONSTRUCCION DE E... \n",
      " ComunaProveedor            | Talca                \n",
      " RegionProveedor            | Región del Maule     \n",
      " PaisProveedor              | Chile                \n",
      " Financiamiento             | Sectorial            \n",
      " PorcentajeIva              | 19                   \n",
      " Pais                       | CL                   \n",
      " TipoDespacho               | 12                   \n",
      " FormaPago                  | 39                   \n",
      " CodigoLicitacion           | null                 \n",
      " Codigo_ConvenioMarco       | NA                   \n",
      " IDItem                     | 99540855             \n",
      " codigoCategoria            | 72131700             \n",
      " Categoria                  | Servicios de cons... \n",
      " codigoProductoONU          | 72131701             \n",
      " NombreroductoGenerico      | Pavimentación de ... \n",
      " RubroN1                    | Servicios de cons... \n",
      " RubroN2                    | Construcción de e... \n",
      " RubroN3                    | Construcción de o... \n",
      " EspecificacionComprador    | Corresponde a pro... \n",
      " EspecificacionProveedor    | null                 \n",
      " cantidad                   | 1                    \n",
      " UnidadMedida               | Global               \n",
      " monedaItem                 | CLP                  \n",
      " precioNeto                 | 324265061            \n",
      " totalCargos                | 0                    \n",
      " totalDescuentos            | 0                    \n",
      " totalImpuestos             | 0                    \n",
      " totalLineaNeto             | 324265061            \n",
      " Forma de Pago              | Otro, Ver Instruc... \n",
      "-RECORD 2------------------------------------------\n",
      " ID                         | 37994881             \n",
      " Codigo                     | 653-96-SE18          \n",
      " Link                       | http://www.mercad... \n",
      " Nombre                     | TD 17/2018 Vias y... \n",
      " Descripcion/Obervaciones   | Se contrata la ej... \n",
      " Tipo                       | SE                   \n",
      " ProcedenciaOC              | Emergencia, urgen... \n",
      " EsTratoDirecto             | Si                   \n",
      " EsCompraAgil               | No                   \n",
      " CodigoTipo                 | 8                    \n",
      " CodigoAbreviadoTipoOC      | SE                   \n",
      " DescripcionTipoOC          | Sin emisión autom... \n",
      " codigoEstado               | 6                    \n",
      " Estado                     | Aceptada             \n",
      " codigoEstadoProveedor      | 4                    \n",
      " EstadoProveedor            | Aceptada             \n",
      " FechaCreacion              | 2018-11-13           \n",
      " FechaEnvio                 | 2022-05-24           \n",
      " FechaSolicitudCancelacion  | 2022-05-24           \n",
      " fechaUltimaModificacion    | 2022-05-24           \n",
      " FechaAceptacion            | 2022-05-26           \n",
      " FechaCancelacion           | NA                   \n",
      " tieneItems                 | 1                    \n",
      " PromedioCalificacion       | 0                    \n",
      " CantidadEvaluacion         | 0                    \n",
      " MontoTotalOC               | 2838800173,16        \n",
      " TipoMonedaOC               | CLP                  \n",
      " MontoTotalOC_PesosChilenos | 2838800173,16        \n",
      " Impuestos                  | 453253809,16         \n",
      " TipoImpuesto               | IVA                  \n",
      " Descuentos                 | 0                    \n",
      " Cargos                     | 0                    \n",
      " TotalNetoOC                | 2385546364           \n",
      " CodigoUnidadCompra         | 1649                 \n",
      " RutUnidadCompra            | 61.819.000-5         \n",
      " UnidadCompra               | SERVIU VII REGION    \n",
      " CodigoOrganismoPublico     | 6978                 \n",
      " OrganismoPublico           | SERVICIO DE VIVIE... \n",
      " sector                     | Obras Públicas       \n",
      " ActividadComprador         | null                 \n",
      " CiudadUnidadCompra         | Talca                \n",
      " RegionUnidadCompra         | Región del Maule     \n",
      " PaisUnidadCompra           | CL                   \n",
      " CodigoSucursal             | 707105               \n",
      " RutSucursal                | 76.073.952-9         \n",
      " Sucursal                   | CONSTRUCTORA E IN... \n",
      " CodigoProveedor            | 1307431              \n",
      " NombreProveedor            | CONSTRUCTORA E IN... \n",
      " ActividadProveedor         | CONSTRUCCION DE E... \n",
      " ComunaProveedor            | Talca                \n",
      " RegionProveedor            | Región del Maule     \n",
      " PaisProveedor              | Chile                \n",
      " Financiamiento             | Sectorial            \n",
      " PorcentajeIva              | 19                   \n",
      " Pais                       | CL                   \n",
      " TipoDespacho               | 12                   \n",
      " FormaPago                  | 39                   \n",
      " CodigoLicitacion           | null                 \n",
      " Codigo_ConvenioMarco       | NA                   \n",
      " IDItem                     | 99540856             \n",
      " codigoCategoria            | 72131700             \n",
      " Categoria                  | Servicios de cons... \n",
      " codigoProductoONU          | 72131702             \n",
      " NombreroductoGenerico      | Construcción de o... \n",
      " RubroN1                    | Servicios de cons... \n",
      " RubroN2                    | Construcción de e... \n",
      " RubroN3                    | Construcción de o... \n",
      " EspecificacionComprador    | Corresponde a pro... \n",
      " EspecificacionProveedor    | null                 \n",
      " cantidad                   | 1                    \n",
      " UnidadMedida               | Global               \n",
      " monedaItem                 | CLP                  \n",
      " precioNeto                 | 809878597            \n",
      " totalCargos                | 0                    \n",
      " totalDescuentos            | 0                    \n",
      " totalImpuestos             | 0                    \n",
      " totalLineaNeto             | 809878597            \n",
      " Forma de Pago              | Otro, Ver Instruc... \n",
      "-RECORD 3------------------------------------------\n",
      " ID                         | 37994881             \n",
      " Codigo                     | 653-96-SE18          \n",
      " Link                       | http://www.mercad... \n",
      " Nombre                     | TD 17/2018 Vias y... \n",
      " Descripcion/Obervaciones   | Se contrata la ej... \n",
      " Tipo                       | SE                   \n",
      " ProcedenciaOC              | Emergencia, urgen... \n",
      " EsTratoDirecto             | Si                   \n",
      " EsCompraAgil               | No                   \n",
      " CodigoTipo                 | 8                    \n",
      " CodigoAbreviadoTipoOC      | SE                   \n",
      " DescripcionTipoOC          | Sin emisión autom... \n",
      " codigoEstado               | 6                    \n",
      " Estado                     | Aceptada             \n",
      " codigoEstadoProveedor      | 4                    \n",
      " EstadoProveedor            | Aceptada             \n",
      " FechaCreacion              | 2018-11-13           \n",
      " FechaEnvio                 | 2022-05-24           \n",
      " FechaSolicitudCancelacion  | 2022-05-24           \n",
      " fechaUltimaModificacion    | 2022-05-24           \n",
      " FechaAceptacion            | 2022-05-26           \n",
      " FechaCancelacion           | NA                   \n",
      " tieneItems                 | 1                    \n",
      " PromedioCalificacion       | 0                    \n",
      " CantidadEvaluacion         | 0                    \n",
      " MontoTotalOC               | 2838800173,16        \n",
      " TipoMonedaOC               | CLP                  \n",
      " MontoTotalOC_PesosChilenos | 2838800173,16        \n",
      " Impuestos                  | 453253809,16         \n",
      " TipoImpuesto               | IVA                  \n",
      " Descuentos                 | 0                    \n",
      " Cargos                     | 0                    \n",
      " TotalNetoOC                | 2385546364           \n",
      " CodigoUnidadCompra         | 1649                 \n",
      " RutUnidadCompra            | 61.819.000-5         \n",
      " UnidadCompra               | SERVIU VII REGION    \n",
      " CodigoOrganismoPublico     | 6978                 \n",
      " OrganismoPublico           | SERVICIO DE VIVIE... \n",
      " sector                     | Obras Públicas       \n",
      " ActividadComprador         | null                 \n",
      " CiudadUnidadCompra         | Talca                \n",
      " RegionUnidadCompra         | Región del Maule     \n",
      " PaisUnidadCompra           | CL                   \n",
      " CodigoSucursal             | 707105               \n",
      " RutSucursal                | 76.073.952-9         \n",
      " Sucursal                   | CONSTRUCTORA E IN... \n",
      " CodigoProveedor            | 1307431              \n",
      " NombreProveedor            | CONSTRUCTORA E IN... \n",
      " ActividadProveedor         | CONSTRUCCION DE E... \n",
      " ComunaProveedor            | Talca                \n",
      " RegionProveedor            | Región del Maule     \n",
      " PaisProveedor              | Chile                \n",
      " Financiamiento             | Sectorial            \n",
      " PorcentajeIva              | 19                   \n",
      " Pais                       | CL                   \n",
      " TipoDespacho               | 12                   \n",
      " FormaPago                  | 39                   \n",
      " CodigoLicitacion           | null                 \n",
      " Codigo_ConvenioMarco       | NA                   \n",
      " IDItem                     | 99540857             \n",
      " codigoCategoria            | 72131700             \n",
      " Categoria                  | Servicios de cons... \n",
      " codigoProductoONU          | 72131702             \n",
      " NombreroductoGenerico      | Construcción de o... \n",
      " RubroN1                    | Servicios de cons... \n",
      " RubroN2                    | Construcción de e... \n",
      " RubroN3                    | Construcción de o... \n",
      " EspecificacionComprador    | Corresponde a pro... \n",
      " EspecificacionProveedor    | null                 \n",
      " cantidad                   | 1                    \n",
      " UnidadMedida               | Global               \n",
      " monedaItem                 | CLP                  \n",
      " precioNeto                 | 1251402706           \n",
      " totalCargos                | 0                    \n",
      " totalDescuentos            | 0                    \n",
      " totalImpuestos             | 0                    \n",
      " totalLineaNeto             | 1251402706           \n",
      " Forma de Pago              | Otro, Ver Instruc... \n",
      "-RECORD 4------------------------------------------\n",
      " ID                         | 38027615             \n",
      " Codigo                     | 2403-2047-SE18       \n",
      " Link                       | http://www.mercad... \n",
      " Nombre                     | TD Mejoramiento y... \n",
      " Descripcion/Obervaciones   | DECRETO DE ADJUDI... \n",
      " Tipo                       | SE                   \n",
      " ProcedenciaOC              | licitación públic... \n",
      " EsTratoDirecto             | Si                   \n",
      " EsCompraAgil               | No                   \n",
      " CodigoTipo                 | 8                    \n",
      " CodigoAbreviadoTipoOC      | SE                   \n",
      " DescripcionTipoOC          | Sin emisión autom... \n",
      " codigoEstado               | 4                    \n",
      " Estado                     | Enviada a proveedor  \n",
      " codigoEstadoProveedor      | 1                    \n",
      " EstadoProveedor            | Nueva orden de co... \n",
      " FechaCreacion              | 2018-11-15           \n",
      " FechaEnvio                 | 2022-05-23           \n",
      " FechaSolicitudCancelacion  | 2022-05-23           \n",
      " fechaUltimaModificacion    | 2022-05-23           \n",
      " FechaAceptacion            | NA                   \n",
      " FechaCancelacion           | NA                   \n",
      " tieneItems                 | 1                    \n",
      " PromedioCalificacion       | 0                    \n",
      " CantidadEvaluacion         | 0                    \n",
      " MontoTotalOC               | 27505957,5           \n",
      " TipoMonedaOC               | CLP                  \n",
      " MontoTotalOC_PesosChilenos | 27505957,5           \n",
      " Impuestos                  | 4391707,5            \n",
      " TipoImpuesto               | IVA                  \n",
      " Descuentos                 | 0                    \n",
      " Cargos                     | 0                    \n",
      " TotalNetoOC                | 23114250             \n",
      " CodigoUnidadCompra         | 3395                 \n",
      " RutUnidadCompra            | 69.254.000-k         \n",
      " UnidadCompra               | IMUNI_PENALOLEN A... \n",
      " CodigoOrganismoPublico     | 87172                \n",
      " OrganismoPublico           | I MUNICIPALIDAD D... \n",
      " sector                     | Municipalidades      \n",
      " ActividadComprador         | GOBIERNO CENTRAL|... \n",
      " CiudadUnidadCompra         | Peñalolén            \n",
      " RegionUnidadCompra         | Región Metropolit... \n",
      " PaisUnidadCompra           | CL                   \n",
      " CodigoSucursal             | 990183               \n",
      " RutSucursal                | 76.647.412-8         \n",
      " Sucursal                   | Jorge Luis           \n",
      " CodigoProveedor            | 1581649              \n",
      " NombreProveedor            | Jorge Luis           \n",
      " ActividadProveedor         | ASESORIA, CONSULT... \n",
      " ComunaProveedor            | Peñalolén            \n",
      " RegionProveedor            | Región Metropolit... \n",
      " PaisProveedor              | Chile                \n",
      " Financiamiento             | 2153102004032        \n",
      " PorcentajeIva              | 19                   \n",
      " Pais                       | CL                   \n",
      " TipoDespacho               | 12                   \n",
      " FormaPago                  | 2                    \n",
      " CodigoLicitacion           | null                 \n",
      " Codigo_ConvenioMarco       | NA                   \n",
      " IDItem                     | 99635555             \n",
      " codigoCategoria            | 72131700             \n",
      " Categoria                  | Servicios de cons... \n",
      " codigoProductoONU          | 72131702             \n",
      " NombreroductoGenerico      | Construcción de o... \n",
      " RubroN1                    | Servicios de cons... \n",
      " RubroN2                    | Construcción de e... \n",
      " RubroN3                    | Construcción de o... \n",
      " EspecificacionComprador    | MEJORAMIENTO Y EQ... \n",
      " EspecificacionProveedor    | MEJORAMIENTO Y EQ... \n",
      " cantidad                   | 1                    \n",
      " UnidadMedida               | Unidad               \n",
      " monedaItem                 | CLP                  \n",
      " precioNeto                 | 23114250             \n",
      " totalCargos                | 0                    \n",
      " totalDescuentos            | 0                    \n",
      " totalImpuestos             | 0                    \n",
      " totalLineaNeto             | 23114250             \n",
      " Forma de Pago              | 30 dias contra la... \n",
      "-RECORD 5------------------------------------------\n",
      " ID                         | 39919654             \n",
      " Codigo                     | 4548-764-SE19        \n",
      " Link                       | http://www.mercad... \n",
      " Nombre                     | ORDEN DE COMPRA D... \n",
      " Descripcion/Obervaciones   | ESTUDIO FINANCIER... \n",
      " Tipo                       | SE                   \n",
      " ProcedenciaOC              | Proveniente de li... \n",
      " EsTratoDirecto             | No                   \n",
      " EsCompraAgil               | No                   \n",
      " CodigoTipo                 | 8                    \n",
      " CodigoAbreviadoTipoOC      | SE                   \n",
      " DescripcionTipoOC          | Sin emisión autom... \n",
      " codigoEstado               | 6                    \n",
      " Estado                     | Aceptada             \n",
      " codigoEstadoProveedor      | 4                    \n",
      " EstadoProveedor            | Aceptada             \n",
      " FechaCreacion              | 2019-07-25           \n",
      " FechaEnvio                 | 2022-05-17           \n",
      " FechaSolicitudCancelacion  | 2022-05-17           \n",
      " fechaUltimaModificacion    | 2022-05-17           \n",
      " FechaAceptacion            | 2022-05-17           \n",
      " FechaCancelacion           | NA                   \n",
      " tieneItems                 | 1                    \n",
      " PromedioCalificacion       | 0                    \n",
      " CantidadEvaluacion         | 0                    \n",
      " MontoTotalOC               | 1,19                 \n",
      " TipoMonedaOC               | CLP                  \n",
      " MontoTotalOC_PesosChilenos | 1,19                 \n",
      " Impuestos                  | 0,19                 \n",
      " TipoImpuesto               | IVA                  \n",
      " Descuentos                 | 0                    \n",
      " Cargos                     | 0                    \n",
      " TotalNetoOC                | 1                    \n",
      " CodigoUnidadCompra         | 5464                 \n",
      " RutUnidadCompra            | 69.060.700-k         \n",
      " UnidadCompra               | UNIDAD NORMAL        \n",
      " CodigoOrganismoPublico     | 138454               \n",
      " OrganismoPublico           | I MUNICIPALIDAD D... \n",
      " sector                     | Municipalidades      \n",
      " ActividadComprador         | GOBIERNO CENTRAL     \n",
      " CiudadUnidadCompra         | Quintero             \n",
      " RegionUnidadCompra         | Región de Valpara... \n",
      " PaisUnidadCompra           | CL                   \n",
      " CodigoSucursal             | 645152               \n",
      " RutSucursal                | 76.138.663-8         \n",
      " Sucursal                   | GESTION GLOBAL SPA   \n",
      " CodigoProveedor            | 1247971              \n",
      " NombreProveedor            | PROYECTOS,CONSULT... \n",
      " ActividadProveedor         | ACTIVIDADES DE AS... \n",
      " ComunaProveedor            | Chillán              \n",
      " RegionProveedor            | Región del Ñuble     \n",
      " PaisProveedor              | Chile                \n",
      " Financiamiento             | 2211001              \n",
      " PorcentajeIva              | 19                   \n",
      " Pais                       | CL                   \n",
      " TipoDespacho               | 7                    \n",
      " FormaPago                  | 2                    \n",
      " CodigoLicitacion           | 4548-53-LE19         \n",
      " Codigo_ConvenioMarco       | NA                   \n",
      " IDItem                     | 105227828            \n",
      " codigoCategoria            | 84121600             \n",
      " Categoria                  | Servicios financi... \n",
      " codigoProductoONU          | 84121607             \n",
      " NombreroductoGenerico      | Leasing financiero   \n",
      " RubroN1                    | Servicios financi... \n",
      " RubroN2                    | Banca e inversiones  \n",
      " RubroN3                    | Servicios de tran... \n",
      " EspecificacionComprador    | \"SEGUN BASES ADMI... \n",
      " EspecificacionProveedor    | La oferta corresp... \n",
      " cantidad                   | 1                    \n",
      " UnidadMedida               | Unidad               \n",
      " monedaItem                 | CLP                  \n",
      " precioNeto                 | 1                    \n",
      " totalCargos                | 0                    \n",
      " totalDescuentos            | 0                    \n",
      " totalImpuestos             | 0                    \n",
      " totalLineaNeto             | 1                    \n",
      " Forma de Pago              | 30 dias contra la... \n",
      "-RECORD 6------------------------------------------\n",
      " ID                         | 41187221             \n",
      " Codigo                     | 324-10-SE20          \n",
      " Link                       | http://www.mercad... \n",
      " Nombre                     | Servicio Martillero  \n",
      " Descripcion/Obervaciones   | Servicio de Marti... \n",
      " Tipo                       | SE                   \n",
      " ProcedenciaOC              | Proveniente de li... \n",
      " EsTratoDirecto             | No                   \n",
      " EsCompraAgil               | No                   \n",
      " CodigoTipo                 | 8                    \n",
      " CodigoAbreviadoTipoOC      | SE                   \n",
      " DescripcionTipoOC          | Sin emisión autom... \n",
      " codigoEstado               | 4                    \n",
      " Estado                     | Enviada a proveedor  \n",
      " codigoEstadoProveedor      | 1                    \n",
      " EstadoProveedor            | Nueva orden de co... \n",
      " FechaCreacion              | 2020-01-06           \n",
      " FechaEnvio                 | 2022-05-17           \n",
      " FechaSolicitudCancelacion  | 2022-05-17           \n",
      " fechaUltimaModificacion    | 2022-05-17           \n",
      " FechaAceptacion            | NA                   \n",
      " FechaCancelacion           | NA                   \n",
      " tieneItems                 | 1                    \n",
      " PromedioCalificacion       | 0                    \n",
      " CantidadEvaluacion         | 0                    \n",
      " MontoTotalOC               | 5,95                 \n",
      " TipoMonedaOC               | CLP                  \n",
      " MontoTotalOC_PesosChilenos | 5,95                 \n",
      " Impuestos                  | 0,95                 \n",
      " TipoImpuesto               | IVA                  \n",
      " Descuentos                 | 0                    \n",
      " Cargos                     | 0                    \n",
      " TotalNetoOC                | 5                    \n",
      " CodigoUnidadCompra         | 1321                 \n",
      " RutUnidadCompra            | 69.255.000-5         \n",
      " UnidadCompra               | Administración y ... \n",
      " CodigoOrganismoPublico     | 7241                 \n",
      " OrganismoPublico           | I MUNICIPALIDAD D... \n",
      " sector                     | Municipalidades      \n",
      " ActividadComprador         | ACTIVIDADES DE OT... \n",
      " CiudadUnidadCompra         | Cerrillos            \n",
      " RegionUnidadCompra         | Región Metropolit... \n",
      " PaisUnidadCompra           | CL                   \n",
      " CodigoSucursal             | 524474               \n",
      " RutSucursal                | 13.301.421-7         \n",
      " Sucursal                   | DRAGO REMATES 2      \n",
      " CodigoProveedor            | 1051607              \n",
      " NombreProveedor            | DRAGO URRUTIA ROD... \n",
      " ActividadProveedor         | SERVICIO DE SUBAS... \n",
      " ComunaProveedor            | Rancagua             \n",
      " RegionProveedor            | Región del Libert... \n",
      " PaisProveedor              | Chile                \n",
      " Financiamiento             | null                 \n",
      " PorcentajeIva              | 19                   \n",
      " Pais                       | CL                   \n",
      " TipoDespacho               | 12                   \n",
      " FormaPago                  | 2                    \n",
      " CodigoLicitacion           | 324-601-L119         \n",
      " Codigo_ConvenioMarco       | NA                   \n",
      " IDItem                     | 108796689            \n",
      " codigoCategoria            | 80141700             \n",
      " Categoria                  | Servicios profesi... \n",
      " codigoProductoONU          | 80141705             \n",
      " NombreroductoGenerico      | Subasta              \n",
      " RubroN1                    | Servicios profesi... \n",
      " RubroN2                    | Servicios para la... \n",
      " RubroN3                    | Distribución         \n",
      " EspecificacionComprador    | Servicio de Marti... \n",
      " EspecificacionProveedor    | OFERTA VALIDA POR... \n",
      " cantidad                   | 1                    \n",
      " UnidadMedida               | Unidad               \n",
      " monedaItem                 | CLP                  \n",
      " precioNeto                 | 5                    \n",
      " totalCargos                | 0                    \n",
      " totalDescuentos            | 0                    \n",
      " totalImpuestos             | 0                    \n",
      " totalLineaNeto             | 5                    \n",
      " Forma de Pago              | 30 dias contra la... \n",
      "-RECORD 7------------------------------------------\n",
      " ID                         | 42458908             \n",
      " Codigo                     | 1021609-422-SE20     \n",
      " Link                       | http://www.mercad... \n",
      " Nombre                     | ROTURA MANGUITO R... \n",
      " Descripcion/Obervaciones   | CS TRAUMATOLOGÍA ... \n",
      " Tipo                       | SE                   \n",
      " ProcedenciaOC              | Proveniente de li... \n",
      " EsTratoDirecto             | No                   \n",
      " EsCompraAgil               | No                   \n",
      " CodigoTipo                 | 8                    \n",
      " CodigoAbreviadoTipoOC      | SE                   \n",
      " DescripcionTipoOC          | Sin emisión autom... \n",
      " codigoEstado               | 12                   \n",
      " Estado                     | Recepcion Conforme   \n",
      " codigoEstadoProveedor      | 7                    \n",
      " EstadoProveedor            | Recepcion Conforme   \n",
      " FechaCreacion              | 2020-08-27           \n",
      " FechaEnvio                 | 2022-05-05           \n",
      " FechaSolicitudCancelacion  | 2022-05-05           \n",
      " fechaUltimaModificacion    | 2022-04-30           \n",
      " FechaAceptacion            | 2022-05-09           \n",
      " FechaCancelacion           | NA                   \n",
      " tieneItems                 | 1                    \n",
      " PromedioCalificacion       | 4,2                  \n",
      " CantidadEvaluacion         | 1                    \n",
      " MontoTotalOC               | 893277,07            \n",
      " TipoMonedaOC               | CLP                  \n",
      " MontoTotalOC_PesosChilenos | 893277,07            \n",
      " Impuestos                  | 142624,07            \n",
      " TipoImpuesto               | IVA                  \n",
      " Descuentos                 | 0                    \n",
      " Cargos                     | 0                    \n",
      " TotalNetoOC                | 750653               \n",
      " CodigoUnidadCompra         | 1021609              \n",
      " RutUnidadCompra            | 61.602.140-0         \n",
      " UnidadCompra               | Convenio Suminist... \n",
      " CodigoOrganismoPublico     | 7440                 \n",
      " OrganismoPublico           | SERVICIO DE SALUD... \n",
      " sector                     | Salud                \n",
      " ActividadComprador         | Servicio de Salud    \n",
      " CiudadUnidadCompra         | Rengo                \n",
      " RegionUnidadCompra         | Región del Libert... \n",
      " PaisUnidadCompra           |                      \n",
      " CodigoSucursal             | 27859                \n",
      " RutSucursal                | 96.863.710-k         \n",
      " Sucursal                   | BIOMET CHILE S A     \n",
      " CodigoProveedor            | 27905                \n",
      " NombreProveedor            | BIOMET CHILE S A     \n",
      " ActividadProveedor         | VENTA AL POR MAYO... \n",
      " ComunaProveedor            | Huechuraba           \n",
      " RegionProveedor            | Región Metropolit... \n",
      " PaisProveedor              | Chile                \n",
      " Financiamiento             | null                 \n",
      " PorcentajeIva              | 19                   \n",
      " Pais                       |                      \n",
      " TipoDespacho               | 7                    \n",
      " FormaPago                  | 2                    \n",
      " CodigoLicitacion           | 1021609-14-LQ18      \n",
      " Codigo_ConvenioMarco       | NA                   \n",
      " IDItem                     | 112479219            \n",
      " codigoCategoria            | 42294200             \n",
      " Categoria                  | Equipamiento y su... \n",
      " codigoProductoONU          | 42294211             \n",
      " NombreroductoGenerico      | Instrumentos quir... \n",
      " RubroN1                    | Equipamiento y su... \n",
      " RubroN2                    | Productos quirúrg... \n",
      " RubroN3                    | Juegos de instrum... \n",
      " EspecificacionComprador    | COT: 379409          \n",
      " EspecificacionProveedor    | COT: 379409          \n",
      " cantidad                   | 1                    \n",
      " UnidadMedida               | Global               \n",
      " monedaItem                 | CLP                  \n",
      " precioNeto                 | 750653               \n",
      " totalCargos                | 0                    \n",
      " totalDescuentos            | 0                    \n",
      " totalImpuestos             | 0                    \n",
      " totalLineaNeto             | 750653               \n",
      " Forma de Pago              | 30 dias contra la... \n",
      "-RECORD 8------------------------------------------\n",
      " ID                         | 42460835             \n",
      " Codigo                     | 1021609-431-SE20     \n",
      " Link                       | http://www.mercad... \n",
      " Nombre                     | FIJACION FEMORAL ... \n",
      " Descripcion/Obervaciones   | CS TRAUMATOLOGÍAC... \n",
      " Tipo                       | SE                   \n",
      " ProcedenciaOC              | Proveniente de li... \n",
      " EsTratoDirecto             | No                   \n",
      " EsCompraAgil               | No                   \n",
      " CodigoTipo                 | 8                    \n",
      " CodigoAbreviadoTipoOC      | SE                   \n",
      " DescripcionTipoOC          | Sin emisión autom... \n",
      " codigoEstado               | 12                   \n",
      " Estado                     | Recepcion Conforme   \n",
      " codigoEstadoProveedor      | 7                    \n",
      " EstadoProveedor            | Recepcion Conforme   \n",
      " FechaCreacion              | 2020-08-27           \n",
      " FechaEnvio                 | 2022-05-05           \n",
      " FechaSolicitudCancelacion  | 2022-05-05           \n",
      " fechaUltimaModificacion    | 2022-04-30           \n",
      " FechaAceptacion            | 2022-05-09           \n",
      " FechaCancelacion           | NA                   \n",
      " tieneItems                 | 1                    \n",
      " PromedioCalificacion       | 4,2                  \n",
      " CantidadEvaluacion         | 1                    \n",
      " MontoTotalOC               | 402359,23            \n",
      " TipoMonedaOC               | CLP                  \n",
      " MontoTotalOC_PesosChilenos | 402359,23            \n",
      " Impuestos                  | 64242,23             \n",
      " TipoImpuesto               | IVA                  \n",
      " Descuentos                 | 0                    \n",
      " Cargos                     | 0                    \n",
      " TotalNetoOC                | 338117               \n",
      " CodigoUnidadCompra         | 1021609              \n",
      " RutUnidadCompra            | 61.602.140-0         \n",
      " UnidadCompra               | Convenio Suminist... \n",
      " CodigoOrganismoPublico     | 7440                 \n",
      " OrganismoPublico           | SERVICIO DE SALUD... \n",
      " sector                     | Salud                \n",
      " ActividadComprador         | Servicio de Salud    \n",
      " CiudadUnidadCompra         | Rengo                \n",
      " RegionUnidadCompra         | Región del Libert... \n",
      " PaisUnidadCompra           |                      \n",
      " CodigoSucursal             | 27859                \n",
      " RutSucursal                | 96.863.710-k         \n",
      " Sucursal                   | BIOMET CHILE S A     \n",
      " CodigoProveedor            | 27905                \n",
      " NombreProveedor            | BIOMET CHILE S A     \n",
      " ActividadProveedor         | VENTA AL POR MAYO... \n",
      " ComunaProveedor            | Huechuraba           \n",
      " RegionProveedor            | Región Metropolit... \n",
      " PaisProveedor              | Chile                \n",
      " Financiamiento             | null                 \n",
      " PorcentajeIva              | 19                   \n",
      " Pais                       |                      \n",
      " TipoDespacho               | 7                    \n",
      " FormaPago                  | 2                    \n",
      " CodigoLicitacion           | 1021609-16-LQ18      \n",
      " Codigo_ConvenioMarco       | NA                   \n",
      " IDItem                     | 112484357            \n",
      " codigoCategoria            | 42294200             \n",
      " Categoria                  | Equipamiento y su... \n",
      " codigoProductoONU          | 42294211             \n",
      " NombreroductoGenerico      | Instrumentos quir... \n",
      " RubroN1                    | Equipamiento y su... \n",
      " RubroN2                    | Productos quirúrg... \n",
      " RubroN3                    | Juegos de instrum... \n",
      " EspecificacionComprador    | CO: 380609           \n",
      " EspecificacionProveedor    | CO: 380609           \n",
      " cantidad                   | 1                    \n",
      " UnidadMedida               | Global               \n",
      " monedaItem                 | CLP                  \n",
      " precioNeto                 | 338117               \n",
      " totalCargos                | 0                    \n",
      " totalDescuentos            | 0                    \n",
      " totalImpuestos             | 0                    \n",
      " totalLineaNeto             | 338117               \n",
      " Forma de Pago              | 30 dias contra la... \n",
      "-RECORD 9------------------------------------------\n",
      " ID                         | 42461025             \n",
      " Codigo                     | 1021609-432-SE20     \n",
      " Link                       | http://www.mercad... \n",
      " Nombre                     | FIJACION FEMORAL ... \n",
      " Descripcion/Obervaciones   | CS TRAUMATOLOGÍAF... \n",
      " Tipo                       | SE                   \n",
      " ProcedenciaOC              | Proveniente de li... \n",
      " EsTratoDirecto             | No                   \n",
      " EsCompraAgil               | No                   \n",
      " CodigoTipo                 | 8                    \n",
      " CodigoAbreviadoTipoOC      | SE                   \n",
      " DescripcionTipoOC          | Sin emisión autom... \n",
      " codigoEstado               | 12                   \n",
      " Estado                     | Recepcion Conforme   \n",
      " codigoEstadoProveedor      | 7                    \n",
      " EstadoProveedor            | Recepcion Conforme   \n",
      " FechaCreacion              | 2020-08-27           \n",
      " FechaEnvio                 | 2022-05-05           \n",
      " FechaSolicitudCancelacion  | 2022-05-05           \n",
      " fechaUltimaModificacion    | 2022-04-30           \n",
      " FechaAceptacion            | 2022-05-09           \n",
      " FechaCancelacion           | NA                   \n",
      " tieneItems                 | 1                    \n",
      " PromedioCalificacion       | 4,2                  \n",
      " CantidadEvaluacion         | 1                    \n",
      " MontoTotalOC               | 429390,08            \n",
      " TipoMonedaOC               | CLP                  \n",
      " MontoTotalOC_PesosChilenos | 429390,08            \n",
      " Impuestos                  | 68558,08             \n",
      " TipoImpuesto               | IVA                  \n",
      " Descuentos                 | 0                    \n",
      " Cargos                     | 0                    \n",
      " TotalNetoOC                | 360832               \n",
      " CodigoUnidadCompra         | 1021609              \n",
      " RutUnidadCompra            | 61.602.140-0         \n",
      " UnidadCompra               | Convenio Suminist... \n",
      " CodigoOrganismoPublico     | 7440                 \n",
      " OrganismoPublico           | SERVICIO DE SALUD... \n",
      " sector                     | Salud                \n",
      " ActividadComprador         | Servicio de Salud    \n",
      " CiudadUnidadCompra         | Rengo                \n",
      " RegionUnidadCompra         | Región del Libert... \n",
      " PaisUnidadCompra           |                      \n",
      " CodigoSucursal             | 27859                \n",
      " RutSucursal                | 96.863.710-k         \n",
      " Sucursal                   | BIOMET CHILE S A     \n",
      " CodigoProveedor            | 27905                \n",
      " NombreProveedor            | BIOMET CHILE S A     \n",
      " ActividadProveedor         | VENTA AL POR MAYO... \n",
      " ComunaProveedor            | Huechuraba           \n",
      " RegionProveedor            | Región Metropolit... \n",
      " PaisProveedor              | Chile                \n",
      " Financiamiento             | null                 \n",
      " PorcentajeIva              | 19                   \n",
      " Pais                       |                      \n",
      " TipoDespacho               | 7                    \n",
      " FormaPago                  | 2                    \n",
      " CodigoLicitacion           | 1021609-16-LQ18      \n",
      " Codigo_ConvenioMarco       | NA                   \n",
      " IDItem                     | 112484904            \n",
      " codigoCategoria            | 42294200             \n",
      " Categoria                  | Equipamiento y su... \n",
      " codigoProductoONU          | 42294211             \n",
      " NombreroductoGenerico      | Instrumentos quir... \n",
      " RubroN1                    | Equipamiento y su... \n",
      " RubroN2                    | Productos quirúrg... \n",
      " RubroN3                    | Juegos de instrum... \n",
      " EspecificacionComprador    | COT: 380876          \n",
      " EspecificacionProveedor    | COT: 380876          \n",
      " cantidad                   | 1                    \n",
      " UnidadMedida               | Global               \n",
      " monedaItem                 | CLP                  \n",
      " precioNeto                 | 360832               \n",
      " totalCargos                | 0                    \n",
      " totalDescuentos            | 0                    \n",
      " totalImpuestos             | 0                    \n",
      " totalLineaNeto             | 360832               \n",
      " Forma de Pago              | 30 dias contra la... \n",
      "only showing top 10 rows\n",
      "\n"
     ]
    }
   ],
   "source": [
    "df_original_corregido.show(10,vertical=True)"
   ]
  },
  {
   "cell_type": "markdown",
   "metadata": {},
   "source": [
    "## Ingeniería de Atributos"
   ]
  },
  {
   "cell_type": "markdown",
   "metadata": {},
   "source": [
    "### Columnas Relevantes\n",
    "Eliminamos las columnas que no sean relevanes para nuestro analisis, dejando solo las que sí podemos llegar a utilizar "
   ]
  },
  {
   "cell_type": "code",
   "execution_count": 14,
   "metadata": {},
   "outputs": [],
   "source": [
    "df_original = df_original_corregido"
   ]
  },
  {
   "cell_type": "code",
   "execution_count": 15,
   "metadata": {},
   "outputs": [
    {
     "data": {
      "text/plain": [
       "['ID',\n",
       " 'Codigo',\n",
       " 'Link',\n",
       " 'Nombre',\n",
       " 'Descripcion/Obervaciones',\n",
       " 'Tipo',\n",
       " 'ProcedenciaOC',\n",
       " 'EsTratoDirecto',\n",
       " 'EsCompraAgil',\n",
       " 'CodigoTipo',\n",
       " 'CodigoAbreviadoTipoOC',\n",
       " 'DescripcionTipoOC',\n",
       " 'codigoEstado',\n",
       " 'Estado',\n",
       " 'codigoEstadoProveedor',\n",
       " 'EstadoProveedor',\n",
       " 'FechaCreacion',\n",
       " 'FechaEnvio',\n",
       " 'FechaSolicitudCancelacion',\n",
       " 'fechaUltimaModificacion',\n",
       " 'FechaAceptacion',\n",
       " 'FechaCancelacion',\n",
       " 'tieneItems',\n",
       " 'PromedioCalificacion',\n",
       " 'CantidadEvaluacion',\n",
       " 'MontoTotalOC',\n",
       " 'TipoMonedaOC',\n",
       " 'MontoTotalOC_PesosChilenos',\n",
       " 'Impuestos',\n",
       " 'TipoImpuesto',\n",
       " 'Descuentos',\n",
       " 'Cargos',\n",
       " 'TotalNetoOC',\n",
       " 'CodigoUnidadCompra',\n",
       " 'RutUnidadCompra',\n",
       " 'UnidadCompra',\n",
       " 'CodigoOrganismoPublico',\n",
       " 'OrganismoPublico',\n",
       " 'sector',\n",
       " 'ActividadComprador',\n",
       " 'CiudadUnidadCompra',\n",
       " 'RegionUnidadCompra',\n",
       " 'PaisUnidadCompra',\n",
       " 'CodigoSucursal',\n",
       " 'RutSucursal',\n",
       " 'Sucursal',\n",
       " 'CodigoProveedor',\n",
       " 'NombreProveedor',\n",
       " 'ActividadProveedor',\n",
       " 'ComunaProveedor',\n",
       " 'RegionProveedor',\n",
       " 'PaisProveedor',\n",
       " 'Financiamiento',\n",
       " 'PorcentajeIva',\n",
       " 'Pais',\n",
       " 'TipoDespacho',\n",
       " 'FormaPago',\n",
       " 'CodigoLicitacion',\n",
       " 'Codigo_ConvenioMarco',\n",
       " 'IDItem',\n",
       " 'codigoCategoria',\n",
       " 'Categoria',\n",
       " 'codigoProductoONU',\n",
       " 'NombreroductoGenerico',\n",
       " 'RubroN1',\n",
       " 'RubroN2',\n",
       " 'RubroN3',\n",
       " 'EspecificacionComprador',\n",
       " 'EspecificacionProveedor',\n",
       " 'cantidad',\n",
       " 'UnidadMedida',\n",
       " 'monedaItem',\n",
       " 'precioNeto',\n",
       " 'totalCargos',\n",
       " 'totalDescuentos',\n",
       " 'totalImpuestos',\n",
       " 'totalLineaNeto',\n",
       " 'Forma de Pago']"
      ]
     },
     "execution_count": 15,
     "metadata": {},
     "output_type": "execute_result"
    }
   ],
   "source": [
    "df_original.columns"
   ]
  },
  {
   "cell_type": "code",
   "execution_count": 16,
   "metadata": {},
   "outputs": [],
   "source": [
    "df_columnas_relevantes = df_original[\n",
    "    ['Estado',\n",
    " 'FechaCreacion',\n",
    " 'FechaAceptacion',\n",
    " 'MontoTotalOC_PesosChilenos',\n",
    " 'OrganismoPublico',\n",
    " 'sector',\n",
    " 'CiudadUnidadCompra',\n",
    " 'RegionUnidadCompra',\n",
    " 'PaisProveedor',\n",
    " 'IDItem',\n",
    " 'RubroN1',\n",
    " 'RubroN2',\n",
    " 'RubroN3',\n",
    " 'cantidad',\n",
    " 'UnidadMedida']\n",
    "]"
   ]
  },
  {
   "cell_type": "code",
   "execution_count": 17,
   "metadata": {
    "scrolled": true
   },
   "outputs": [
    {
     "name": "stdout",
     "output_type": "stream",
     "text": [
      "-RECORD 0------------------------------------------\n",
      " Estado                     | Enviada a proveedor  \n",
      " FechaCreacion              | 2017-09-27           \n",
      " FechaAceptacion            | NA                   \n",
      " MontoTotalOC_PesosChilenos | 1080919609,14        \n",
      " OrganismoPublico           | I MUNICIPALIDAD D... \n",
      " sector                     | Municipalidades      \n",
      " CiudadUnidadCompra         | Peñalolén            \n",
      " RegionUnidadCompra         | Región Metropolit... \n",
      " PaisProveedor              | Chile                \n",
      " IDItem                     | 89939120             \n",
      " RubroN1                    | Servicios de cons... \n",
      " RubroN2                    | Construcción de e... \n",
      " RubroN3                    | Construcción de o... \n",
      " cantidad                   | 1                    \n",
      " UnidadMedida               | Unidad               \n",
      "-RECORD 1------------------------------------------\n",
      " Estado                     | Aceptada             \n",
      " FechaCreacion              | 2018-11-13           \n",
      " FechaAceptacion            | 2022-05-26           \n",
      " MontoTotalOC_PesosChilenos | 2838800173,16        \n",
      " OrganismoPublico           | SERVICIO DE VIVIE... \n",
      " sector                     | Obras Públicas       \n",
      " CiudadUnidadCompra         | Talca                \n",
      " RegionUnidadCompra         | Región del Maule     \n",
      " PaisProveedor              | Chile                \n",
      " IDItem                     | 99540855             \n",
      " RubroN1                    | Servicios de cons... \n",
      " RubroN2                    | Construcción de e... \n",
      " RubroN3                    | Construcción de o... \n",
      " cantidad                   | 1                    \n",
      " UnidadMedida               | Global               \n",
      "-RECORD 2------------------------------------------\n",
      " Estado                     | Aceptada             \n",
      " FechaCreacion              | 2018-11-13           \n",
      " FechaAceptacion            | 2022-05-26           \n",
      " MontoTotalOC_PesosChilenos | 2838800173,16        \n",
      " OrganismoPublico           | SERVICIO DE VIVIE... \n",
      " sector                     | Obras Públicas       \n",
      " CiudadUnidadCompra         | Talca                \n",
      " RegionUnidadCompra         | Región del Maule     \n",
      " PaisProveedor              | Chile                \n",
      " IDItem                     | 99540856             \n",
      " RubroN1                    | Servicios de cons... \n",
      " RubroN2                    | Construcción de e... \n",
      " RubroN3                    | Construcción de o... \n",
      " cantidad                   | 1                    \n",
      " UnidadMedida               | Global               \n",
      "-RECORD 3------------------------------------------\n",
      " Estado                     | Aceptada             \n",
      " FechaCreacion              | 2018-11-13           \n",
      " FechaAceptacion            | 2022-05-26           \n",
      " MontoTotalOC_PesosChilenos | 2838800173,16        \n",
      " OrganismoPublico           | SERVICIO DE VIVIE... \n",
      " sector                     | Obras Públicas       \n",
      " CiudadUnidadCompra         | Talca                \n",
      " RegionUnidadCompra         | Región del Maule     \n",
      " PaisProveedor              | Chile                \n",
      " IDItem                     | 99540857             \n",
      " RubroN1                    | Servicios de cons... \n",
      " RubroN2                    | Construcción de e... \n",
      " RubroN3                    | Construcción de o... \n",
      " cantidad                   | 1                    \n",
      " UnidadMedida               | Global               \n",
      "-RECORD 4------------------------------------------\n",
      " Estado                     | Enviada a proveedor  \n",
      " FechaCreacion              | 2018-11-15           \n",
      " FechaAceptacion            | NA                   \n",
      " MontoTotalOC_PesosChilenos | 27505957,5           \n",
      " OrganismoPublico           | I MUNICIPALIDAD D... \n",
      " sector                     | Municipalidades      \n",
      " CiudadUnidadCompra         | Peñalolén            \n",
      " RegionUnidadCompra         | Región Metropolit... \n",
      " PaisProveedor              | Chile                \n",
      " IDItem                     | 99635555             \n",
      " RubroN1                    | Servicios de cons... \n",
      " RubroN2                    | Construcción de e... \n",
      " RubroN3                    | Construcción de o... \n",
      " cantidad                   | 1                    \n",
      " UnidadMedida               | Unidad               \n",
      "-RECORD 5------------------------------------------\n",
      " Estado                     | Aceptada             \n",
      " FechaCreacion              | 2019-07-25           \n",
      " FechaAceptacion            | 2022-05-17           \n",
      " MontoTotalOC_PesosChilenos | 1,19                 \n",
      " OrganismoPublico           | I MUNICIPALIDAD D... \n",
      " sector                     | Municipalidades      \n",
      " CiudadUnidadCompra         | Quintero             \n",
      " RegionUnidadCompra         | Región de Valpara... \n",
      " PaisProveedor              | Chile                \n",
      " IDItem                     | 105227828            \n",
      " RubroN1                    | Servicios financi... \n",
      " RubroN2                    | Banca e inversiones  \n",
      " RubroN3                    | Servicios de tran... \n",
      " cantidad                   | 1                    \n",
      " UnidadMedida               | Unidad               \n",
      "-RECORD 6------------------------------------------\n",
      " Estado                     | Enviada a proveedor  \n",
      " FechaCreacion              | 2020-01-06           \n",
      " FechaAceptacion            | NA                   \n",
      " MontoTotalOC_PesosChilenos | 5,95                 \n",
      " OrganismoPublico           | I MUNICIPALIDAD D... \n",
      " sector                     | Municipalidades      \n",
      " CiudadUnidadCompra         | Cerrillos            \n",
      " RegionUnidadCompra         | Región Metropolit... \n",
      " PaisProveedor              | Chile                \n",
      " IDItem                     | 108796689            \n",
      " RubroN1                    | Servicios profesi... \n",
      " RubroN2                    | Servicios para la... \n",
      " RubroN3                    | Distribución         \n",
      " cantidad                   | 1                    \n",
      " UnidadMedida               | Unidad               \n",
      "-RECORD 7------------------------------------------\n",
      " Estado                     | Recepcion Conforme   \n",
      " FechaCreacion              | 2020-08-27           \n",
      " FechaAceptacion            | 2022-05-09           \n",
      " MontoTotalOC_PesosChilenos | 893277,07            \n",
      " OrganismoPublico           | SERVICIO DE SALUD... \n",
      " sector                     | Salud                \n",
      " CiudadUnidadCompra         | Rengo                \n",
      " RegionUnidadCompra         | Región del Libert... \n",
      " PaisProveedor              | Chile                \n",
      " IDItem                     | 112479219            \n",
      " RubroN1                    | Equipamiento y su... \n",
      " RubroN2                    | Productos quirúrg... \n",
      " RubroN3                    | Juegos de instrum... \n",
      " cantidad                   | 1                    \n",
      " UnidadMedida               | Global               \n",
      "-RECORD 8------------------------------------------\n",
      " Estado                     | Recepcion Conforme   \n",
      " FechaCreacion              | 2020-08-27           \n",
      " FechaAceptacion            | 2022-05-09           \n",
      " MontoTotalOC_PesosChilenos | 402359,23            \n",
      " OrganismoPublico           | SERVICIO DE SALUD... \n",
      " sector                     | Salud                \n",
      " CiudadUnidadCompra         | Rengo                \n",
      " RegionUnidadCompra         | Región del Libert... \n",
      " PaisProveedor              | Chile                \n",
      " IDItem                     | 112484357            \n",
      " RubroN1                    | Equipamiento y su... \n",
      " RubroN2                    | Productos quirúrg... \n",
      " RubroN3                    | Juegos de instrum... \n",
      " cantidad                   | 1                    \n",
      " UnidadMedida               | Global               \n",
      "-RECORD 9------------------------------------------\n",
      " Estado                     | Recepcion Conforme   \n",
      " FechaCreacion              | 2020-08-27           \n",
      " FechaAceptacion            | 2022-05-09           \n",
      " MontoTotalOC_PesosChilenos | 429390,08            \n",
      " OrganismoPublico           | SERVICIO DE SALUD... \n",
      " sector                     | Salud                \n",
      " CiudadUnidadCompra         | Rengo                \n",
      " RegionUnidadCompra         | Región del Libert... \n",
      " PaisProveedor              | Chile                \n",
      " IDItem                     | 112484904            \n",
      " RubroN1                    | Equipamiento y su... \n",
      " RubroN2                    | Productos quirúrg... \n",
      " RubroN3                    | Juegos de instrum... \n",
      " cantidad                   | 1                    \n",
      " UnidadMedida               | Global               \n",
      "-RECORD 10-----------------------------------------\n",
      " Estado                     | Enviada a proveedor  \n",
      " FechaCreacion              | 2020-10-15           \n",
      " FechaAceptacion            | NA                   \n",
      " MontoTotalOC_PesosChilenos | 404600               \n",
      " OrganismoPublico           | I MUNICIPALIDAD D... \n",
      " sector                     | Municipalidades      \n",
      " CiudadUnidadCompra         | San Vicente de Ta... \n",
      " RegionUnidadCompra         | Región del Libert... \n",
      " PaisProveedor              | Chile                \n",
      " IDItem                     | 113209085            \n",
      " RubroN1                    | Servicios de prod... \n",
      " RubroN2                    | Industrias de plá... \n",
      " RubroN3                    | Producción farmac... \n",
      " cantidad                   | 20000                \n",
      " UnidadMedida               | Unidad               \n",
      "-RECORD 11-----------------------------------------\n",
      " Estado                     | Aceptada             \n",
      " FechaCreacion              | 2020-10-22           \n",
      " FechaAceptacion            | 2022-05-30           \n",
      " MontoTotalOC_PesosChilenos | 882148,19            \n",
      " OrganismoPublico           | HOSPITAL DR GUSTA... \n",
      " sector                     | Salud                \n",
      " CiudadUnidadCompra         | Viña del Mar         \n",
      " RegionUnidadCompra         | Región de Valpara... \n",
      " PaisProveedor              | Chile                \n",
      " IDItem                     | 113325174            \n",
      " RubroN1                    | Equipamiento y su... \n",
      " RubroN2                    | Productos medicin... \n",
      " RubroN3                    | Dispositivos, acc... \n",
      " cantidad                   | 1                    \n",
      " UnidadMedida               | Unidad               \n",
      "-RECORD 12-----------------------------------------\n",
      " Estado                     | Recepcion Conforme   \n",
      " FechaCreacion              | 2021-01-14           \n",
      " FechaAceptacion            | 2022-05-09           \n",
      " MontoTotalOC_PesosChilenos | 61880                \n",
      " OrganismoPublico           | SERVICIO DE SALUD... \n",
      " sector                     | Salud                \n",
      " CiudadUnidadCompra         | Illapel              \n",
      " RegionUnidadCompra         | Región de Coquimbo   \n",
      " PaisProveedor              | NA                   \n",
      " IDItem                     | 114790898            \n",
      " RubroN1                    | Equipamiento y su... \n",
      " RubroN2                    | Equipos y suminis... \n",
      " RubroN3                    | Suministros y equ... \n",
      " cantidad                   | 13                   \n",
      " UnidadMedida               | Unidad               \n",
      "-RECORD 13-----------------------------------------\n",
      " Estado                     | Aceptada             \n",
      " FechaCreacion              | 2021-01-22           \n",
      " FechaAceptacion            | 2022-05-24           \n",
      " MontoTotalOC_PesosChilenos | 690175,01            \n",
      " OrganismoPublico           | HOSPITAL DR GUSTA... \n",
      " sector                     | Salud                \n",
      " CiudadUnidadCompra         | Viña del Mar         \n",
      " RegionUnidadCompra         | Región de Valpara... \n",
      " PaisProveedor              | Chile                \n",
      " IDItem                     | 114888354            \n",
      " RubroN1                    | Equipamiento y su... \n",
      " RubroN2                    | Productos medicin... \n",
      " RubroN3                    | Dispositivos, acc... \n",
      " cantidad                   | 1                    \n",
      " UnidadMedida               | Unidad               \n",
      "-RECORD 14-----------------------------------------\n",
      " Estado                     | Recepcion Conforme   \n",
      " FechaCreacion              | 2021-01-29           \n",
      " FechaAceptacion            | 2022-05-05           \n",
      " MontoTotalOC_PesosChilenos | 2605778,7            \n",
      " OrganismoPublico           | SERVICIO DE SALUD... \n",
      " sector                     | Salud                \n",
      " CiudadUnidadCompra         | Providencia          \n",
      " RegionUnidadCompra         | Región Metropolit... \n",
      " PaisProveedor              | Chile                \n",
      " IDItem                     | 122021788            \n",
      " RubroN1                    | Medicamentos y pr... \n",
      " RubroN2                    | Medicamentos inmu... \n",
      " RubroN3                    | Inmunodepresores     \n",
      " cantidad                   | 10                   \n",
      " UnidadMedida               | Unidad               \n",
      "only showing top 15 rows\n",
      "\n"
     ]
    }
   ],
   "source": [
    "df_columnas_relevantes.show(15,vertical=True)"
   ]
  },
  {
   "cell_type": "code",
   "execution_count": 18,
   "metadata": {},
   "outputs": [
    {
     "data": {
      "text/plain": [
       "2587212"
      ]
     },
     "execution_count": 18,
     "metadata": {},
     "output_type": "execute_result"
    }
   ],
   "source": [
    "df_columnas_relevantes.count()"
   ]
  },
  {
   "cell_type": "markdown",
   "metadata": {},
   "source": [
    "#### Eliminar filas que no cuentas con un Estado válido. Deberían ser solo 5 posibles valores"
   ]
  },
  {
   "cell_type": "code",
   "execution_count": 19,
   "metadata": {},
   "outputs": [
    {
     "name": "stdout",
     "output_type": "stream",
     "text": [
      "-RECORD 0----------------------\n",
      " Estado | Compra Ágil          \n",
      "-RECORD 1----------------------\n",
      " Estado | Sin emisión autom... \n",
      "-RECORD 2----------------------\n",
      " Estado | Convenio Marco       \n",
      "-RECORD 3----------------------\n",
      " Estado | 8                    \n",
      "-RECORD 4----------------------\n",
      " Estado | Estado               \n",
      "-RECORD 5----------------------\n",
      " Estado | 5                    \n",
      "-RECORD 6----------------------\n",
      " Estado |  Llave               \n",
      "-RECORD 7----------------------\n",
      " Estado | 6                    \n",
      "-RECORD 8----------------------\n",
      " Estado | Costo de evaluaci... \n",
      "-RECORD 9----------------------\n",
      " Estado | CM                   \n",
      "-RECORD 10---------------------\n",
      " Estado | Cancelacion solic... \n",
      "-RECORD 11---------------------\n",
      " Estado | En proceso           \n",
      "-RECORD 12---------------------\n",
      " Estado | AG                   \n",
      "-RECORD 13---------------------\n",
      " Estado | Adquisición igual... \n",
      "-RECORD 14---------------------\n",
      " Estado | SE                   \n",
      "-RECORD 15---------------------\n",
      " Estado | Recepcion Conforme   \n",
      "-RECORD 16---------------------\n",
      " Estado | Si                   \n",
      "-RECORD 17---------------------\n",
      " Estado | Enviada a proveedor  \n",
      "-RECORD 18---------------------\n",
      " Estado | 4                    \n",
      "-RECORD 19---------------------\n",
      " Estado | 12                   \n",
      "only showing top 20 rows\n",
      "\n"
     ]
    }
   ],
   "source": [
    "df_columnas_relevantes.select(\"Estado\").distinct().show(vertical=True)"
   ]
  },
  {
   "cell_type": "code",
   "execution_count": 20,
   "metadata": {},
   "outputs": [],
   "source": [
    "estados_validos = [\"Aceptada\", \"En proceso\",\"Cancelacion solicitada\", \"Enviada a proveedor\", \"Recepcion Conforme\"] "
   ]
  },
  {
   "cell_type": "code",
   "execution_count": 21,
   "metadata": {},
   "outputs": [
    {
     "name": "stdout",
     "output_type": "stream",
     "text": [
      "-RECORD 0----------------------\n",
      " Estado | Cancelacion solic... \n",
      "-RECORD 1----------------------\n",
      " Estado | En proceso           \n",
      "-RECORD 2----------------------\n",
      " Estado | Recepcion Conforme   \n",
      "-RECORD 3----------------------\n",
      " Estado | Enviada a proveedor  \n",
      "-RECORD 4----------------------\n",
      " Estado | Aceptada             \n",
      "\n"
     ]
    }
   ],
   "source": [
    "df_estados_validos =df_columnas_relevantes.filter(df_columnas_relevantes.Estado.isin(estados_validos))\n",
    "df_estados_validos.select(\"Estado\").distinct().show(vertical=True)"
   ]
  },
  {
   "cell_type": "markdown",
   "metadata": {},
   "source": [
    "### Analisis de atributos\n"
   ]
  },
  {
   "cell_type": "code",
   "execution_count": 156,
   "metadata": {},
   "outputs": [],
   "source": [
    "df = df_estados_validos"
   ]
  },
  {
   "cell_type": "code",
   "execution_count": 157,
   "metadata": {},
   "outputs": [
    {
     "name": "stdout",
     "output_type": "stream",
     "text": [
      "root\n",
      " |-- Estado: string (nullable = true)\n",
      " |-- FechaCreacion: string (nullable = true)\n",
      " |-- FechaAceptacion: string (nullable = true)\n",
      " |-- MontoTotalOC_PesosChilenos: string (nullable = true)\n",
      " |-- OrganismoPublico: string (nullable = true)\n",
      " |-- sector: string (nullable = true)\n",
      " |-- CiudadUnidadCompra: string (nullable = true)\n",
      " |-- RegionUnidadCompra: string (nullable = true)\n",
      " |-- PaisProveedor: string (nullable = true)\n",
      " |-- IDItem: string (nullable = true)\n",
      " |-- RubroN1: string (nullable = true)\n",
      " |-- RubroN2: string (nullable = true)\n",
      " |-- RubroN3: string (nullable = true)\n",
      " |-- cantidad: string (nullable = true)\n",
      " |-- UnidadMedida: string (nullable = true)\n",
      "\n"
     ]
    }
   ],
   "source": [
    "df.printSchema()"
   ]
  },
  {
   "cell_type": "code",
   "execution_count": 158,
   "metadata": {},
   "outputs": [
    {
     "name": "stdout",
     "output_type": "stream",
     "text": [
      "-RECORD 0----------------------------\n",
      " Estado                     | 0      \n",
      " FechaCreacion              | 0      \n",
      " FechaAceptacion            | 0      \n",
      " MontoTotalOC_PesosChilenos | 0      \n",
      " OrganismoPublico           | 0      \n",
      " sector                     | 0      \n",
      " CiudadUnidadCompra         | 336    \n",
      " RegionUnidadCompra         | 0      \n",
      " PaisProveedor              | 201426 \n",
      " IDItem                     | 0      \n",
      " RubroN1                    | 0      \n",
      " RubroN2                    | 0      \n",
      " RubroN3                    | 0      \n",
      " cantidad                   | 45     \n",
      " UnidadMedida               | 11     \n",
      "\n"
     ]
    }
   ],
   "source": [
    "from pyspark.sql.functions import isnan, when, count, col\n",
    "df.select([count(when(col(c).isNull(), c)).alias(c) for c in df.columns]).show(vertical=True)"
   ]
  },
  {
   "cell_type": "markdown",
   "metadata": {},
   "source": [
    "Convertimos las fechas a formato fecha"
   ]
  },
  {
   "cell_type": "code",
   "execution_count": 159,
   "metadata": {},
   "outputs": [],
   "source": [
    "from datetime import datetime\n",
    "from pyspark.sql.functions import col, udf\n",
    "from pyspark.sql.types import DoubleType, IntegerType, DateType"
   ]
  },
  {
   "cell_type": "code",
   "execution_count": 160,
   "metadata": {},
   "outputs": [],
   "source": [
    "# Convert the date column to a datetype with format year-month-day\n",
    "from pyspark.sql.functions import to_date\n",
    "df = df.withColumn('FechaCreacion', to_date(col('FechaCreacion'), 'yyyy-MM-dd'))\n",
    "df = df.withColumn('FechaAceptacion', to_date(col('FechaAceptacion'), 'yyyy-MM-dd'))"
   ]
  },
  {
   "cell_type": "code",
   "execution_count": 161,
   "metadata": {},
   "outputs": [
    {
     "name": "stdout",
     "output_type": "stream",
     "text": [
      "root\n",
      " |-- FechaCreacion: date (nullable = true)\n",
      " |-- FechaAceptacion: date (nullable = true)\n",
      "\n"
     ]
    }
   ],
   "source": [
    "df['FechaCreacion','FechaAceptacion'].printSchema()"
   ]
  },
  {
   "cell_type": "code",
   "execution_count": 162,
   "metadata": {},
   "outputs": [],
   "source": [
    "from pyspark.sql.functions import regexp_replace\n",
    "df = df.withColumn('MontoTotalOC_PesosChilenos', regexp_replace('MontoTotalOC_PesosChilenos', ',', '.'))\n",
    "df = df.withColumn('MontoTotalOC_PesosChilenos', df['MontoTotalOC_PesosChilenos'].cast(DoubleType()))"
   ]
  },
  {
   "cell_type": "code",
   "execution_count": 163,
   "metadata": {},
   "outputs": [],
   "source": [
    "df = df.filter(df.cantidad.rlike(\"[0-9,]\"))\n",
    "df = df.withColumn('cantidad', regexp_replace('cantidad', ',', '.'))\n",
    "df = df.withColumn('cantidad', col('cantidad').cast(DoubleType())) "
   ]
  },
  {
   "cell_type": "markdown",
   "metadata": {},
   "source": [
    "Convertimos los valores númericos a sus repectivos tipos"
   ]
  },
  {
   "cell_type": "code",
   "execution_count": 164,
   "metadata": {},
   "outputs": [],
   "source": [
    "df = df.withColumn('IDItem', col('IDItem').cast(IntegerType()))"
   ]
  },
  {
   "cell_type": "code",
   "execution_count": 165,
   "metadata": {},
   "outputs": [
    {
     "name": "stdout",
     "output_type": "stream",
     "text": [
      "root\n",
      " |-- MontoTotalOC_PesosChilenos: double (nullable = true)\n",
      " |-- IDItem: integer (nullable = true)\n",
      " |-- cantidad: double (nullable = true)\n",
      "\n"
     ]
    }
   ],
   "source": [
    "df['MontoTotalOC_PesosChilenos','IDItem', 'cantidad'].printSchema()"
   ]
  },
  {
   "cell_type": "code",
   "execution_count": 166,
   "metadata": {},
   "outputs": [
    {
     "name": "stdout",
     "output_type": "stream",
     "text": [
      "-RECORD 0----------------------------\n",
      " Estado                     | 0      \n",
      " FechaCreacion              | 0      \n",
      " FechaAceptacion            | 153161 \n",
      " MontoTotalOC_PesosChilenos | 0      \n",
      " OrganismoPublico           | 0      \n",
      " sector                     | 0      \n",
      " CiudadUnidadCompra         | 336    \n",
      " RegionUnidadCompra         | 0      \n",
      " PaisProveedor              | 201375 \n",
      " IDItem                     | 0      \n",
      " RubroN1                    | 0      \n",
      " RubroN2                    | 0      \n",
      " RubroN3                    | 0      \n",
      " cantidad                   | 283    \n",
      " UnidadMedida               | 9      \n",
      "\n"
     ]
    }
   ],
   "source": [
    "# count how many rows have null values\n",
    "df.select([count(when(col(c).isNull(), c)).alias(c) for c in df.columns]).show(vertical=True)"
   ]
  },
  {
   "cell_type": "markdown",
   "metadata": {},
   "source": [
    "La explicación de por qué la columna FechaAceptación tiene nulos es porque no todas las compras fueron aceptadas, mientras que todas las compras fueron creadas (sino no estarían en el dataset)"
   ]
  },
  {
   "cell_type": "code",
   "execution_count": 167,
   "metadata": {},
   "outputs": [
    {
     "name": "stdout",
     "output_type": "stream",
     "text": [
      "-RECORD 0------------------------------------------\n",
      " Estado                     | Enviada a proveedor  \n",
      " FechaCreacion              | 2017-09-27           \n",
      " FechaAceptacion            | null                 \n",
      " MontoTotalOC_PesosChilenos | 1.08091960914E9      \n",
      " OrganismoPublico           | I MUNICIPALIDAD D... \n",
      " sector                     | Municipalidades      \n",
      " CiudadUnidadCompra         | Peñalolén            \n",
      " RegionUnidadCompra         | Región Metropolit... \n",
      " PaisProveedor              | Chile                \n",
      " IDItem                     | 89939120             \n",
      " RubroN1                    | Servicios de cons... \n",
      " RubroN2                    | Construcción de e... \n",
      " RubroN3                    | Construcción de o... \n",
      " cantidad                   | 1.0                  \n",
      " UnidadMedida               | Unidad               \n",
      "-RECORD 1------------------------------------------\n",
      " Estado                     | Aceptada             \n",
      " FechaCreacion              | 2018-11-13           \n",
      " FechaAceptacion            | 2022-05-26           \n",
      " MontoTotalOC_PesosChilenos | 2.83880017316E9      \n",
      " OrganismoPublico           | SERVICIO DE VIVIE... \n",
      " sector                     | Obras Públicas       \n",
      " CiudadUnidadCompra         | Talca                \n",
      " RegionUnidadCompra         | Región del Maule     \n",
      " PaisProveedor              | Chile                \n",
      " IDItem                     | 99540855             \n",
      " RubroN1                    | Servicios de cons... \n",
      " RubroN2                    | Construcción de e... \n",
      " RubroN3                    | Construcción de o... \n",
      " cantidad                   | 1.0                  \n",
      " UnidadMedida               | Global               \n",
      "-RECORD 2------------------------------------------\n",
      " Estado                     | Aceptada             \n",
      " FechaCreacion              | 2018-11-13           \n",
      " FechaAceptacion            | 2022-05-26           \n",
      " MontoTotalOC_PesosChilenos | 2.83880017316E9      \n",
      " OrganismoPublico           | SERVICIO DE VIVIE... \n",
      " sector                     | Obras Públicas       \n",
      " CiudadUnidadCompra         | Talca                \n",
      " RegionUnidadCompra         | Región del Maule     \n",
      " PaisProveedor              | Chile                \n",
      " IDItem                     | 99540856             \n",
      " RubroN1                    | Servicios de cons... \n",
      " RubroN2                    | Construcción de e... \n",
      " RubroN3                    | Construcción de o... \n",
      " cantidad                   | 1.0                  \n",
      " UnidadMedida               | Global               \n",
      "-RECORD 3------------------------------------------\n",
      " Estado                     | Aceptada             \n",
      " FechaCreacion              | 2018-11-13           \n",
      " FechaAceptacion            | 2022-05-26           \n",
      " MontoTotalOC_PesosChilenos | 2.83880017316E9      \n",
      " OrganismoPublico           | SERVICIO DE VIVIE... \n",
      " sector                     | Obras Públicas       \n",
      " CiudadUnidadCompra         | Talca                \n",
      " RegionUnidadCompra         | Región del Maule     \n",
      " PaisProveedor              | Chile                \n",
      " IDItem                     | 99540857             \n",
      " RubroN1                    | Servicios de cons... \n",
      " RubroN2                    | Construcción de e... \n",
      " RubroN3                    | Construcción de o... \n",
      " cantidad                   | 1.0                  \n",
      " UnidadMedida               | Global               \n",
      "-RECORD 4------------------------------------------\n",
      " Estado                     | Enviada a proveedor  \n",
      " FechaCreacion              | 2018-11-15           \n",
      " FechaAceptacion            | null                 \n",
      " MontoTotalOC_PesosChilenos | 2.75059575E7         \n",
      " OrganismoPublico           | I MUNICIPALIDAD D... \n",
      " sector                     | Municipalidades      \n",
      " CiudadUnidadCompra         | Peñalolén            \n",
      " RegionUnidadCompra         | Región Metropolit... \n",
      " PaisProveedor              | Chile                \n",
      " IDItem                     | 99635555             \n",
      " RubroN1                    | Servicios de cons... \n",
      " RubroN2                    | Construcción de e... \n",
      " RubroN3                    | Construcción de o... \n",
      " cantidad                   | 1.0                  \n",
      " UnidadMedida               | Unidad               \n",
      "-RECORD 5------------------------------------------\n",
      " Estado                     | Aceptada             \n",
      " FechaCreacion              | 2019-07-25           \n",
      " FechaAceptacion            | 2022-05-17           \n",
      " MontoTotalOC_PesosChilenos | 1.19                 \n",
      " OrganismoPublico           | I MUNICIPALIDAD D... \n",
      " sector                     | Municipalidades      \n",
      " CiudadUnidadCompra         | Quintero             \n",
      " RegionUnidadCompra         | Región de Valpara... \n",
      " PaisProveedor              | Chile                \n",
      " IDItem                     | 105227828            \n",
      " RubroN1                    | Servicios financi... \n",
      " RubroN2                    | Banca e inversiones  \n",
      " RubroN3                    | Servicios de tran... \n",
      " cantidad                   | 1.0                  \n",
      " UnidadMedida               | Unidad               \n",
      "-RECORD 6------------------------------------------\n",
      " Estado                     | Enviada a proveedor  \n",
      " FechaCreacion              | 2020-01-06           \n",
      " FechaAceptacion            | null                 \n",
      " MontoTotalOC_PesosChilenos | 5.95                 \n",
      " OrganismoPublico           | I MUNICIPALIDAD D... \n",
      " sector                     | Municipalidades      \n",
      " CiudadUnidadCompra         | Cerrillos            \n",
      " RegionUnidadCompra         | Región Metropolit... \n",
      " PaisProveedor              | Chile                \n",
      " IDItem                     | 108796689            \n",
      " RubroN1                    | Servicios profesi... \n",
      " RubroN2                    | Servicios para la... \n",
      " RubroN3                    | Distribución         \n",
      " cantidad                   | 1.0                  \n",
      " UnidadMedida               | Unidad               \n",
      "-RECORD 7------------------------------------------\n",
      " Estado                     | Recepcion Conforme   \n",
      " FechaCreacion              | 2020-08-27           \n",
      " FechaAceptacion            | 2022-05-09           \n",
      " MontoTotalOC_PesosChilenos | 893277.07            \n",
      " OrganismoPublico           | SERVICIO DE SALUD... \n",
      " sector                     | Salud                \n",
      " CiudadUnidadCompra         | Rengo                \n",
      " RegionUnidadCompra         | Región del Libert... \n",
      " PaisProveedor              | Chile                \n",
      " IDItem                     | 112479219            \n",
      " RubroN1                    | Equipamiento y su... \n",
      " RubroN2                    | Productos quirúrg... \n",
      " RubroN3                    | Juegos de instrum... \n",
      " cantidad                   | 1.0                  \n",
      " UnidadMedida               | Global               \n",
      "-RECORD 8------------------------------------------\n",
      " Estado                     | Recepcion Conforme   \n",
      " FechaCreacion              | 2020-08-27           \n",
      " FechaAceptacion            | 2022-05-09           \n",
      " MontoTotalOC_PesosChilenos | 402359.23            \n",
      " OrganismoPublico           | SERVICIO DE SALUD... \n",
      " sector                     | Salud                \n",
      " CiudadUnidadCompra         | Rengo                \n",
      " RegionUnidadCompra         | Región del Libert... \n",
      " PaisProveedor              | Chile                \n",
      " IDItem                     | 112484357            \n",
      " RubroN1                    | Equipamiento y su... \n",
      " RubroN2                    | Productos quirúrg... \n",
      " RubroN3                    | Juegos de instrum... \n",
      " cantidad                   | 1.0                  \n",
      " UnidadMedida               | Global               \n",
      "-RECORD 9------------------------------------------\n",
      " Estado                     | Recepcion Conforme   \n",
      " FechaCreacion              | 2020-08-27           \n",
      " FechaAceptacion            | 2022-05-09           \n",
      " MontoTotalOC_PesosChilenos | 429390.08            \n",
      " OrganismoPublico           | SERVICIO DE SALUD... \n",
      " sector                     | Salud                \n",
      " CiudadUnidadCompra         | Rengo                \n",
      " RegionUnidadCompra         | Región del Libert... \n",
      " PaisProveedor              | Chile                \n",
      " IDItem                     | 112484904            \n",
      " RubroN1                    | Equipamiento y su... \n",
      " RubroN2                    | Productos quirúrg... \n",
      " RubroN3                    | Juegos de instrum... \n",
      " cantidad                   | 1.0                  \n",
      " UnidadMedida               | Global               \n",
      "-RECORD 10-----------------------------------------\n",
      " Estado                     | Enviada a proveedor  \n",
      " FechaCreacion              | 2020-10-15           \n",
      " FechaAceptacion            | null                 \n",
      " MontoTotalOC_PesosChilenos | 404600.0             \n",
      " OrganismoPublico           | I MUNICIPALIDAD D... \n",
      " sector                     | Municipalidades      \n",
      " CiudadUnidadCompra         | San Vicente de Ta... \n",
      " RegionUnidadCompra         | Región del Libert... \n",
      " PaisProveedor              | Chile                \n",
      " IDItem                     | 113209085            \n",
      " RubroN1                    | Servicios de prod... \n",
      " RubroN2                    | Industrias de plá... \n",
      " RubroN3                    | Producción farmac... \n",
      " cantidad                   | 20000.0              \n",
      " UnidadMedida               | Unidad               \n",
      "-RECORD 11-----------------------------------------\n",
      " Estado                     | Aceptada             \n",
      " FechaCreacion              | 2020-10-22           \n",
      " FechaAceptacion            | 2022-05-30           \n",
      " MontoTotalOC_PesosChilenos | 882148.19            \n",
      " OrganismoPublico           | HOSPITAL DR GUSTA... \n",
      " sector                     | Salud                \n",
      " CiudadUnidadCompra         | Viña del Mar         \n",
      " RegionUnidadCompra         | Región de Valpara... \n",
      " PaisProveedor              | Chile                \n",
      " IDItem                     | 113325174            \n",
      " RubroN1                    | Equipamiento y su... \n",
      " RubroN2                    | Productos medicin... \n",
      " RubroN3                    | Dispositivos, acc... \n",
      " cantidad                   | 1.0                  \n",
      " UnidadMedida               | Unidad               \n",
      "-RECORD 12-----------------------------------------\n",
      " Estado                     | Recepcion Conforme   \n",
      " FechaCreacion              | 2021-01-14           \n",
      " FechaAceptacion            | 2022-05-09           \n",
      " MontoTotalOC_PesosChilenos | 61880.0              \n",
      " OrganismoPublico           | SERVICIO DE SALUD... \n",
      " sector                     | Salud                \n",
      " CiudadUnidadCompra         | Illapel              \n",
      " RegionUnidadCompra         | Región de Coquimbo   \n",
      " PaisProveedor              | NA                   \n",
      " IDItem                     | 114790898            \n",
      " RubroN1                    | Equipamiento y su... \n",
      " RubroN2                    | Equipos y suminis... \n",
      " RubroN3                    | Suministros y equ... \n",
      " cantidad                   | 13.0                 \n",
      " UnidadMedida               | Unidad               \n",
      "-RECORD 13-----------------------------------------\n",
      " Estado                     | Aceptada             \n",
      " FechaCreacion              | 2021-01-22           \n",
      " FechaAceptacion            | 2022-05-24           \n",
      " MontoTotalOC_PesosChilenos | 690175.01            \n",
      " OrganismoPublico           | HOSPITAL DR GUSTA... \n",
      " sector                     | Salud                \n",
      " CiudadUnidadCompra         | Viña del Mar         \n",
      " RegionUnidadCompra         | Región de Valpara... \n",
      " PaisProveedor              | Chile                \n",
      " IDItem                     | 114888354            \n",
      " RubroN1                    | Equipamiento y su... \n",
      " RubroN2                    | Productos medicin... \n",
      " RubroN3                    | Dispositivos, acc... \n",
      " cantidad                   | 1.0                  \n",
      " UnidadMedida               | Unidad               \n",
      "-RECORD 14-----------------------------------------\n",
      " Estado                     | Recepcion Conforme   \n",
      " FechaCreacion              | 2021-01-29           \n",
      " FechaAceptacion            | 2022-05-05           \n",
      " MontoTotalOC_PesosChilenos | 2605778.7            \n",
      " OrganismoPublico           | SERVICIO DE SALUD... \n",
      " sector                     | Salud                \n",
      " CiudadUnidadCompra         | Providencia          \n",
      " RegionUnidadCompra         | Región Metropolit... \n",
      " PaisProveedor              | Chile                \n",
      " IDItem                     | 122021788            \n",
      " RubroN1                    | Medicamentos y pr... \n",
      " RubroN2                    | Medicamentos inmu... \n",
      " RubroN3                    | Inmunodepresores     \n",
      " cantidad                   | 10.0                 \n",
      " UnidadMedida               | Unidad               \n",
      "only showing top 15 rows\n",
      "\n"
     ]
    }
   ],
   "source": [
    "df.show(15,vertical=True)"
   ]
  },
  {
   "cell_type": "code",
   "execution_count": 168,
   "metadata": {},
   "outputs": [
    {
     "name": "stdout",
     "output_type": "stream",
     "text": [
      "root\n",
      " |-- Estado: string (nullable = true)\n",
      " |-- FechaCreacion: date (nullable = true)\n",
      " |-- FechaAceptacion: date (nullable = true)\n",
      " |-- MontoTotalOC_PesosChilenos: double (nullable = true)\n",
      " |-- OrganismoPublico: string (nullable = true)\n",
      " |-- sector: string (nullable = true)\n",
      " |-- CiudadUnidadCompra: string (nullable = true)\n",
      " |-- RegionUnidadCompra: string (nullable = true)\n",
      " |-- PaisProveedor: string (nullable = true)\n",
      " |-- IDItem: integer (nullable = true)\n",
      " |-- RubroN1: string (nullable = true)\n",
      " |-- RubroN2: string (nullable = true)\n",
      " |-- RubroN3: string (nullable = true)\n",
      " |-- cantidad: double (nullable = true)\n",
      " |-- UnidadMedida: string (nullable = true)\n",
      "\n"
     ]
    }
   ],
   "source": [
    "df.printSchema()"
   ]
  },
  {
   "cell_type": "code",
   "execution_count": 169,
   "metadata": {},
   "outputs": [
    {
     "data": {
      "text/plain": [
       "2583518"
      ]
     },
     "execution_count": 169,
     "metadata": {},
     "output_type": "execute_result"
    }
   ],
   "source": [
    "df.count()"
   ]
  },
  {
   "cell_type": "markdown",
   "metadata": {},
   "source": [
    "### Convertimos a Pandas"
   ]
  },
  {
   "cell_type": "markdown",
   "metadata": {},
   "source": [
    "Primero vamos a hacer un 'sample' de nuestro datos ya que Pandas no soporta los 2 millones de datos que tenemos. Por lo tanto, los resultados del PandaReport son una representación del dataset original."
   ]
  },
  {
   "cell_type": "code",
   "execution_count": 170,
   "metadata": {},
   "outputs": [],
   "source": [
    "df_sample = df.sample(False, 0.3, seed = 1)"
   ]
  },
  {
   "cell_type": "code",
   "execution_count": 171,
   "metadata": {},
   "outputs": [],
   "source": [
    "import sys\n",
    "import seaborn as sns \n",
    "import pandas as pd \n",
    "import numpy as np\n",
    "import matplotlib.pyplot as plt"
   ]
  },
  {
   "cell_type": "code",
   "execution_count": 172,
   "metadata": {},
   "outputs": [],
   "source": [
    "dfp = df_sample.toPandas() "
   ]
  },
  {
   "cell_type": "code",
   "execution_count": 173,
   "metadata": {},
   "outputs": [
    {
     "data": {
      "text/html": [
       "<div>\n",
       "<style scoped>\n",
       "    .dataframe tbody tr th:only-of-type {\n",
       "        vertical-align: middle;\n",
       "    }\n",
       "\n",
       "    .dataframe tbody tr th {\n",
       "        vertical-align: top;\n",
       "    }\n",
       "\n",
       "    .dataframe thead th {\n",
       "        text-align: right;\n",
       "    }\n",
       "</style>\n",
       "<table border=\"1\" class=\"dataframe\">\n",
       "  <thead>\n",
       "    <tr style=\"text-align: right;\">\n",
       "      <th></th>\n",
       "      <th>Estado</th>\n",
       "      <th>FechaCreacion</th>\n",
       "      <th>FechaAceptacion</th>\n",
       "      <th>MontoTotalOC_PesosChilenos</th>\n",
       "      <th>OrganismoPublico</th>\n",
       "      <th>sector</th>\n",
       "      <th>CiudadUnidadCompra</th>\n",
       "      <th>RegionUnidadCompra</th>\n",
       "      <th>PaisProveedor</th>\n",
       "      <th>IDItem</th>\n",
       "      <th>RubroN1</th>\n",
       "      <th>RubroN2</th>\n",
       "      <th>RubroN3</th>\n",
       "      <th>cantidad</th>\n",
       "      <th>UnidadMedida</th>\n",
       "    </tr>\n",
       "  </thead>\n",
       "  <tbody>\n",
       "    <tr>\n",
       "      <th>0</th>\n",
       "      <td>Enviada a proveedor</td>\n",
       "      <td>2017-09-27</td>\n",
       "      <td>None</td>\n",
       "      <td>1.080920e+09</td>\n",
       "      <td>I MUNICIPALIDAD DE PENALOLEN</td>\n",
       "      <td>Municipalidades</td>\n",
       "      <td>Peñalolén</td>\n",
       "      <td>Región Metropolitana de Santiago</td>\n",
       "      <td>Chile</td>\n",
       "      <td>89939120</td>\n",
       "      <td>Servicios de construcción y mantenimiento</td>\n",
       "      <td>Construcción de edificios en general</td>\n",
       "      <td>Construcción de obras civiles y infraestructuras</td>\n",
       "      <td>1.0</td>\n",
       "      <td>Unidad</td>\n",
       "    </tr>\n",
       "    <tr>\n",
       "      <th>1</th>\n",
       "      <td>Aceptada</td>\n",
       "      <td>2018-11-13</td>\n",
       "      <td>2022-05-26</td>\n",
       "      <td>2.838800e+09</td>\n",
       "      <td>SERVICIO DE VIVIENDA Y URBANIZACION VII REGION</td>\n",
       "      <td>Obras Públicas</td>\n",
       "      <td>Talca</td>\n",
       "      <td>Región del Maule</td>\n",
       "      <td>Chile</td>\n",
       "      <td>99540856</td>\n",
       "      <td>Servicios de construcción y mantenimiento</td>\n",
       "      <td>Construcción de edificios en general</td>\n",
       "      <td>Construcción de obras civiles y infraestructuras</td>\n",
       "      <td>1.0</td>\n",
       "      <td>Global</td>\n",
       "    </tr>\n",
       "    <tr>\n",
       "      <th>2</th>\n",
       "      <td>Aceptada</td>\n",
       "      <td>2018-11-13</td>\n",
       "      <td>2022-05-26</td>\n",
       "      <td>2.838800e+09</td>\n",
       "      <td>SERVICIO DE VIVIENDA Y URBANIZACION VII REGION</td>\n",
       "      <td>Obras Públicas</td>\n",
       "      <td>Talca</td>\n",
       "      <td>Región del Maule</td>\n",
       "      <td>Chile</td>\n",
       "      <td>99540857</td>\n",
       "      <td>Servicios de construcción y mantenimiento</td>\n",
       "      <td>Construcción de edificios en general</td>\n",
       "      <td>Construcción de obras civiles y infraestructuras</td>\n",
       "      <td>1.0</td>\n",
       "      <td>Global</td>\n",
       "    </tr>\n",
       "    <tr>\n",
       "      <th>3</th>\n",
       "      <td>Enviada a proveedor</td>\n",
       "      <td>2020-01-06</td>\n",
       "      <td>None</td>\n",
       "      <td>5.950000e+00</td>\n",
       "      <td>I MUNICIPALIDAD DE CERRILLOS</td>\n",
       "      <td>Municipalidades</td>\n",
       "      <td>Cerrillos</td>\n",
       "      <td>Región Metropolitana de Santiago</td>\n",
       "      <td>Chile</td>\n",
       "      <td>108796689</td>\n",
       "      <td>Servicios profesionales, administrativos y con...</td>\n",
       "      <td>Servicios para la comercialización y distribución</td>\n",
       "      <td>Distribución</td>\n",
       "      <td>1.0</td>\n",
       "      <td>Unidad</td>\n",
       "    </tr>\n",
       "    <tr>\n",
       "      <th>4</th>\n",
       "      <td>Recepcion Conforme</td>\n",
       "      <td>2020-08-27</td>\n",
       "      <td>2022-05-09</td>\n",
       "      <td>4.023592e+05</td>\n",
       "      <td>SERVICIO DE SALUD HOSPITAL DE RENGO</td>\n",
       "      <td>Salud</td>\n",
       "      <td>Rengo</td>\n",
       "      <td>Región del Libertador General Bernardo O´Higgins</td>\n",
       "      <td>Chile</td>\n",
       "      <td>112484357</td>\n",
       "      <td>Equipamiento y suministros médicos</td>\n",
       "      <td>Productos quirúrgicos</td>\n",
       "      <td>Juegos de instrumentos, sistemas y bandejas qu...</td>\n",
       "      <td>1.0</td>\n",
       "      <td>Global</td>\n",
       "    </tr>\n",
       "    <tr>\n",
       "      <th>5</th>\n",
       "      <td>Recepcion Conforme</td>\n",
       "      <td>2021-01-14</td>\n",
       "      <td>2022-05-09</td>\n",
       "      <td>6.188000e+04</td>\n",
       "      <td>SERVICIO DE SALUD COQUIMBO HOSPITAL DR. HUMBER...</td>\n",
       "      <td>Salud</td>\n",
       "      <td>Illapel</td>\n",
       "      <td>Región de Coquimbo</td>\n",
       "      <td>NA</td>\n",
       "      <td>114790898</td>\n",
       "      <td>Equipamiento y suministros médicos</td>\n",
       "      <td>Equipos y suministros odontológicos</td>\n",
       "      <td>Suministros y equipos de odontología cosmética</td>\n",
       "      <td>13.0</td>\n",
       "      <td>Unidad</td>\n",
       "    </tr>\n",
       "    <tr>\n",
       "      <th>6</th>\n",
       "      <td>Recepcion Conforme</td>\n",
       "      <td>2021-01-29</td>\n",
       "      <td>2022-05-05</td>\n",
       "      <td>2.605779e+06</td>\n",
       "      <td>SERVICIO DE SALUD ORIENTE HOSPITAL DEL SALVADOR</td>\n",
       "      <td>Salud</td>\n",
       "      <td>Providencia</td>\n",
       "      <td>Región Metropolitana de Santiago</td>\n",
       "      <td>Chile</td>\n",
       "      <td>122021788</td>\n",
       "      <td>Medicamentos y productos farmacéuticos</td>\n",
       "      <td>Medicamentos inmunomoduladores</td>\n",
       "      <td>Inmunodepresores</td>\n",
       "      <td>10.0</td>\n",
       "      <td>Unidad</td>\n",
       "    </tr>\n",
       "    <tr>\n",
       "      <th>7</th>\n",
       "      <td>Aceptada</td>\n",
       "      <td>2021-04-13</td>\n",
       "      <td>2022-05-23</td>\n",
       "      <td>1.823270e+06</td>\n",
       "      <td>SERVICIO DE SALUD CHILOE</td>\n",
       "      <td>Salud</td>\n",
       "      <td>Castro</td>\n",
       "      <td>Región de los Lagos</td>\n",
       "      <td>Chile</td>\n",
       "      <td>116057842</td>\n",
       "      <td>Ropa, maletas y productos de aseo personal</td>\n",
       "      <td>Artículos de baño o tocador</td>\n",
       "      <td>Artículos de baño y cuerpo</td>\n",
       "      <td>19152.0</td>\n",
       "      <td>Unidad</td>\n",
       "    </tr>\n",
       "    <tr>\n",
       "      <th>8</th>\n",
       "      <td>Aceptada</td>\n",
       "      <td>2021-06-10</td>\n",
       "      <td>2022-05-18</td>\n",
       "      <td>5.702480e+05</td>\n",
       "      <td>COMPLEJO ASISTENCIAL DR. SOTERO DEL RIO</td>\n",
       "      <td>Salud</td>\n",
       "      <td>Puente Alto</td>\n",
       "      <td>Región Metropolitana de Santiago</td>\n",
       "      <td>Chile</td>\n",
       "      <td>116943864</td>\n",
       "      <td>Ropa, maletas y productos de aseo personal</td>\n",
       "      <td>Artículos de baño o tocador</td>\n",
       "      <td>Artículos dentales</td>\n",
       "      <td>80.0</td>\n",
       "      <td>Unidad</td>\n",
       "    </tr>\n",
       "    <tr>\n",
       "      <th>9</th>\n",
       "      <td>Recepcion Conforme</td>\n",
       "      <td>2021-07-01</td>\n",
       "      <td>2022-05-25</td>\n",
       "      <td>1.178100e+07</td>\n",
       "      <td>HOSPITAL PUERTO MONTT SERVICIO DE SALUD DEL RE...</td>\n",
       "      <td>Salud</td>\n",
       "      <td>Puerto Montt</td>\n",
       "      <td>Región de los Lagos</td>\n",
       "      <td>Chile</td>\n",
       "      <td>117230674</td>\n",
       "      <td>Medicamentos y productos farmacéuticos</td>\n",
       "      <td>Agentes antitumorales</td>\n",
       "      <td>Antimetabolitos</td>\n",
       "      <td>3000.0</td>\n",
       "      <td>Frasco Ampolla</td>\n",
       "    </tr>\n",
       "  </tbody>\n",
       "</table>\n",
       "</div>"
      ],
      "text/plain": [
       "                Estado FechaCreacion FechaAceptacion  \\\n",
       "0  Enviada a proveedor    2017-09-27            None   \n",
       "1             Aceptada    2018-11-13      2022-05-26   \n",
       "2             Aceptada    2018-11-13      2022-05-26   \n",
       "3  Enviada a proveedor    2020-01-06            None   \n",
       "4   Recepcion Conforme    2020-08-27      2022-05-09   \n",
       "5   Recepcion Conforme    2021-01-14      2022-05-09   \n",
       "6   Recepcion Conforme    2021-01-29      2022-05-05   \n",
       "7             Aceptada    2021-04-13      2022-05-23   \n",
       "8             Aceptada    2021-06-10      2022-05-18   \n",
       "9   Recepcion Conforme    2021-07-01      2022-05-25   \n",
       "\n",
       "   MontoTotalOC_PesosChilenos  \\\n",
       "0                1.080920e+09   \n",
       "1                2.838800e+09   \n",
       "2                2.838800e+09   \n",
       "3                5.950000e+00   \n",
       "4                4.023592e+05   \n",
       "5                6.188000e+04   \n",
       "6                2.605779e+06   \n",
       "7                1.823270e+06   \n",
       "8                5.702480e+05   \n",
       "9                1.178100e+07   \n",
       "\n",
       "                                    OrganismoPublico           sector  \\\n",
       "0                       I MUNICIPALIDAD DE PENALOLEN  Municipalidades   \n",
       "1     SERVICIO DE VIVIENDA Y URBANIZACION VII REGION   Obras Públicas   \n",
       "2     SERVICIO DE VIVIENDA Y URBANIZACION VII REGION   Obras Públicas   \n",
       "3                       I MUNICIPALIDAD DE CERRILLOS  Municipalidades   \n",
       "4                SERVICIO DE SALUD HOSPITAL DE RENGO            Salud   \n",
       "5  SERVICIO DE SALUD COQUIMBO HOSPITAL DR. HUMBER...            Salud   \n",
       "6    SERVICIO DE SALUD ORIENTE HOSPITAL DEL SALVADOR            Salud   \n",
       "7                           SERVICIO DE SALUD CHILOE            Salud   \n",
       "8            COMPLEJO ASISTENCIAL DR. SOTERO DEL RIO            Salud   \n",
       "9  HOSPITAL PUERTO MONTT SERVICIO DE SALUD DEL RE...            Salud   \n",
       "\n",
       "  CiudadUnidadCompra                                RegionUnidadCompra  \\\n",
       "0          Peñalolén                  Región Metropolitana de Santiago   \n",
       "1              Talca                                 Región del Maule    \n",
       "2              Talca                                 Región del Maule    \n",
       "3          Cerrillos                  Región Metropolitana de Santiago   \n",
       "4              Rengo  Región del Libertador General Bernardo O´Higgins   \n",
       "5            Illapel                               Región de Coquimbo    \n",
       "6        Providencia                  Región Metropolitana de Santiago   \n",
       "7             Castro                              Región de los Lagos    \n",
       "8        Puente Alto                  Región Metropolitana de Santiago   \n",
       "9       Puerto Montt                              Región de los Lagos    \n",
       "\n",
       "  PaisProveedor     IDItem                                            RubroN1  \\\n",
       "0         Chile   89939120          Servicios de construcción y mantenimiento   \n",
       "1         Chile   99540856          Servicios de construcción y mantenimiento   \n",
       "2         Chile   99540857          Servicios de construcción y mantenimiento   \n",
       "3         Chile  108796689  Servicios profesionales, administrativos y con...   \n",
       "4         Chile  112484357                 Equipamiento y suministros médicos   \n",
       "5            NA  114790898                 Equipamiento y suministros médicos   \n",
       "6         Chile  122021788             Medicamentos y productos farmacéuticos   \n",
       "7         Chile  116057842         Ropa, maletas y productos de aseo personal   \n",
       "8         Chile  116943864         Ropa, maletas y productos de aseo personal   \n",
       "9         Chile  117230674             Medicamentos y productos farmacéuticos   \n",
       "\n",
       "                                             RubroN2  \\\n",
       "0               Construcción de edificios en general   \n",
       "1               Construcción de edificios en general   \n",
       "2               Construcción de edificios en general   \n",
       "3  Servicios para la comercialización y distribución   \n",
       "4                              Productos quirúrgicos   \n",
       "5                Equipos y suministros odontológicos   \n",
       "6                     Medicamentos inmunomoduladores   \n",
       "7                        Artículos de baño o tocador   \n",
       "8                        Artículos de baño o tocador   \n",
       "9                              Agentes antitumorales   \n",
       "\n",
       "                                             RubroN3  cantidad    UnidadMedida  \n",
       "0   Construcción de obras civiles y infraestructuras       1.0          Unidad  \n",
       "1   Construcción de obras civiles y infraestructuras       1.0          Global  \n",
       "2   Construcción de obras civiles y infraestructuras       1.0          Global  \n",
       "3                                       Distribución       1.0          Unidad  \n",
       "4  Juegos de instrumentos, sistemas y bandejas qu...       1.0          Global  \n",
       "5     Suministros y equipos de odontología cosmética      13.0          Unidad  \n",
       "6                                   Inmunodepresores      10.0          Unidad  \n",
       "7                         Artículos de baño y cuerpo   19152.0          Unidad  \n",
       "8                                 Artículos dentales      80.0          Unidad  \n",
       "9                                    Antimetabolitos    3000.0  Frasco Ampolla  "
      ]
     },
     "execution_count": 173,
     "metadata": {},
     "output_type": "execute_result"
    }
   ],
   "source": [
    "dfp.head(10) "
   ]
  },
  {
   "cell_type": "code",
   "execution_count": 174,
   "metadata": {},
   "outputs": [
    {
     "name": "stdout",
     "output_type": "stream",
     "text": [
      "Index(['Estado', 'FechaCreacion', 'FechaAceptacion',\n",
      "       'MontoTotalOC_PesosChilenos', 'OrganismoPublico', 'sector',\n",
      "       'CiudadUnidadCompra', 'RegionUnidadCompra', 'PaisProveedor', 'IDItem',\n",
      "       'RubroN1', 'RubroN2', 'RubroN3', 'cantidad', 'UnidadMedida'],\n",
      "      dtype='object')\n"
     ]
    }
   ],
   "source": [
    "df_category = dfp\n",
    "print(df_category.columns)"
   ]
  },
  {
   "cell_type": "code",
   "execution_count": 175,
   "metadata": {},
   "outputs": [],
   "source": [
    "for col in df_category.columns:\n",
    "    df_category[col] = df_category[col].astype('category')\n",
    "    df_category[col] = df_category[col].cat.codes"
   ]
  },
  {
   "cell_type": "code",
   "execution_count": 176,
   "metadata": {},
   "outputs": [],
   "source": [
    "dfpandas = df_category"
   ]
  },
  {
   "cell_type": "code",
   "execution_count": 177,
   "metadata": {},
   "outputs": [
    {
     "data": {
      "image/png": "[encoded data removed]",
      "text/plain": [
       "<Figure size 1440x1080 with 2 Axes>"
      ]
     },
     "metadata": {
      "needs_background": "light"
     },
     "output_type": "display_data"
    }
   ],
   "source": [
    "# Correlation matrix\n",
    "corr = dfpandas.corr()\n",
    "plt.subplots(figsize=(20,15))\n",
    "sns.heatmap(corr,  annot = True, fmt = '.2f')\n",
    "plt.title('Matriz de correlacion para dataset procesado', fontsize = 20)\n",
    "plt.show()"
   ]
  },
  {
   "cell_type": "code",
   "execution_count": 178,
   "metadata": {},
   "outputs": [],
   "source": [
    "# ! pip install https://github.com/ydataai/pandas-profiling/archive/master.zip"
   ]
  },
  {
   "cell_type": "code",
   "execution_count": 179,
   "metadata": {},
   "outputs": [],
   "source": [
    "import numpy as np\n",
    "import pandas as pd\n",
    "from pandas_profiling import ProfileReport\n",
    "from ipywidgets import FloatProgress\n",
    "import matplotlib.pyplot as plt\n",
    "%matplotlib inline\n",
    "\n",
    "profile = ProfileReport(dfpandas, title=\"Compras del estado Chileno\", minimal = True)"
   ]
  },
  {
   "cell_type": "code",
   "execution_count": 180,
   "metadata": {},
   "outputs": [
    {
     "data": {
      "application/vnd.jupyter.widget-view+json": {
       "model_id": "b577fa0f7a614dd7a5bc4e32f2b2a4c0",
       "version_major": 2,
       "version_minor": 0
      },
      "text/plain": [
       "Summarize dataset:   0%|          | 0/5 [00:00<?, ?it/s]"
      ]
     },
     "metadata": {},
     "output_type": "display_data"
    },
    {
     "data": {
      "application/vnd.jupyter.widget-view+json": {
       "model_id": "87f74c9907fd4d61b88f34f8f362cc1c",
       "version_major": 2,
       "version_minor": 0
      },
      "text/plain": [
       "Generate report structure:   0%|          | 0/1 [00:00<?, ?it/s]"
      ]
     },
     "metadata": {},
     "output_type": "display_data"
    },
    {
     "data": {
      "application/vnd.jupyter.widget-view+json": {
       "model_id": "c07ab252d5c84ed1b984ff11419a3353",
       "version_major": 2,
       "version_minor": 0
      },
      "text/plain": [
       "Render HTML:   0%|          | 0/1 [00:00<?, ?it/s]"
      ]
     },
     "metadata": {},
     "output_type": "display_data"
    },
    {
     "data": {
      "application/vnd.jupyter.widget-view+json": {
       "model_id": "328b42ae54194d0d965ec59ecd1b50f8",
       "version_major": 2,
       "version_minor": 0
      },
      "text/plain": [
       "Export report to file:   0%|          | 0/1 [00:00<?, ?it/s]"
      ]
     },
     "metadata": {},
     "output_type": "display_data"
    }
   ],
   "source": [
    "profile.to_file(\"ComprasChile.html\")"
   ]
  },
  {
   "cell_type": "markdown",
   "metadata": {},
   "source": [
    "### Análisis de DataSets en base a preguntas objetivo"
   ]
  },
  {
   "cell_type": "code",
   "execution_count": 181,
   "metadata": {},
   "outputs": [],
   "source": [
    "from pyspark.sql.functions import *"
   ]
  },
  {
   "cell_type": "code",
   "execution_count": 182,
   "metadata": {},
   "outputs": [],
   "source": [
    "# # UDF to process the currancy column\n",
    "\n",
    "conversionRate = 800 # How many chilean pesos = 1 dollar, estimated \n",
    "def toCurrancy (pesos):\n",
    "    \n",
    "    dollars = pesos/conversionRate\n",
    "    # roundedDollars = format_number(dollars,2)\n",
    "    finalDollars = f'US$ {dollars}'\n",
    "    return finalDollars\n",
    "    \n",
    "udfToCurrancy = udf(lambda x: toCurrancy(x))"
   ]
  },
  {
   "cell_type": "code",
   "execution_count": 183,
   "metadata": {},
   "outputs": [],
   "source": [
    "udfToDollars = udf(lambda x: 0 if x is None else x/800)"
   ]
  },
  {
   "cell_type": "code",
   "execution_count": 184,
   "metadata": {},
   "outputs": [],
   "source": [
    "# format(123,\"b\")"
   ]
  },
  {
   "cell_type": "markdown",
   "metadata": {},
   "source": [
    "#### ¿ Cual fue el gasto total del Estado Chileno en los meses analizados? \n",
    "\n",
    "Vamos a usar este valor como referencia para las consultas posteriores"
   ]
  },
  {
   "cell_type": "code",
   "execution_count": 185,
   "metadata": {},
   "outputs": [
    {
     "name": "stdout",
     "output_type": "stream",
     "text": [
      "+----------------------+\n",
      "|Total Gastos          |\n",
      "+----------------------+\n",
      "|US$ 19296558481.784412|\n",
      "+----------------------+\n",
      "\n"
     ]
    }
   ],
   "source": [
    "df.select(sum(col(\"MontoTotalOC_PesosChilenos\")).alias(\"Total Gastos\")).withColumn('Total Gastos', udfToCurrancy(col('Total Gastos'))).show(truncate=False)"
   ]
  },
  {
   "cell_type": "markdown",
   "metadata": {},
   "source": [
    "#### ¿Qué áreas está el Estado chileno invirtiendo más?"
   ]
  },
  {
   "cell_type": "code",
   "execution_count": 186,
   "metadata": {},
   "outputs": [
    {
     "name": "stdout",
     "output_type": "stream",
     "text": [
      "+---------------------------+----------------------+\n",
      "|sector                     |Total Gastos          |\n",
      "+---------------------------+----------------------+\n",
      "|Salud                      |US$ 9140982952.07336  |\n",
      "|Municipalidades            |US$ 4163129208.921431 |\n",
      "|Gob. Central, Universidades|US$ 3940400673.407895 |\n",
      "|FFAA                       |US$ 1381389997.2443807|\n",
      "|Obras Públicas             |US$ 424422809.1417977 |\n",
      "|Otros                      |US$ 139768648.41560945|\n",
      "|Legislativo y judicial     |US$ 106463692.39467688|\n",
      "|NA                         |US$ 500.185           |\n",
      "+---------------------------+----------------------+\n",
      "\n"
     ]
    }
   ],
   "source": [
    "# Primero comparamos por sector \n",
    "df.groupBy(\"sector\").agg(sum(col(\"MontoTotalOC_PesosChilenos\")).alias(\"Total Gastos\")).orderBy(desc(\"Total Gastos\")).withColumn('Total Gastos', udfToCurrancy(col('Total Gastos'))).show(truncate=False)"
   ]
  },
  {
   "cell_type": "code",
   "execution_count": 187,
   "metadata": {},
   "outputs": [
    {
     "name": "stdout",
     "output_type": "stream",
     "text": [
      "root\n",
      " |-- sector: string (nullable = true)\n",
      " |-- Total Gastos: double (nullable = true)\n",
      "\n"
     ]
    }
   ],
   "source": [
    "\n",
    "df_sector = df.groupBy(\"sector\").agg(sum(col(\"MontoTotalOC_PesosChilenos\")).alias(\"Total Gastos\")).orderBy(desc(\"Total Gastos\")).withColumn('Total Gastos', udfToDollars(col('Total Gastos')))\n",
    "\n",
    "df_sector = df_sector.withColumn('Total Gastos', df_sector['Total Gastos'].cast(DoubleType()))\n",
    "df_sector.printSchema()"
   ]
  },
  {
   "cell_type": "code",
   "execution_count": 188,
   "metadata": {},
   "outputs": [],
   "source": [
    "distinct_sectores = [x.sector for x in df_sector.select(col(\"sector\")).distinct().collect()]\n",
    "dfp_sector = df_sector.toPandas()"
   ]
  },
  {
   "cell_type": "code",
   "execution_count": 189,
   "metadata": {},
   "outputs": [
    {
     "data": {
      "text/plain": [
       "<BarContainer object of 8 artists>"
      ]
     },
     "execution_count": 189,
     "metadata": {},
     "output_type": "execute_result"
    },
    {
     "data": {
      "image/png": "[encoded data removed]",
      "text/plain": [
       "<Figure size 432x288 with 1 Axes>"
      ]
     },
     "metadata": {
      "needs_background": "light"
     },
     "output_type": "display_data"
    }
   ],
   "source": [
    "plt.title(\"Gastos por sector\")\n",
    "plt.xlabel(\"Sector\")\n",
    "plt.ylabel(\"Gastos\")\n",
    "plt.xticks(rotation=90, horizontalalignment=\"center\")\n",
    "plt.bar(distinct_sectores, dfp_sector[\"Total Gastos\"])"
   ]
  },
  {
   "cell_type": "code",
   "execution_count": 190,
   "metadata": {},
   "outputs": [
    {
     "name": "stdout",
     "output_type": "stream",
     "text": [
      "+-------------------------------------------------------------------------------------------------------+----------------------+\n",
      "|RubroN1                                                                                                |Total Gastos          |\n",
      "+-------------------------------------------------------------------------------------------------------+----------------------+\n",
      "|Equipamiento y suministros médicos                                                                     |US$ 2894063870.165091 |\n",
      "|Equipamiento para laboratorios                                                                         |US$ 2312798435.839395 |\n",
      "|Salud, servicios sanitarios y alimentación                                                             |US$ 1692528689.597693 |\n",
      "|Medicamentos y productos farmacéuticos                                                                 |US$ 1255459927.5666409|\n",
      "|NA                                                                                                     |US$ 1200620955.2502258|\n",
      "|Organizaciones y consultorías políticas, demográficas, económicas, sociales y de administración pública|US$ 963524342.4735539 |\n",
      "|Servicios de construcción y mantenimiento                                                              |US$ 640662116.784325  |\n",
      "|Servicios de transporte, almacenaje y correo                                                           |US$ 561795927.2084684 |\n",
      "|Artículos para estructuras, obras y construcciones                                                     |US$ 500451057.0346306 |\n",
      "|Tecnologías de la información, telecomunicaciones y radiodifusión                                      |US$ 499638656.1909534 |\n",
      "|Servicios agrícolas, pesqueros, forestales y relacionados con la fauna                                 |US$ 481312001.61084145|\n",
      "|Servicios profesionales, administrativos y consultorías de gestión empresarial                         |US$ 470729667.15989107|\n",
      "|Servicios de limpieza industrial                                                                       |US$ 443326645.7721547 |\n",
      "|Alimentos, bebidas y tabaco                                                                            |US$ 386644201.8988994 |\n",
      "|Equipos, accesorios y suministros de oficina                                                           |US$ 341828311.9239883 |\n",
      "|Servicios basados en ingeniería, ciencias sociales y tecnología de la información                      |US$ 339572932.0657452 |\n",
      "|Productos químicos industriales                                                                        |US$ 277647486.239413  |\n",
      "|Servicios de defensa nacional, orden público y seguridad                                               |US$ 255941847.55326036|\n",
      "|Herramientas y maquinaria en general                                                                   |US$ 230034598.14602262|\n",
      "|Servicios financieros, pensiones y seguros                                                             |US$ 229196610.947994  |\n",
      "+-------------------------------------------------------------------------------------------------------+----------------------+\n",
      "only showing top 20 rows\n",
      "\n"
     ]
    }
   ],
   "source": [
    "# Despues por rubros\n",
    "df.groupBy(\"RubroN1\").agg(sum(col(\"MontoTotalOC_PesosChilenos\")).alias(\"Total Gastos\")).orderBy(desc(\"Total Gastos\")).withColumn('Total Gastos', udfToCurrancy(col('Total Gastos'))).show(truncate=False)"
   ]
  },
  {
   "cell_type": "code",
   "execution_count": 191,
   "metadata": {
    "scrolled": true
   },
   "outputs": [
    {
     "name": "stdout",
     "output_type": "stream",
     "text": [
      "+-------------------------------------------------------------------+----------------------+\n",
      "|OrganismoPublico                                                   |Total Gastos          |\n",
      "+-------------------------------------------------------------------+----------------------+\n",
      "|CENTRAL DE ABASTECIMIENTO DEL SISTEMA NACIONAL DE SERVICIO DE SALUD|US$ 1100392540.7352586|\n",
      "|JUNTA NACIONAL DE AUXILIO ESCOLAR Y BECA                           |US$ 1032213429.5188076|\n",
      "|FONDO NACIONAL DE SALUD                                            |US$ 917812023.9465157 |\n",
      "|SUBSECRETARIA DE SALUD PUBLICA                                     |US$ 620118255.469775  |\n",
      "|I MUNICIPALIDAD DE VITACURA                                        |US$ 498211593.9527102 |\n",
      "|DIRECCION DE ABASTECIMIENTO DE LA ARMADA                           |US$ 305132131.07362705|\n",
      "|DIRECCION DE LOGISTICA DE CARABINEROS                              |US$ 295654003.07375044|\n",
      "|HOSPITAL GUILLERMO GRANT BENAVENTE DE CO                           |US$ 293663974.64997077|\n",
      "|DIRECCION GENERAL DE GENDARMERIA DE CHIL                           |US$ 265207830.1416502 |\n",
      "|SERVICIO DE SALUD METROPOLITANO SUR HOSP                           |US$ 262864534.88388458|\n",
      "|COMANDO DE APOYO A LA FUERZA                                       |US$ 254836006.25575668|\n",
      "|COMPLEJO ASISTENCIAL DR.VICTOR RIOS RUIZ                           |US$ 245975942.4848794 |\n",
      "|SERVICIO DE SALUD DE TALCAHUANO HOSPITAL                           |US$ 240452480.17201474|\n",
      "|MINISTERIO DE OBRAS PUBLICAS DIREC CION GRAL DE OO PP DCYF         |US$ 240244354.4744043 |\n",
      "|HOSPITAL PUERTO MONTT SERVICIO DE SALUD DEL RELONCAVI              |US$ 220629863.23280114|\n",
      "|HOSPITAL CLINICO METROPOLITANO DE LA FLORIDA DOCTORA ELOISA DIAZ   |US$ 209292478.33383244|\n",
      "|CORP NACIONAL FORESTAL                                             |US$ 204528876.35796016|\n",
      "|DIRECCION GENERAL DE AERONAUTICA CIVIL                             |US$ 202855421.28210026|\n",
      "|UNIVERSIDAD DE CHILE                                               |US$ 198086837.58794993|\n",
      "|SERVICIO NACIONAL DE SALUD HOSPITAL CARLOS VAN BUREN               |US$ 188029075.8062274 |\n",
      "+-------------------------------------------------------------------+----------------------+\n",
      "only showing top 20 rows\n",
      "\n"
     ]
    }
   ],
   "source": [
    "# Organizada por Oganismo\n",
    "df.groupBy(\"OrganismoPublico\").agg(sum(col(\"MontoTotalOC_PesosChilenos\")).alias(\"Total Gastos\")).orderBy(desc(\"Total Gastos\")).withColumn('Total Gastos', udfToCurrancy(col('Total Gastos'))).show(truncate=False)"
   ]
  },
  {
   "cell_type": "markdown",
   "metadata": {},
   "source": [
    "#### ¿Cuántos gastos mayores al millón de dólares fueron efectuados entre el  noviembre 2021 y mayo de 2022?"
   ]
  },
  {
   "cell_type": "code",
   "execution_count": 192,
   "metadata": {},
   "outputs": [
    {
     "name": "stdout",
     "output_type": "stream",
     "text": [
      "+--------------------------+\n",
      "|MontoTotalOC_PesosChilenos|\n",
      "+--------------------------+\n",
      "|US$ 180793733.7822        |\n",
      "|US$ 160531139.8845        |\n",
      "|US$ 137111022.9523125     |\n",
      "|US$ 124999999.99795       |\n",
      "|US$ 101605205.7897625     |\n",
      "|US$ 90002897.79019737     |\n",
      "|US$ 85728076.0788375      |\n",
      "|US$ 83474885.3616125      |\n",
      "|US$ 82047239.01125        |\n",
      "|US$ 77958575.1287875      |\n",
      "|US$ 69490000.20891249     |\n",
      "|US$ 68750000.0            |\n",
      "|US$ 58892400.512695245    |\n",
      "|US$ 55239733.7289         |\n",
      "|US$ 54584927.2032875      |\n",
      "|US$ 53655761.25           |\n",
      "|US$ 48889654.77689999     |\n",
      "|US$ 40448885.32375        |\n",
      "|US$ 30769383.75           |\n",
      "|US$ 29278462.5            |\n",
      "+--------------------------+\n",
      "only showing top 20 rows\n",
      "\n"
     ]
    }
   ],
   "source": [
    "df_gastos = df.select(col(\"MontoTotalOC_PesosChilenos\")).filter(udfToDollars(col(\"MontoTotalOC_PesosChilenos\")) > 1000000.00).orderBy(desc(\"MontoTotalOC_PesosChilenos\")).withColumn('MontoTotalOC_PesosChilenos', udfToCurrancy(col('MontoTotalOC_PesosChilenos')))\n",
    "df_gastos.show(truncate=False)"
   ]
  },
  {
   "cell_type": "code",
   "execution_count": 193,
   "metadata": {},
   "outputs": [
    {
     "data": {
      "text/plain": [
       "1125"
      ]
     },
     "execution_count": 193,
     "metadata": {},
     "output_type": "execute_result"
    }
   ],
   "source": [
    "df_gastos.count()"
   ]
  },
  {
   "cell_type": "markdown",
   "metadata": {},
   "source": [
    "#### ¿Cuál fue el gasto promedio en general?"
   ]
  },
  {
   "cell_type": "code",
   "execution_count": 194,
   "metadata": {},
   "outputs": [
    {
     "name": "stdout",
     "output_type": "stream",
     "text": [
      "+---------------------+\n",
      "|Promedio de Gastos   |\n",
      "+---------------------+\n",
      "|US$ 7469.101621039379|\n",
      "+---------------------+\n",
      "\n"
     ]
    }
   ],
   "source": [
    "df.select(avg(col(\"MontoTotalOC_PesosChilenos\")).alias(\"Promedio de Gastos\")).withColumn('Promedio de Gastos', udfToCurrancy(col('Promedio de Gastos'))).show(truncate=False)"
   ]
  },
  {
   "cell_type": "markdown",
   "metadata": {},
   "source": [
    "#### ¿Cuál fue el gasto promedio por mes?"
   ]
  },
  {
   "cell_type": "code",
   "execution_count": 195,
   "metadata": {},
   "outputs": [
    {
     "name": "stdout",
     "output_type": "stream",
     "text": [
      "+---+----------------------+\n",
      "|Mes|Promedio Gastos       |\n",
      "+---+----------------------+\n",
      "|4  |US$ 8886.924194756082 |\n",
      "|1  |US$ 7733.39857138297  |\n",
      "|2  |US$ 7520.633271631128 |\n",
      "|12 |US$ 7509.860858906118 |\n",
      "|3  |US$ 7500.9920141175135|\n",
      "|5  |US$ 6805.256133604525 |\n",
      "|11 |US$ 5912.731330693129 |\n",
      "+---+----------------------+\n",
      "\n"
     ]
    }
   ],
   "source": [
    "df.filter(~col(\"FechaAceptacion\").isNull()).groupBy(month(col(\"FechaAceptacion\")).alias(\"Mes\")).agg(avg(col(\"MontoTotalOC_PesosChilenos\")).alias(\"Promedio Gastos\")).orderBy(desc(\"Promedio Gastos\")).withColumn('Promedio Gastos', udfToCurrancy(col('Promedio Gastos'))).show(truncate=False)"
   ]
  },
  {
   "cell_type": "code",
   "execution_count": 196,
   "metadata": {},
   "outputs": [
    {
     "name": "stdout",
     "output_type": "stream",
     "text": [
      "root\n",
      " |-- Mes: integer (nullable = true)\n",
      " |-- Promedio Gastos: double (nullable = true)\n",
      "\n"
     ]
    }
   ],
   "source": [
    "df_promedio_mes = df.filter(~col(\"FechaAceptacion\").isNull()).groupBy(month(col(\"FechaAceptacion\")).alias(\"Mes\")).agg(avg(col(\"MontoTotalOC_PesosChilenos\")).alias(\"Promedio Gastos\")).orderBy(desc(\"Promedio Gastos\")).withColumn('Promedio Gastos', udfToDollars(col('Promedio Gastos')))\n",
    "\n",
    "df_promedio_mes = df_promedio_mes.withColumn('Promedio Gastos', df_promedio_mes['Promedio Gastos'].cast(DoubleType()))\n",
    "df_promedio_mes.printSchema()"
   ]
  },
  {
   "cell_type": "code",
   "execution_count": 197,
   "metadata": {},
   "outputs": [],
   "source": [
    "dfp_promedio_mes = df_promedio_mes.toPandas()"
   ]
  },
  {
   "cell_type": "code",
   "execution_count": 200,
   "metadata": {},
   "outputs": [
    {
     "data": {
      "text/plain": [
       "<BarContainer object of 7 artists>"
      ]
     },
     "execution_count": 200,
     "metadata": {},
     "output_type": "execute_result"
    },
    {
     "data": {
      "image/png": "[encoded data removed]",
      "text/plain": [
       "<Figure size 432x288 with 1 Axes>"
      ]
     },
     "metadata": {
      "needs_background": "light"
     },
     "output_type": "display_data"
    }
   ],
   "source": [
    "x = ['Abril-22', 'Marzo-22', 'Enero-22', 'Febrero-22', 'Diciembre-21', 'Noviembre-21', 'Mayo-22']\n",
    "plt.title(\"Promedio Gastos por Mes\")\n",
    "plt.xlabel(\"Mes\")\n",
    "plt.ylabel(\"Promedio Gastos\")\n",
    "plt.xticks(rotation=90, horizontalalignment=\"center\")\n",
    "plt.bar(x, dfp_promedio_mes[\"Promedio Gastos\"])"
   ]
  },
  {
   "cell_type": "markdown",
   "metadata": {},
   "source": [
    "#### ¿Cuál fue la compra más repetido del estado?"
   ]
  },
  {
   "cell_type": "code",
   "execution_count": 201,
   "metadata": {},
   "outputs": [
    {
     "name": "stdout",
     "output_type": "stream",
     "text": [
      "+---------+-----+\n",
      "|IDItem   |count|\n",
      "+---------+-----+\n",
      "|119302809|3    |\n",
      "|119221096|2    |\n",
      "|122194044|2    |\n",
      "|121667811|2    |\n",
      "|121361741|2    |\n",
      "|121369080|2    |\n",
      "|120160195|2    |\n",
      "|122239748|2    |\n",
      "|121922883|2    |\n",
      "|119221094|2    |\n",
      "|121435741|2    |\n",
      "|121408768|2    |\n",
      "|122022272|2    |\n",
      "|121391900|2    |\n",
      "|121391882|2    |\n",
      "|121369076|2    |\n",
      "|121391893|2    |\n",
      "|121459477|2    |\n",
      "|122194043|2    |\n",
      "|121124510|2    |\n",
      "+---------+-----+\n",
      "only showing top 20 rows\n",
      "\n"
     ]
    }
   ],
   "source": [
    "df.select(col(\"IDItem\")).groupBy(col(\"IDItem\")).count().orderBy(desc(\"count\")).show(truncate=False)"
   ]
  },
  {
   "cell_type": "markdown",
   "metadata": {},
   "source": [
    "#### ¿En que regiónes se realizáron los mayores gastos?"
   ]
  },
  {
   "cell_type": "code",
   "execution_count": 202,
   "metadata": {},
   "outputs": [
    {
     "name": "stdout",
     "output_type": "stream",
     "text": [
      "+------------------------------------------------+----------------------+\n",
      "|RegionUnidadCompra                              |Total Gastos          |\n",
      "+------------------------------------------------+----------------------+\n",
      "|Región Metropolitana de Santiago                |US$ 9726191215.729637 |\n",
      "|Región del Biobío                               |US$ 1669574831.8253264|\n",
      "|Región de Valparaíso                            |US$ 1479406405.440116 |\n",
      "|Región de los Lagos                             |US$ 943703690.8789825 |\n",
      "|Región de la Araucanía                          |US$ 836759325.3841362 |\n",
      "|Región del Maule                                |US$ 747147902.9702007 |\n",
      "|Región del Libertador General Bernardo O´Higgins|US$ 557784473.5291831 |\n",
      "|Región de Coquimbo                              |US$ 485359333.11864173|\n",
      "|Región de Antofagasta                           |US$ 471098818.01557386|\n",
      "|Región de Tarapacá                              |US$ 452090128.9755069 |\n",
      "|Región del Ñuble                                |US$ 414427291.8833255 |\n",
      "|Región de Los Ríos                              |US$ 391264735.5064629 |\n",
      "|Región de Atacama                               |US$ 373797888.6927664 |\n",
      "|Región Aysén del General Carlos Ibáñez del Campo|US$ 253664833.99211487|\n",
      "|Región de Magallanes y de la Antártica          |US$ 239261623.0091438 |\n",
      "|Región de Arica y Parinacota                    |US$ 222632200.8626574 |\n",
      "|NA                                              |US$ 32393781.970445957|\n",
      "+------------------------------------------------+----------------------+\n",
      "\n"
     ]
    }
   ],
   "source": [
    "df.groupBy(\"RegionUnidadCompra\").agg(sum(col(\"MontoTotalOC_PesosChilenos\")).alias(\"Total Gastos\")).orderBy(desc(\"Total Gastos\")).withColumn('Total Gastos', udfToCurrancy(col('Total Gastos'))).show(truncate=False)"
   ]
  },
  {
   "cell_type": "code",
   "execution_count": 203,
   "metadata": {},
   "outputs": [
    {
     "name": "stdout",
     "output_type": "stream",
     "text": [
      "root\n",
      " |-- RegionUnidadCompra: string (nullable = true)\n",
      " |-- Total Gastos: double (nullable = true)\n",
      "\n"
     ]
    }
   ],
   "source": [
    "df_region = df.groupBy(\"RegionUnidadCompra\").agg(sum(col(\"MontoTotalOC_PesosChilenos\")).alias(\"Total Gastos\")).orderBy(desc(\"Total Gastos\")).withColumn('Total Gastos', udfToDollars(col('Total Gastos')))\n",
    "\n",
    "df_region = df_region.withColumn('Total Gastos', df_region['Total Gastos'].cast(DoubleType()))\n",
    "df_region.printSchema()"
   ]
  },
  {
   "cell_type": "code",
   "execution_count": 204,
   "metadata": {},
   "outputs": [],
   "source": [
    "distinct_regions = [x.RegionUnidadCompra for x in df_region.select(col(\"RegionUnidadCompra\")).distinct().collect()]\n",
    "dfp_region = df_region.toPandas()"
   ]
  },
  {
   "cell_type": "code",
   "execution_count": 205,
   "metadata": {},
   "outputs": [
    {
     "data": {
      "text/plain": [
       "<BarContainer object of 17 artists>"
      ]
     },
     "execution_count": 205,
     "metadata": {},
     "output_type": "execute_result"
    },
    {
     "data": {
      "image/png": "[encoded data removed]",
      "text/plain": [
       "<Figure size 432x288 with 1 Axes>"
      ]
     },
     "metadata": {
      "needs_background": "light"
     },
     "output_type": "display_data"
    }
   ],
   "source": [
    "plt.title(\"Gasto por Region\")\n",
    "plt.xlabel(\"Region\")\n",
    "plt.ylabel(\"Gastos\")\n",
    "plt.xticks(rotation=0, horizontalalignment=\"center\")\n",
    "plt.barh(distinct_regions, dfp_region[\"Total Gastos\"])"
   ]
  },
  {
   "cell_type": "code",
   "execution_count": 206,
   "metadata": {},
   "outputs": [
    {
     "name": "stdout",
     "output_type": "stream",
     "text": [
      "+------------------+----------------------+\n",
      "|CiudadUnidadCompra|Total Gastos          |\n",
      "+------------------+----------------------+\n",
      "|Santiago          |US$ 4050483734.5224714|\n",
      "|Ñuñoa             |US$ 1279047861.940128 |\n",
      "|Valparaíso        |US$ 631125192.8908137 |\n",
      "|Concepción        |US$ 522534088.8630412 |\n",
      "|Providencia       |US$ 508981904.49704146|\n",
      "|Vitacura          |US$ 499591950.92922   |\n",
      "|Puerto Montt      |US$ 492305832.1736099 |\n",
      "|San Miguel        |US$ 349411891.39090437|\n",
      "|Temuco            |US$ 348539520.2187585 |\n",
      "|Independencia     |US$ 346407874.7875627 |\n",
      "|Talca             |US$ 346060463.46316916|\n",
      "|Puente Alto       |US$ 326906370.5329699 |\n",
      "|Antofagasta       |US$ 318792386.13193226|\n",
      "|Iquique           |US$ 313520892.82657343|\n",
      "|Talcahuano        |US$ 296247267.33693826|\n",
      "|Viña del Mar      |US$ 293719460.10062975|\n",
      "|Los Angeles       |US$ 284642727.70607   |\n",
      "|Alhué             |US$ 262051981.01589024|\n",
      "|La Florida        |US$ 221856301.2597122 |\n",
      "|Arica             |US$ 212401652.42360547|\n",
      "+------------------+----------------------+\n",
      "only showing top 20 rows\n",
      "\n"
     ]
    }
   ],
   "source": [
    "# ¿En que ciudades se realizáron los mayores gastos?\n",
    "df.groupBy(\"CiudadUnidadCompra\").agg(sum(col(\"MontoTotalOC_PesosChilenos\")).alias(\"Total Gastos\")).orderBy(desc(\"Total Gastos\")).withColumn('Total Gastos', udfToCurrancy(col('Total Gastos'))).show(truncate=False)"
   ]
  },
  {
   "cell_type": "code",
   "execution_count": 207,
   "metadata": {},
   "outputs": [
    {
     "name": "stdout",
     "output_type": "stream",
     "text": [
      "+------------------+\n",
      "|Promedio de Tiempo|\n",
      "+------------------+\n",
      "|7.205086330938212 |\n",
      "+------------------+\n",
      "\n"
     ]
    }
   ],
   "source": [
    "# ¿Cuál es el tiempo promedio desde que se solicita la orden de compra, hasta que se autorice?\n",
    "df.select(avg(datediff(col(\"FechaAceptacion\"), col(\"FechaCreacion\"))).alias(\"Promedio de Tiempo\")).orderBy(desc(\"Promedio de Tiempo\")).show(truncate=False)\n"
   ]
  }
 ],
 "metadata": {
  "kernelspec": {
   "display_name": "Python 3",
   "language": "python",
   "name": "python3"
  },
  "language_info": {
   "codemirror_mode": {
    "name": "ipython",
    "version": 3
   },
   "file_extension": ".py",
   "mimetype": "text/x-python",
   "name": "python",
   "nbconvert_exporter": "python",
   "pygments_lexer": "ipython3",
   "version": "3.7.3"
  }
 },
 "nbformat": 4,
 "nbformat_minor": 2
}
